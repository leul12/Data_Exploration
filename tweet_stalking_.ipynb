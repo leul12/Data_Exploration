{
  "cells": [
    {
      "cell_type": "markdown",
      "metadata": {
        "colab_type": "text",
        "id": "view-in-github"
      },
      "source": [
        "<a href=\"https://colab.research.google.com/github/leul12/Data_Exploration/blob/main/tweet_stalking_.ipynb\" target=\"_parent\"><img src=\"https://colab.research.google.com/assets/colab-badge.svg\" alt=\"Open In Colab\"/></a>"
      ]
    },
    {
      "cell_type": "code",
      "execution_count": 1,
      "metadata": {
        "id": "959WPvyIAkrW"
      },
      "outputs": [],
      "source": [
        "import numpy as np # linear algebra\n",
        "import pandas as pd # data processing, CSV file I/O (e.g. pd.read_csv)\n",
        "import os\n",
        "import itertools\n",
        "from datetime import datetime\n",
        "import datetime\n",
        "import time\n",
        "from pandas.io.json import json_normalize\n",
        "import json\n",
        "# from tqdm.notebook import tqdm_notebook\n",
        "import plotly.graph_objects as go\n",
        "import seaborn as sns\n",
        "import matplotlib.pyplot as plt\n",
        "sns.set_theme(style=\"darkgrid\")"
      ]
    },
    {
      "cell_type": "markdown",
      "metadata": {
        "id": "HYO0XFDIA39c"
      },
      "source": [
        "## Let's Check the version 🐍"
      ]
    },
    {
      "cell_type": "code",
      "execution_count": 2,
      "metadata": {
        "colab": {
          "base_uri": "https://localhost:8080/"
        },
        "id": "en7hjVvLAvHC",
        "outputId": "9aa29327-46c5-4c0b-fe54-98cac741f0ee"
      },
      "outputs": [
        {
          "name": "stdout",
          "output_type": "stream",
          "text": [
            "3.10.4\n"
          ]
        }
      ],
      "source": [
        "from platform import python_version\n",
        "print(python_version())"
      ]
    },
    {
      "cell_type": "markdown",
      "metadata": {
        "id": "oVZv361ZBVay"
      },
      "source": [
        "## Okay now we can do our **job**\n",
        "\n",
        "1.   Let's install the 🔨\n",
        "2.   Extract the 🗄️\n",
        "3.   And So on\n",
        "\n"
      ]
    },
    {
      "cell_type": "markdown",
      "metadata": {
        "id": "ZB9K74ONCbLU"
      },
      "source": [
        "# ⬆️ install the tool 🔨"
      ]
    },
    {
      "cell_type": "code",
      "execution_count": 3,
      "metadata": {
        "colab": {
          "base_uri": "https://localhost:8080/"
        },
        "id": "-BL6xlzlBT9K",
        "outputId": "7c75a1b6-65e5-496c-9a2f-6f1cffb5c3f1"
      },
      "outputs": [
        {
          "name": "stdout",
          "output_type": "stream",
          "text": [
            "Collecting git+https://github.com/JustAnotherArchivist/snscrape.git\n",
            "  Cloning https://github.com/JustAnotherArchivist/snscrape.git to /tmp/pip-req-build-r64yebs6\n",
            "  Running command git clone --filter=blob:none --quiet https://github.com/JustAnotherArchivist/snscrape.git /tmp/pip-req-build-r64yebs6\n",
            "  Resolved https://github.com/JustAnotherArchivist/snscrape.git to commit b515a66b937276eafff41cf6b897c53ecf3d54a2\n",
            "  Installing build dependencies ... \u001b[?25ldone\n",
            "\u001b[?25h  Getting requirements to build wheel ... \u001b[?25ldone\n",
            "\u001b[?25h  Installing backend dependencies ... \u001b[?25ldone\n",
            "\u001b[?25h  Preparing metadata (pyproject.toml) ... \u001b[?25ldone\n",
            "\u001b[?25hRequirement already satisfied: requests[socks] in /home/codespace/.local/lib/python3.10/site-packages (from snscrape==0.5.0.20230114.dev6+gb515a66) (2.28.1)\n",
            "Requirement already satisfied: beautifulsoup4 in /home/codespace/.local/lib/python3.10/site-packages (from snscrape==0.5.0.20230114.dev6+gb515a66) (4.11.1)\n",
            "Requirement already satisfied: filelock in /usr/local/python/3.10.4/lib/python3.10/site-packages (from snscrape==0.5.0.20230114.dev6+gb515a66) (3.9.0)\n",
            "Requirement already satisfied: lxml in /usr/local/python/3.10.4/lib/python3.10/site-packages (from snscrape==0.5.0.20230114.dev6+gb515a66) (4.9.2)\n",
            "Requirement already satisfied: soupsieve>1.2 in /home/codespace/.local/lib/python3.10/site-packages (from beautifulsoup4->snscrape==0.5.0.20230114.dev6+gb515a66) (2.3.2.post1)\n",
            "Requirement already satisfied: idna<4,>=2.5 in /home/codespace/.local/lib/python3.10/site-packages (from requests[socks]->snscrape==0.5.0.20230114.dev6+gb515a66) (3.4)\n",
            "Requirement already satisfied: certifi>=2017.4.17 in /home/codespace/.local/lib/python3.10/site-packages (from requests[socks]->snscrape==0.5.0.20230114.dev6+gb515a66) (2022.9.24)\n",
            "Requirement already satisfied: charset-normalizer<3,>=2 in /home/codespace/.local/lib/python3.10/site-packages (from requests[socks]->snscrape==0.5.0.20230114.dev6+gb515a66) (2.1.1)\n",
            "Requirement already satisfied: urllib3<1.27,>=1.21.1 in /home/codespace/.local/lib/python3.10/site-packages (from requests[socks]->snscrape==0.5.0.20230114.dev6+gb515a66) (1.26.13)\n",
            "Requirement already satisfied: PySocks!=1.5.7,>=1.5.6 in /usr/local/python/3.10.4/lib/python3.10/site-packages (from requests[socks]->snscrape==0.5.0.20230114.dev6+gb515a66) (1.7.1)\n",
            "Note: you may need to restart the kernel to use updated packages.\n"
          ]
        }
      ],
      "source": [
        "pip install git+https://github.com/JustAnotherArchivist/snscrape.git"
      ]
    },
    {
      "cell_type": "markdown",
      "metadata": {
        "id": "mXYdpqw0CxVa"
      },
      "source": [
        "## 🤔   **how to extract the tweets ?** no worries ⬇️"
      ]
    },
    {
      "cell_type": "code",
      "execution_count": 4,
      "metadata": {
        "id": "6TSk_iwZCTw6"
      },
      "outputs": [],
      "source": [
        "import snscrape.modules.twitter as sntwitter"
      ]
    },
    {
      "cell_type": "markdown",
      "metadata": {
        "id": "2yk5gU1pC5BT"
      },
      "source": [
        "# okay now some magic to get the actual 🐦 using the **itertools** 😉"
      ]
    },
    {
      "cell_type": "code",
      "execution_count": 5,
      "metadata": {
        "colab": {
          "base_uri": "https://localhost:8080/",
          "height": 310
        },
        "id": "vhpnSZ3PC4ML",
        "outputId": "5a07217d-cb08-43c5-a8a9-ce81d3c7415f"
      },
      "outputs": [
        {
          "data": {
            "text/html": [
              "<div>\n",
              "<style scoped>\n",
              "    .dataframe tbody tr th:only-of-type {\n",
              "        vertical-align: middle;\n",
              "    }\n",
              "\n",
              "    .dataframe tbody tr th {\n",
              "        vertical-align: top;\n",
              "    }\n",
              "\n",
              "    .dataframe thead th {\n",
              "        text-align: right;\n",
              "    }\n",
              "</style>\n",
              "<table border=\"1\" class=\"dataframe\">\n",
              "  <thead>\n",
              "    <tr style=\"text-align: right;\">\n",
              "      <th></th>\n",
              "      <th>url</th>\n",
              "      <th>date</th>\n",
              "      <th>rawContent</th>\n",
              "      <th>renderedContent</th>\n",
              "      <th>id</th>\n",
              "      <th>user</th>\n",
              "      <th>replyCount</th>\n",
              "      <th>retweetCount</th>\n",
              "      <th>likeCount</th>\n",
              "      <th>quoteCount</th>\n",
              "      <th>...</th>\n",
              "      <th>inReplyToTweetId</th>\n",
              "      <th>inReplyToUser</th>\n",
              "      <th>mentionedUsers</th>\n",
              "      <th>coordinates</th>\n",
              "      <th>place</th>\n",
              "      <th>hashtags</th>\n",
              "      <th>cashtags</th>\n",
              "      <th>card</th>\n",
              "      <th>viewCount</th>\n",
              "      <th>vibe</th>\n",
              "    </tr>\n",
              "  </thead>\n",
              "  <tbody>\n",
              "    <tr>\n",
              "      <th>0</th>\n",
              "      <td>https://twitter.com/AIBiotechnology/status/161...</td>\n",
              "      <td>2023-01-24 08:00:00+00:00</td>\n",
              "      <td>@John_Anti_Trump No vaccine here. Out partying...</td>\n",
              "      <td>@John_Anti_Trump No vaccine here. Out partying...</td>\n",
              "      <td>1617794332446330882</td>\n",
              "      <td>{'username': 'AIBiotechnology', 'id': 10018530...</td>\n",
              "      <td>0</td>\n",
              "      <td>0</td>\n",
              "      <td>0</td>\n",
              "      <td>0</td>\n",
              "      <td>...</td>\n",
              "      <td>1.617212e+18</td>\n",
              "      <td>{'username': 'John_Anti_Trump', 'id': 13296114...</td>\n",
              "      <td>[{'username': 'John_Anti_Trump', 'id': 1329611...</td>\n",
              "      <td>None</td>\n",
              "      <td>None</td>\n",
              "      <td>[covid, vaccine, vaccineinjuries]</td>\n",
              "      <td>None</td>\n",
              "      <td>None</td>\n",
              "      <td>NaN</td>\n",
              "      <td>None</td>\n",
              "    </tr>\n",
              "    <tr>\n",
              "      <th>1</th>\n",
              "      <td>https://twitter.com/Geostrategic777/status/161...</td>\n",
              "      <td>2023-01-24 07:58:10+00:00</td>\n",
              "      <td>UNDERCOVER VIDEO: Pfizer Scientists Knew That ...</td>\n",
              "      <td>UNDERCOVER VIDEO: Pfizer Scientists Knew That ...</td>\n",
              "      <td>1617793870112358402</td>\n",
              "      <td>{'username': 'Geostrategic777', 'id': 83861925...</td>\n",
              "      <td>0</td>\n",
              "      <td>0</td>\n",
              "      <td>0</td>\n",
              "      <td>0</td>\n",
              "      <td>...</td>\n",
              "      <td>NaN</td>\n",
              "      <td>None</td>\n",
              "      <td>None</td>\n",
              "      <td>None</td>\n",
              "      <td>None</td>\n",
              "      <td>[Covid, Vaccine, CovidVaccine]</td>\n",
              "      <td>None</td>\n",
              "      <td>{'title': 'UNDERCOVER VIDEO: Pfizer Scientists...</td>\n",
              "      <td>2.0</td>\n",
              "      <td>None</td>\n",
              "    </tr>\n",
              "  </tbody>\n",
              "</table>\n",
              "<p>2 rows × 29 columns</p>\n",
              "</div>"
            ],
            "text/plain": [
              "                                                 url  \\\n",
              "0  https://twitter.com/AIBiotechnology/status/161...   \n",
              "1  https://twitter.com/Geostrategic777/status/161...   \n",
              "\n",
              "                       date  \\\n",
              "0 2023-01-24 08:00:00+00:00   \n",
              "1 2023-01-24 07:58:10+00:00   \n",
              "\n",
              "                                          rawContent  \\\n",
              "0  @John_Anti_Trump No vaccine here. Out partying...   \n",
              "1  UNDERCOVER VIDEO: Pfizer Scientists Knew That ...   \n",
              "\n",
              "                                     renderedContent                   id  \\\n",
              "0  @John_Anti_Trump No vaccine here. Out partying...  1617794332446330882   \n",
              "1  UNDERCOVER VIDEO: Pfizer Scientists Knew That ...  1617793870112358402   \n",
              "\n",
              "                                                user  replyCount  \\\n",
              "0  {'username': 'AIBiotechnology', 'id': 10018530...           0   \n",
              "1  {'username': 'Geostrategic777', 'id': 83861925...           0   \n",
              "\n",
              "   retweetCount  likeCount  quoteCount  ...  inReplyToTweetId  \\\n",
              "0             0          0           0  ...      1.617212e+18   \n",
              "1             0          0           0  ...               NaN   \n",
              "\n",
              "                                       inReplyToUser  \\\n",
              "0  {'username': 'John_Anti_Trump', 'id': 13296114...   \n",
              "1                                               None   \n",
              "\n",
              "                                      mentionedUsers coordinates place  \\\n",
              "0  [{'username': 'John_Anti_Trump', 'id': 1329611...        None  None   \n",
              "1                                               None        None  None   \n",
              "\n",
              "                            hashtags cashtags  \\\n",
              "0  [covid, vaccine, vaccineinjuries]     None   \n",
              "1     [Covid, Vaccine, CovidVaccine]     None   \n",
              "\n",
              "                                                card viewCount  vibe  \n",
              "0                                               None       NaN  None  \n",
              "1  {'title': 'UNDERCOVER VIDEO: Pfizer Scientists...       2.0  None  \n",
              "\n",
              "[2 rows x 29 columns]"
            ]
          },
          "execution_count": 5,
          "metadata": {},
          "output_type": "execute_result"
        }
      ],
      "source": [
        "df = pd.DataFrame(itertools.islice(\n",
        "    sntwitter.TwitterSearchScraper('#vaccine').get_items(), 300))\n",
        "# let's Test what kind of data we can get from it (if it works)\n",
        "df.head(2)"
      ]
    },
    {
      "cell_type": "markdown",
      "metadata": {
        "id": "jS9-aggAD8JC"
      },
      "source": [
        "# okay Now that we got this out of the way what now 🤔\n",
        "\n",
        "\n",
        "*   we check data heads\n",
        "*   clean some columns [user , hastags , date , mentionedUsers & inReplyToUser ]\n",
        "*   and take it form there \n",
        "*   🚶‍♂️\n",
        "\n"
      ]
    },
    {
      "cell_type": "code",
      "execution_count": 6,
      "metadata": {
        "colab": {
          "base_uri": "https://localhost:8080/",
          "height": 275
        },
        "id": "qk21A1tSHZpR",
        "outputId": "87c2b49d-3bfa-4db2-f796-90ecb5198a6d"
      },
      "outputs": [
        {
          "data": {
            "text/html": [
              "<div>\n",
              "<style scoped>\n",
              "    .dataframe tbody tr th:only-of-type {\n",
              "        vertical-align: middle;\n",
              "    }\n",
              "\n",
              "    .dataframe tbody tr th {\n",
              "        vertical-align: top;\n",
              "    }\n",
              "\n",
              "    .dataframe thead th {\n",
              "        text-align: right;\n",
              "    }\n",
              "</style>\n",
              "<table border=\"1\" class=\"dataframe\">\n",
              "  <thead>\n",
              "    <tr style=\"text-align: right;\">\n",
              "      <th></th>\n",
              "      <th>username</th>\n",
              "      <th>id</th>\n",
              "      <th>displayname</th>\n",
              "      <th>rawDescription</th>\n",
              "      <th>renderedDescription</th>\n",
              "      <th>descriptionLinks</th>\n",
              "      <th>verified</th>\n",
              "      <th>created</th>\n",
              "      <th>followersCount</th>\n",
              "      <th>friendsCount</th>\n",
              "      <th>...</th>\n",
              "      <th>location</th>\n",
              "      <th>protected</th>\n",
              "      <th>profileImageUrl</th>\n",
              "      <th>profileBannerUrl</th>\n",
              "      <th>label</th>\n",
              "      <th>link.text</th>\n",
              "      <th>link.url</th>\n",
              "      <th>link.tcourl</th>\n",
              "      <th>link.indices</th>\n",
              "      <th>link</th>\n",
              "    </tr>\n",
              "  </thead>\n",
              "  <tbody>\n",
              "    <tr>\n",
              "      <th>0</th>\n",
              "      <td>AIBiotechnology</td>\n",
              "      <td>100185304</td>\n",
              "      <td>AI Biotechnology correlation suppose not causa...</td>\n",
              "      <td>All posts and retweets are NOT endorsements. I...</td>\n",
              "      <td>All posts and retweets are NOT endorsements. I...</td>\n",
              "      <td>None</td>\n",
              "      <td>False</td>\n",
              "      <td>2009-12-29 09:36:31+00:00</td>\n",
              "      <td>5168</td>\n",
              "      <td>5517</td>\n",
              "      <td>...</td>\n",
              "      <td>Raleigh, NC</td>\n",
              "      <td>False</td>\n",
              "      <td>https://pbs.twimg.com/profile_images/154180796...</td>\n",
              "      <td>https://pbs.twimg.com/profile_banners/10018530...</td>\n",
              "      <td>None</td>\n",
              "      <td>bitira.go2cloud.org/aff_c?offer_id…</td>\n",
              "      <td>https://bitira.go2cloud.org/aff_c?offer_id=5&amp;a...</td>\n",
              "      <td>https://t.co/4Z5aglQLRJ</td>\n",
              "      <td>(0, 23)</td>\n",
              "      <td>NaN</td>\n",
              "    </tr>\n",
              "    <tr>\n",
              "      <th>1</th>\n",
              "      <td>Geostrategic777</td>\n",
              "      <td>838619254530408449</td>\n",
              "      <td>Mark Espinola 🇺🇸</td>\n",
              "      <td>Commodity trader, #SlavaUkraini, Trump, Israel...</td>\n",
              "      <td>Commodity trader, #SlavaUkraini, Trump, Israel...</td>\n",
              "      <td>None</td>\n",
              "      <td>False</td>\n",
              "      <td>2017-03-06 05:16:25+00:00</td>\n",
              "      <td>846</td>\n",
              "      <td>1856</td>\n",
              "      <td>...</td>\n",
              "      <td>NYC</td>\n",
              "      <td>False</td>\n",
              "      <td>https://pbs.twimg.com/profile_images/876755956...</td>\n",
              "      <td>https://pbs.twimg.com/profile_banners/83861925...</td>\n",
              "      <td>None</td>\n",
              "      <td>NaN</td>\n",
              "      <td>NaN</td>\n",
              "      <td>NaN</td>\n",
              "      <td>NaN</td>\n",
              "      <td>NaN</td>\n",
              "    </tr>\n",
              "  </tbody>\n",
              "</table>\n",
              "<p>2 rows × 24 columns</p>\n",
              "</div>"
            ],
            "text/plain": [
              "          username                  id  \\\n",
              "0  AIBiotechnology           100185304   \n",
              "1  Geostrategic777  838619254530408449   \n",
              "\n",
              "                                         displayname  \\\n",
              "0  AI Biotechnology correlation suppose not causa...   \n",
              "1                                   Mark Espinola 🇺🇸   \n",
              "\n",
              "                                      rawDescription  \\\n",
              "0  All posts and retweets are NOT endorsements. I...   \n",
              "1  Commodity trader, #SlavaUkraini, Trump, Israel...   \n",
              "\n",
              "                                 renderedDescription descriptionLinks  \\\n",
              "0  All posts and retweets are NOT endorsements. I...             None   \n",
              "1  Commodity trader, #SlavaUkraini, Trump, Israel...             None   \n",
              "\n",
              "   verified                   created  followersCount  friendsCount  ...  \\\n",
              "0     False 2009-12-29 09:36:31+00:00            5168          5517  ...   \n",
              "1     False 2017-03-06 05:16:25+00:00             846          1856  ...   \n",
              "\n",
              "      location  protected                                    profileImageUrl  \\\n",
              "0  Raleigh, NC      False  https://pbs.twimg.com/profile_images/154180796...   \n",
              "1         NYC       False  https://pbs.twimg.com/profile_images/876755956...   \n",
              "\n",
              "                                    profileBannerUrl label  \\\n",
              "0  https://pbs.twimg.com/profile_banners/10018530...  None   \n",
              "1  https://pbs.twimg.com/profile_banners/83861925...  None   \n",
              "\n",
              "                             link.text  \\\n",
              "0  bitira.go2cloud.org/aff_c?offer_id…   \n",
              "1                                  NaN   \n",
              "\n",
              "                                            link.url              link.tcourl  \\\n",
              "0  https://bitira.go2cloud.org/aff_c?offer_id=5&a...  https://t.co/4Z5aglQLRJ   \n",
              "1                                                NaN                      NaN   \n",
              "\n",
              "  link.indices link  \n",
              "0      (0, 23)  NaN  \n",
              "1          NaN  NaN  \n",
              "\n",
              "[2 rows x 24 columns]"
            ]
          },
          "execution_count": 6,
          "metadata": {},
          "output_type": "execute_result"
        }
      ],
      "source": [
        "dfuser= pd.json_normalize(df['user'])\n",
        "dfuser.head(2)"
      ]
    },
    {
      "cell_type": "markdown",
      "metadata": {
        "id": "BThLWSGqlHhF"
      },
      "source": [
        "# NOw Let's Take what we need and add the to the main Data Frame ⚙️"
      ]
    },
    {
      "cell_type": "code",
      "execution_count": 7,
      "metadata": {
        "colab": {
          "base_uri": "https://localhost:8080/",
          "height": 112
        },
        "id": "32acKLEWg3LV",
        "outputId": "6411e5ed-16bd-4da3-a261-0826517bdecf"
      },
      "outputs": [
        {
          "data": {
            "text/html": [
              "<div>\n",
              "<style scoped>\n",
              "    .dataframe tbody tr th:only-of-type {\n",
              "        vertical-align: middle;\n",
              "    }\n",
              "\n",
              "    .dataframe tbody tr th {\n",
              "        vertical-align: top;\n",
              "    }\n",
              "\n",
              "    .dataframe thead th {\n",
              "        text-align: right;\n",
              "    }\n",
              "</style>\n",
              "<table border=\"1\" class=\"dataframe\">\n",
              "  <thead>\n",
              "    <tr style=\"text-align: right;\">\n",
              "      <th></th>\n",
              "      <th>username</th>\n",
              "      <th>verified</th>\n",
              "      <th>created</th>\n",
              "      <th>followersCount</th>\n",
              "      <th>friendsCount</th>\n",
              "      <th>protected</th>\n",
              "    </tr>\n",
              "  </thead>\n",
              "  <tbody>\n",
              "    <tr>\n",
              "      <th>0</th>\n",
              "      <td>AIBiotechnology</td>\n",
              "      <td>False</td>\n",
              "      <td>2009-12-29 09:36:31+00:00</td>\n",
              "      <td>5168</td>\n",
              "      <td>5517</td>\n",
              "      <td>False</td>\n",
              "    </tr>\n",
              "    <tr>\n",
              "      <th>1</th>\n",
              "      <td>Geostrategic777</td>\n",
              "      <td>False</td>\n",
              "      <td>2017-03-06 05:16:25+00:00</td>\n",
              "      <td>846</td>\n",
              "      <td>1856</td>\n",
              "      <td>False</td>\n",
              "    </tr>\n",
              "  </tbody>\n",
              "</table>\n",
              "</div>"
            ],
            "text/plain": [
              "          username  verified                   created  followersCount  \\\n",
              "0  AIBiotechnology     False 2009-12-29 09:36:31+00:00            5168   \n",
              "1  Geostrategic777     False 2017-03-06 05:16:25+00:00             846   \n",
              "\n",
              "   friendsCount  protected  \n",
              "0          5517      False  \n",
              "1          1856      False  "
            ]
          },
          "execution_count": 7,
          "metadata": {},
          "output_type": "execute_result"
        }
      ],
      "source": [
        "dfuser.drop(['id','displayname','rawDescription','renderedDescription','descriptionLinks','location','statusesCount','favouritesCount','listedCount',\n",
        "                  'mediaCount','link','profileImageUrl','profileBannerUrl','label','link.text','link.url','link.tcourl','link.indices'], axis = 1, inplace = True)\n",
        "dfuser.head(2)"
      ]
    },
    {
      "cell_type": "markdown",
      "metadata": {
        "id": "eYlrT3W6udGq"
      },
      "source": [
        "# now that we 🫧 the 🧫  time to add it to the clean data sets"
      ]
    },
    {
      "cell_type": "code",
      "execution_count": 8,
      "metadata": {
        "colab": {
          "base_uri": "https://localhost:8080/",
          "height": 191
        },
        "id": "C18JD-Rpu4tL",
        "outputId": "5886c930-f30f-435c-f5ae-75d2afb6a5a7"
      },
      "outputs": [
        {
          "data": {
            "text/html": [
              "<div>\n",
              "<style scoped>\n",
              "    .dataframe tbody tr th:only-of-type {\n",
              "        vertical-align: middle;\n",
              "    }\n",
              "\n",
              "    .dataframe tbody tr th {\n",
              "        vertical-align: top;\n",
              "    }\n",
              "\n",
              "    .dataframe thead th {\n",
              "        text-align: right;\n",
              "    }\n",
              "</style>\n",
              "<table border=\"1\" class=\"dataframe\">\n",
              "  <thead>\n",
              "    <tr style=\"text-align: right;\">\n",
              "      <th></th>\n",
              "      <th>url</th>\n",
              "      <th>date</th>\n",
              "      <th>rawContent</th>\n",
              "      <th>id</th>\n",
              "      <th>replyCount</th>\n",
              "      <th>retweetCount</th>\n",
              "      <th>likeCount</th>\n",
              "      <th>quoteCount</th>\n",
              "      <th>conversationId</th>\n",
              "      <th>lang</th>\n",
              "      <th>source</th>\n",
              "      <th>sourceLabel</th>\n",
              "      <th>viewCount</th>\n",
              "      <th>vibe</th>\n",
              "    </tr>\n",
              "  </thead>\n",
              "  <tbody>\n",
              "    <tr>\n",
              "      <th>0</th>\n",
              "      <td>https://twitter.com/AIBiotechnology/status/161...</td>\n",
              "      <td>2023-01-24 08:00:00+00:00</td>\n",
              "      <td>@John_Anti_Trump No vaccine here. Out partying...</td>\n",
              "      <td>1617794332446330882</td>\n",
              "      <td>0</td>\n",
              "      <td>0</td>\n",
              "      <td>0</td>\n",
              "      <td>0</td>\n",
              "      <td>1617212144432422912</td>\n",
              "      <td>en</td>\n",
              "      <td>&lt;a href=\"https://mobile.twitter.com\" rel=\"nofo...</td>\n",
              "      <td>Twitter Web App</td>\n",
              "      <td>NaN</td>\n",
              "      <td>None</td>\n",
              "    </tr>\n",
              "    <tr>\n",
              "      <th>1</th>\n",
              "      <td>https://twitter.com/Geostrategic777/status/161...</td>\n",
              "      <td>2023-01-24 07:58:10+00:00</td>\n",
              "      <td>UNDERCOVER VIDEO: Pfizer Scientists Knew That ...</td>\n",
              "      <td>1617793870112358402</td>\n",
              "      <td>0</td>\n",
              "      <td>0</td>\n",
              "      <td>0</td>\n",
              "      <td>0</td>\n",
              "      <td>1617793870112358402</td>\n",
              "      <td>en</td>\n",
              "      <td>&lt;a href=\"https://mobile.twitter.com\" rel=\"nofo...</td>\n",
              "      <td>Twitter Web App</td>\n",
              "      <td>2.0</td>\n",
              "      <td>None</td>\n",
              "    </tr>\n",
              "  </tbody>\n",
              "</table>\n",
              "</div>"
            ],
            "text/plain": [
              "                                                 url  \\\n",
              "0  https://twitter.com/AIBiotechnology/status/161...   \n",
              "1  https://twitter.com/Geostrategic777/status/161...   \n",
              "\n",
              "                       date  \\\n",
              "0 2023-01-24 08:00:00+00:00   \n",
              "1 2023-01-24 07:58:10+00:00   \n",
              "\n",
              "                                          rawContent                   id  \\\n",
              "0  @John_Anti_Trump No vaccine here. Out partying...  1617794332446330882   \n",
              "1  UNDERCOVER VIDEO: Pfizer Scientists Knew That ...  1617793870112358402   \n",
              "\n",
              "   replyCount  retweetCount  likeCount  quoteCount       conversationId lang  \\\n",
              "0           0             0          0           0  1617212144432422912   en   \n",
              "1           0             0          0           0  1617793870112358402   en   \n",
              "\n",
              "                                              source      sourceLabel  \\\n",
              "0  <a href=\"https://mobile.twitter.com\" rel=\"nofo...  Twitter Web App   \n",
              "1  <a href=\"https://mobile.twitter.com\" rel=\"nofo...  Twitter Web App   \n",
              "\n",
              "   viewCount  vibe  \n",
              "0        NaN  None  \n",
              "1        2.0  None  "
            ]
          },
          "execution_count": 8,
          "metadata": {},
          "output_type": "execute_result"
        }
      ],
      "source": [
        "df2=df.drop(['user','renderedContent','sourceUrl','hashtags','cashtags','card','inReplyToTweetId','inReplyToUser','mentionedUsers','coordinates','links','media','retweetedTweet','quotedTweet','place'],axis=1)\n",
        "df2.head(2)"
      ]
    },
    {
      "cell_type": "code",
      "execution_count": 9,
      "metadata": {
        "colab": {
          "base_uri": "https://localhost:8080/",
          "height": 263
        },
        "id": "XqjAD7egpa0f",
        "outputId": "269abb32-57c0-44b3-94f2-fa977c728171"
      },
      "outputs": [
        {
          "data": {
            "text/html": [
              "<div>\n",
              "<style scoped>\n",
              "    .dataframe tbody tr th:only-of-type {\n",
              "        vertical-align: middle;\n",
              "    }\n",
              "\n",
              "    .dataframe tbody tr th {\n",
              "        vertical-align: top;\n",
              "    }\n",
              "\n",
              "    .dataframe thead th {\n",
              "        text-align: right;\n",
              "    }\n",
              "</style>\n",
              "<table border=\"1\" class=\"dataframe\">\n",
              "  <thead>\n",
              "    <tr style=\"text-align: right;\">\n",
              "      <th></th>\n",
              "      <th>url</th>\n",
              "      <th>date</th>\n",
              "      <th>rawContent</th>\n",
              "      <th>id</th>\n",
              "      <th>replyCount</th>\n",
              "      <th>retweetCount</th>\n",
              "      <th>likeCount</th>\n",
              "      <th>quoteCount</th>\n",
              "      <th>conversationId</th>\n",
              "      <th>lang</th>\n",
              "      <th>source</th>\n",
              "      <th>sourceLabel</th>\n",
              "      <th>viewCount</th>\n",
              "      <th>vibe</th>\n",
              "      <th>username</th>\n",
              "      <th>verified</th>\n",
              "      <th>created</th>\n",
              "      <th>followersCount</th>\n",
              "      <th>friendsCount</th>\n",
              "      <th>protected</th>\n",
              "    </tr>\n",
              "  </thead>\n",
              "  <tbody>\n",
              "    <tr>\n",
              "      <th>0</th>\n",
              "      <td>https://twitter.com/AIBiotechnology/status/161...</td>\n",
              "      <td>2023-01-24 08:00:00+00:00</td>\n",
              "      <td>@John_Anti_Trump No vaccine here. Out partying...</td>\n",
              "      <td>1617794332446330882</td>\n",
              "      <td>0</td>\n",
              "      <td>0</td>\n",
              "      <td>0</td>\n",
              "      <td>0</td>\n",
              "      <td>1617212144432422912</td>\n",
              "      <td>en</td>\n",
              "      <td>&lt;a href=\"https://mobile.twitter.com\" rel=\"nofo...</td>\n",
              "      <td>Twitter Web App</td>\n",
              "      <td>NaN</td>\n",
              "      <td>None</td>\n",
              "      <td>AIBiotechnology</td>\n",
              "      <td>False</td>\n",
              "      <td>2009-12-29 09:36:31+00:00</td>\n",
              "      <td>5168</td>\n",
              "      <td>5517</td>\n",
              "      <td>False</td>\n",
              "    </tr>\n",
              "    <tr>\n",
              "      <th>1</th>\n",
              "      <td>https://twitter.com/Geostrategic777/status/161...</td>\n",
              "      <td>2023-01-24 07:58:10+00:00</td>\n",
              "      <td>UNDERCOVER VIDEO: Pfizer Scientists Knew That ...</td>\n",
              "      <td>1617793870112358402</td>\n",
              "      <td>0</td>\n",
              "      <td>0</td>\n",
              "      <td>0</td>\n",
              "      <td>0</td>\n",
              "      <td>1617793870112358402</td>\n",
              "      <td>en</td>\n",
              "      <td>&lt;a href=\"https://mobile.twitter.com\" rel=\"nofo...</td>\n",
              "      <td>Twitter Web App</td>\n",
              "      <td>2.0</td>\n",
              "      <td>None</td>\n",
              "      <td>Geostrategic777</td>\n",
              "      <td>False</td>\n",
              "      <td>2017-03-06 05:16:25+00:00</td>\n",
              "      <td>846</td>\n",
              "      <td>1856</td>\n",
              "      <td>False</td>\n",
              "    </tr>\n",
              "  </tbody>\n",
              "</table>\n",
              "</div>"
            ],
            "text/plain": [
              "                                                 url  \\\n",
              "0  https://twitter.com/AIBiotechnology/status/161...   \n",
              "1  https://twitter.com/Geostrategic777/status/161...   \n",
              "\n",
              "                       date  \\\n",
              "0 2023-01-24 08:00:00+00:00   \n",
              "1 2023-01-24 07:58:10+00:00   \n",
              "\n",
              "                                          rawContent                   id  \\\n",
              "0  @John_Anti_Trump No vaccine here. Out partying...  1617794332446330882   \n",
              "1  UNDERCOVER VIDEO: Pfizer Scientists Knew That ...  1617793870112358402   \n",
              "\n",
              "   replyCount  retweetCount  likeCount  quoteCount       conversationId lang  \\\n",
              "0           0             0          0           0  1617212144432422912   en   \n",
              "1           0             0          0           0  1617793870112358402   en   \n",
              "\n",
              "                                              source      sourceLabel  \\\n",
              "0  <a href=\"https://mobile.twitter.com\" rel=\"nofo...  Twitter Web App   \n",
              "1  <a href=\"https://mobile.twitter.com\" rel=\"nofo...  Twitter Web App   \n",
              "\n",
              "   viewCount  vibe         username  verified                   created  \\\n",
              "0        NaN  None  AIBiotechnology     False 2009-12-29 09:36:31+00:00   \n",
              "1        2.0  None  Geostrategic777     False 2017-03-06 05:16:25+00:00   \n",
              "\n",
              "   followersCount  friendsCount  protected  \n",
              "0            5168          5517      False  \n",
              "1             846          1856      False  "
            ]
          },
          "execution_count": 9,
          "metadata": {},
          "output_type": "execute_result"
        }
      ],
      "source": [
        "result = pd.concat([df2, dfuser], axis=1)\n",
        "result.head(2)"
      ]
    },
    {
      "cell_type": "markdown",
      "metadata": {
        "id": "3Dbz7Rd1uK0F"
      },
      "source": [
        "# ⏱️ manuplation"
      ]
    },
    {
      "cell_type": "code",
      "execution_count": 10,
      "metadata": {
        "colab": {
          "base_uri": "https://localhost:8080/",
          "height": 294
        },
        "id": "m11DUv6wZ-Os",
        "outputId": "fd1460d0-043a-4db9-b9de-ca6a57b9b040"
      },
      "outputs": [
        {
          "data": {
            "text/html": [
              "<div>\n",
              "<style scoped>\n",
              "    .dataframe tbody tr th:only-of-type {\n",
              "        vertical-align: middle;\n",
              "    }\n",
              "\n",
              "    .dataframe tbody tr th {\n",
              "        vertical-align: top;\n",
              "    }\n",
              "\n",
              "    .dataframe thead th {\n",
              "        text-align: right;\n",
              "    }\n",
              "</style>\n",
              "<table border=\"1\" class=\"dataframe\">\n",
              "  <thead>\n",
              "    <tr style=\"text-align: right;\">\n",
              "      <th></th>\n",
              "      <th>url</th>\n",
              "      <th>rawContent</th>\n",
              "      <th>id</th>\n",
              "      <th>replyCount</th>\n",
              "      <th>retweetCount</th>\n",
              "      <th>likeCount</th>\n",
              "      <th>quoteCount</th>\n",
              "      <th>conversationId</th>\n",
              "      <th>lang</th>\n",
              "      <th>source</th>\n",
              "      <th>sourceLabel</th>\n",
              "      <th>viewCount</th>\n",
              "      <th>vibe</th>\n",
              "      <th>username</th>\n",
              "      <th>verified</th>\n",
              "      <th>created</th>\n",
              "      <th>followersCount</th>\n",
              "      <th>friendsCount</th>\n",
              "      <th>protected</th>\n",
              "    </tr>\n",
              "    <tr>\n",
              "      <th>date</th>\n",
              "      <th></th>\n",
              "      <th></th>\n",
              "      <th></th>\n",
              "      <th></th>\n",
              "      <th></th>\n",
              "      <th></th>\n",
              "      <th></th>\n",
              "      <th></th>\n",
              "      <th></th>\n",
              "      <th></th>\n",
              "      <th></th>\n",
              "      <th></th>\n",
              "      <th></th>\n",
              "      <th></th>\n",
              "      <th></th>\n",
              "      <th></th>\n",
              "      <th></th>\n",
              "      <th></th>\n",
              "      <th></th>\n",
              "    </tr>\n",
              "  </thead>\n",
              "  <tbody>\n",
              "    <tr>\n",
              "      <th>2023-01-24 08:00:00+00:00</th>\n",
              "      <td>https://twitter.com/AIBiotechnology/status/161...</td>\n",
              "      <td>@John_Anti_Trump No vaccine here. Out partying...</td>\n",
              "      <td>1617794332446330882</td>\n",
              "      <td>0</td>\n",
              "      <td>0</td>\n",
              "      <td>0</td>\n",
              "      <td>0</td>\n",
              "      <td>1617212144432422912</td>\n",
              "      <td>en</td>\n",
              "      <td>&lt;a href=\"https://mobile.twitter.com\" rel=\"nofo...</td>\n",
              "      <td>Twitter Web App</td>\n",
              "      <td>NaN</td>\n",
              "      <td>None</td>\n",
              "      <td>AIBiotechnology</td>\n",
              "      <td>False</td>\n",
              "      <td>2009-12-29 09:36:31+00:00</td>\n",
              "      <td>5168</td>\n",
              "      <td>5517</td>\n",
              "      <td>False</td>\n",
              "    </tr>\n",
              "    <tr>\n",
              "      <th>2023-01-24 07:58:10+00:00</th>\n",
              "      <td>https://twitter.com/Geostrategic777/status/161...</td>\n",
              "      <td>UNDERCOVER VIDEO: Pfizer Scientists Knew That ...</td>\n",
              "      <td>1617793870112358402</td>\n",
              "      <td>0</td>\n",
              "      <td>0</td>\n",
              "      <td>0</td>\n",
              "      <td>0</td>\n",
              "      <td>1617793870112358402</td>\n",
              "      <td>en</td>\n",
              "      <td>&lt;a href=\"https://mobile.twitter.com\" rel=\"nofo...</td>\n",
              "      <td>Twitter Web App</td>\n",
              "      <td>2.0</td>\n",
              "      <td>None</td>\n",
              "      <td>Geostrategic777</td>\n",
              "      <td>False</td>\n",
              "      <td>2017-03-06 05:16:25+00:00</td>\n",
              "      <td>846</td>\n",
              "      <td>1856</td>\n",
              "      <td>False</td>\n",
              "    </tr>\n",
              "  </tbody>\n",
              "</table>\n",
              "</div>"
            ],
            "text/plain": [
              "                                                                         url  \\\n",
              "date                                                                           \n",
              "2023-01-24 08:00:00+00:00  https://twitter.com/AIBiotechnology/status/161...   \n",
              "2023-01-24 07:58:10+00:00  https://twitter.com/Geostrategic777/status/161...   \n",
              "\n",
              "                                                                  rawContent  \\\n",
              "date                                                                           \n",
              "2023-01-24 08:00:00+00:00  @John_Anti_Trump No vaccine here. Out partying...   \n",
              "2023-01-24 07:58:10+00:00  UNDERCOVER VIDEO: Pfizer Scientists Knew That ...   \n",
              "\n",
              "                                            id  replyCount  retweetCount  \\\n",
              "date                                                                       \n",
              "2023-01-24 08:00:00+00:00  1617794332446330882           0             0   \n",
              "2023-01-24 07:58:10+00:00  1617793870112358402           0             0   \n",
              "\n",
              "                           likeCount  quoteCount       conversationId lang  \\\n",
              "date                                                                         \n",
              "2023-01-24 08:00:00+00:00          0           0  1617212144432422912   en   \n",
              "2023-01-24 07:58:10+00:00          0           0  1617793870112358402   en   \n",
              "\n",
              "                                                                      source  \\\n",
              "date                                                                           \n",
              "2023-01-24 08:00:00+00:00  <a href=\"https://mobile.twitter.com\" rel=\"nofo...   \n",
              "2023-01-24 07:58:10+00:00  <a href=\"https://mobile.twitter.com\" rel=\"nofo...   \n",
              "\n",
              "                               sourceLabel  viewCount  vibe         username  \\\n",
              "date                                                                           \n",
              "2023-01-24 08:00:00+00:00  Twitter Web App        NaN  None  AIBiotechnology   \n",
              "2023-01-24 07:58:10+00:00  Twitter Web App        2.0  None  Geostrategic777   \n",
              "\n",
              "                           verified                   created  followersCount  \\\n",
              "date                                                                            \n",
              "2023-01-24 08:00:00+00:00     False 2009-12-29 09:36:31+00:00            5168   \n",
              "2023-01-24 07:58:10+00:00     False 2017-03-06 05:16:25+00:00             846   \n",
              "\n",
              "                           friendsCount  protected  \n",
              "date                                                \n",
              "2023-01-24 08:00:00+00:00          5517      False  \n",
              "2023-01-24 07:58:10+00:00          1856      False  "
            ]
          },
          "execution_count": 10,
          "metadata": {},
          "output_type": "execute_result"
        }
      ],
      "source": [
        "result.set_index('date').head(2)"
      ]
    },
    {
      "cell_type": "code",
      "execution_count": null,
      "metadata": {
        "id": "reb5_jWVeCR1"
      },
      "outputs": [],
      "source": []
    }
  ],
  "metadata": {
    "colab": {
      "authorship_tag": "ABX9TyOfwwYbIfybGES3BSFmdBIw",
      "include_colab_link": true,
      "provenance": []
    },
    "kernelspec": {
      "display_name": "Python 3",
      "language": "python",
      "name": "python3"
    },
    "language_info": {
      "codemirror_mode": {
        "name": "ipython",
        "version": 3
      },
      "file_extension": ".py",
      "mimetype": "text/x-python",
      "name": "python",
      "nbconvert_exporter": "python",
      "pygments_lexer": "ipython3",
      "version": "3.10.4"
    },
    "vscode": {
      "interpreter": {
        "hash": "3ad933181bd8a04b432d3370b9dc3b0662ad032c4dfaa4e4f1596c548f763858"
      }
    }
  },
  "nbformat": 4,
  "nbformat_minor": 0
}
