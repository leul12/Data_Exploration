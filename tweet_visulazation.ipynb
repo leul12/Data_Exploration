{
 "cells": [
  {
   "attachments": {},
   "cell_type": "markdown",
   "metadata": {},
   "source": [
    "# **WElCOME TO PART TWO** 🖼️"
   ]
  },
  {
   "attachments": {},
   "cell_type": "markdown",
   "metadata": {},
   "source": [
    "## let's import all the make ups that we need to beautify our ugly bride 💄"
   ]
  },
  {
   "cell_type": "code",
   "execution_count": 40,
   "metadata": {},
   "outputs": [],
   "source": [
    "import pandas as pd\n",
    "import nltk\n",
    "from cleantext.sklearn import CleanTransformer\n",
    "import seaborn as sns\n",
    "import matplotlib.pyplot as plt\n",
    "from wordcloud import WordCloud\n",
    "import plotly.express as px\n",
    "import re\n",
    "sns.set_theme(style=\"darkgrid\")\n",
    "from textblob import TextBlob, Word, Blobber\n",
    "from textblob.classifiers import NaiveBayesClassifier\n",
    "from textblob.taggers import NLTKTagger"
   ]
  },
  {
   "attachments": {},
   "cell_type": "markdown",
   "metadata": {},
   "source": [
    "## now that we have that out of the way time to load the data and 🔬"
   ]
  },
  {
   "cell_type": "code",
   "execution_count": 4,
   "metadata": {},
   "outputs": [
    {
     "name": "stdout",
     "output_type": "stream",
     "text": [
      "<class 'pandas.core.frame.DataFrame'>\n",
      "RangeIndex: 3000 entries, 0 to 2999\n",
      "Data columns (total 29 columns):\n",
      " #   Column                 Non-Null Count  Dtype \n",
      "---  ------                 --------------  ----- \n",
      " 0   url                    3000 non-null   object\n",
      " 1   rawContent             3000 non-null   object\n",
      " 2   id                     3000 non-null   int64 \n",
      " 3   replyCount             3000 non-null   int64 \n",
      " 4   retweetCount           3000 non-null   int64 \n",
      " 5   likeCount              3000 non-null   int64 \n",
      " 6   quoteCount             3000 non-null   int64 \n",
      " 7   conversationId         3000 non-null   int64 \n",
      " 8   lang                   3000 non-null   object\n",
      " 9   source                 3000 non-null   object\n",
      " 10  sourceLabel            3000 non-null   object\n",
      " 11  username               3000 non-null   object\n",
      " 12  verified               3000 non-null   bool  \n",
      " 13  created                3000 non-null   object\n",
      " 14  followersCount         3000 non-null   int64 \n",
      " 15  friendsCount           3000 non-null   int64 \n",
      " 16  protected              3000 non-null   bool  \n",
      " 17  label.description      9 non-null      object\n",
      " 18  label.url              4 non-null      object\n",
      " 19  label.badgeUrl         9 non-null      object\n",
      " 20  label.longDescription  5 non-null      object\n",
      " 21  date_day               3000 non-null   int64 \n",
      " 22  date_month             3000 non-null   int64 \n",
      " 23  date_WeekDay           3000 non-null   int64 \n",
      " 24  date_Quarter           3000 non-null   int64 \n",
      " 25  date_year              3000 non-null   int64 \n",
      " 26  Tweet time             3000 non-null   object\n",
      " 27  monthname              3000 non-null   object\n",
      " 28  dayname                3000 non-null   object\n",
      "dtypes: bool(2), int64(13), object(14)\n",
      "memory usage: 638.8+ KB\n"
     ]
    }
   ],
   "source": [
    "df = pd.read_csv('vaccine.csv')\n",
    "df.info()"
   ]
  },
  {
   "attachments": {},
   "cell_type": "markdown",
   "metadata": {},
   "source": [
    "## might it have some null values 🤔"
   ]
  },
  {
   "cell_type": "code",
   "execution_count": 29,
   "metadata": {},
   "outputs": [
    {
     "data": {
      "text/plain": [
       "url                         0\n",
       "rawContent                  0\n",
       "id                          0\n",
       "replyCount                  0\n",
       "retweetCount                0\n",
       "likeCount                   0\n",
       "quoteCount                  0\n",
       "conversationId              0\n",
       "lang                        0\n",
       "source                      0\n",
       "sourceLabel                 0\n",
       "username                    0\n",
       "verified                    0\n",
       "created                     0\n",
       "followersCount              0\n",
       "friendsCount                0\n",
       "protected                   0\n",
       "label.description        2991\n",
       "label.url                2996\n",
       "label.badgeUrl           2991\n",
       "label.longDescription    2995\n",
       "date_day                    0\n",
       "date_month                  0\n",
       "date_WeekDay                0\n",
       "date_Quarter                0\n",
       "date_year                   0\n",
       "Tweet time                  0\n",
       "monthname                   0\n",
       "dayname                     0\n",
       "dtype: int64"
      ]
     },
     "execution_count": 29,
     "metadata": {},
     "output_type": "execute_result"
    }
   ],
   "source": [
    "df.isna().sum()"
   ]
  },
  {
   "attachments": {},
   "cell_type": "markdown",
   "metadata": {},
   "source": [
    "#### as suspected `label.description label.url label.badgeUrl label.longDescription` caught but I am not going to do nothing to them since they don't mean 💩 "
   ]
  },
  {
   "cell_type": "code",
   "execution_count": 30,
   "metadata": {},
   "outputs": [
    {
     "data": {
      "text/html": [
       "<div>\n",
       "<style scoped>\n",
       "    .dataframe tbody tr th:only-of-type {\n",
       "        vertical-align: middle;\n",
       "    }\n",
       "\n",
       "    .dataframe tbody tr th {\n",
       "        vertical-align: top;\n",
       "    }\n",
       "\n",
       "    .dataframe thead th {\n",
       "        text-align: right;\n",
       "    }\n",
       "</style>\n",
       "<table border=\"1\" class=\"dataframe\">\n",
       "  <thead>\n",
       "    <tr style=\"text-align: right;\">\n",
       "      <th></th>\n",
       "      <th>url</th>\n",
       "      <th>rawContent</th>\n",
       "      <th>id</th>\n",
       "      <th>replyCount</th>\n",
       "      <th>retweetCount</th>\n",
       "      <th>likeCount</th>\n",
       "      <th>quoteCount</th>\n",
       "      <th>conversationId</th>\n",
       "      <th>lang</th>\n",
       "      <th>source</th>\n",
       "      <th>...</th>\n",
       "      <th>label.badgeUrl</th>\n",
       "      <th>label.longDescription</th>\n",
       "      <th>date_day</th>\n",
       "      <th>date_month</th>\n",
       "      <th>date_WeekDay</th>\n",
       "      <th>date_Quarter</th>\n",
       "      <th>date_year</th>\n",
       "      <th>Tweet time</th>\n",
       "      <th>monthname</th>\n",
       "      <th>dayname</th>\n",
       "    </tr>\n",
       "  </thead>\n",
       "  <tbody>\n",
       "    <tr>\n",
       "      <th>0</th>\n",
       "      <td>https://twitter.com/prajasakshinews/status/161...</td>\n",
       "      <td>Covovax vaccine: మ‌రో 15 రోజుల్లో ఆమోదం.. బూస్...</td>\n",
       "      <td>1612410474062319616</td>\n",
       "      <td>0</td>\n",
       "      <td>0</td>\n",
       "      <td>0</td>\n",
       "      <td>0</td>\n",
       "      <td>1612410474062319616</td>\n",
       "      <td>te</td>\n",
       "      <td>&lt;a href=\"https://mobile.twitter.com\" rel=\"nofo...</td>\n",
       "      <td>...</td>\n",
       "      <td>NaN</td>\n",
       "      <td>NaN</td>\n",
       "      <td>9</td>\n",
       "      <td>1</td>\n",
       "      <td>0</td>\n",
       "      <td>1</td>\n",
       "      <td>2023</td>\n",
       "      <td>11:26:28</td>\n",
       "      <td>January</td>\n",
       "      <td>Monday</td>\n",
       "    </tr>\n",
       "    <tr>\n",
       "      <th>1</th>\n",
       "      <td>https://twitter.com/cliffordribner/status/1612...</td>\n",
       "      <td>Nurse: Majority of Delta patients at hospital ...</td>\n",
       "      <td>1612410443640758272</td>\n",
       "      <td>0</td>\n",
       "      <td>0</td>\n",
       "      <td>0</td>\n",
       "      <td>0</td>\n",
       "      <td>1612410443640758272</td>\n",
       "      <td>en</td>\n",
       "      <td>&lt;a href=\"https://cliffordribner.com/\" rel=\"nof...</td>\n",
       "      <td>...</td>\n",
       "      <td>NaN</td>\n",
       "      <td>NaN</td>\n",
       "      <td>9</td>\n",
       "      <td>1</td>\n",
       "      <td>0</td>\n",
       "      <td>1</td>\n",
       "      <td>2023</td>\n",
       "      <td>11:26:21</td>\n",
       "      <td>January</td>\n",
       "      <td>Monday</td>\n",
       "    </tr>\n",
       "    <tr>\n",
       "      <th>2</th>\n",
       "      <td>https://twitter.com/cliffordribner/status/1612...</td>\n",
       "      <td>Los Angeles Imposes COVID-19 Passport on Child...</td>\n",
       "      <td>1612410440310456321</td>\n",
       "      <td>0</td>\n",
       "      <td>0</td>\n",
       "      <td>0</td>\n",
       "      <td>0</td>\n",
       "      <td>1612410440310456321</td>\n",
       "      <td>en</td>\n",
       "      <td>&lt;a href=\"https://cliffordribner.com/\" rel=\"nof...</td>\n",
       "      <td>...</td>\n",
       "      <td>NaN</td>\n",
       "      <td>NaN</td>\n",
       "      <td>9</td>\n",
       "      <td>1</td>\n",
       "      <td>0</td>\n",
       "      <td>1</td>\n",
       "      <td>2023</td>\n",
       "      <td>11:26:20</td>\n",
       "      <td>January</td>\n",
       "      <td>Monday</td>\n",
       "    </tr>\n",
       "    <tr>\n",
       "      <th>3</th>\n",
       "      <td>https://twitter.com/nicksback1953/status/16124...</td>\n",
       "      <td>Today @ https://t.co/H5o05CtuQ3 o.a.:\\n\\nMajor...</td>\n",
       "      <td>1612408656896606211</td>\n",
       "      <td>0</td>\n",
       "      <td>0</td>\n",
       "      <td>0</td>\n",
       "      <td>0</td>\n",
       "      <td>1612408656896606211</td>\n",
       "      <td>en</td>\n",
       "      <td>&lt;a href=\"https://mobile.twitter.com\" rel=\"nofo...</td>\n",
       "      <td>...</td>\n",
       "      <td>NaN</td>\n",
       "      <td>NaN</td>\n",
       "      <td>9</td>\n",
       "      <td>1</td>\n",
       "      <td>0</td>\n",
       "      <td>1</td>\n",
       "      <td>2023</td>\n",
       "      <td>11:19:15</td>\n",
       "      <td>January</td>\n",
       "      <td>Monday</td>\n",
       "    </tr>\n",
       "    <tr>\n",
       "      <th>4</th>\n",
       "      <td>https://twitter.com/B_Foster02/status/16124086...</td>\n",
       "      <td>#shorts  Dr. Ryan Cole prat1  #vaccine  #covid...</td>\n",
       "      <td>1612408637997322240</td>\n",
       "      <td>0</td>\n",
       "      <td>0</td>\n",
       "      <td>0</td>\n",
       "      <td>0</td>\n",
       "      <td>1612408637997322240</td>\n",
       "      <td>in</td>\n",
       "      <td>&lt;a href=\"https://mobile.twitter.com\" rel=\"nofo...</td>\n",
       "      <td>...</td>\n",
       "      <td>NaN</td>\n",
       "      <td>NaN</td>\n",
       "      <td>9</td>\n",
       "      <td>1</td>\n",
       "      <td>0</td>\n",
       "      <td>1</td>\n",
       "      <td>2023</td>\n",
       "      <td>11:19:11</td>\n",
       "      <td>January</td>\n",
       "      <td>Monday</td>\n",
       "    </tr>\n",
       "  </tbody>\n",
       "</table>\n",
       "<p>5 rows × 29 columns</p>\n",
       "</div>"
      ],
      "text/plain": [
       "                                                 url  \\\n",
       "0  https://twitter.com/prajasakshinews/status/161...   \n",
       "1  https://twitter.com/cliffordribner/status/1612...   \n",
       "2  https://twitter.com/cliffordribner/status/1612...   \n",
       "3  https://twitter.com/nicksback1953/status/16124...   \n",
       "4  https://twitter.com/B_Foster02/status/16124086...   \n",
       "\n",
       "                                          rawContent                   id  \\\n",
       "0  Covovax vaccine: మ‌రో 15 రోజుల్లో ఆమోదం.. బూస్...  1612410474062319616   \n",
       "1  Nurse: Majority of Delta patients at hospital ...  1612410443640758272   \n",
       "2  Los Angeles Imposes COVID-19 Passport on Child...  1612410440310456321   \n",
       "3  Today @ https://t.co/H5o05CtuQ3 o.a.:\\n\\nMajor...  1612408656896606211   \n",
       "4  #shorts  Dr. Ryan Cole prat1  #vaccine  #covid...  1612408637997322240   \n",
       "\n",
       "   replyCount  retweetCount  likeCount  quoteCount       conversationId lang  \\\n",
       "0           0             0          0           0  1612410474062319616   te   \n",
       "1           0             0          0           0  1612410443640758272   en   \n",
       "2           0             0          0           0  1612410440310456321   en   \n",
       "3           0             0          0           0  1612408656896606211   en   \n",
       "4           0             0          0           0  1612408637997322240   in   \n",
       "\n",
       "                                              source  ... label.badgeUrl  \\\n",
       "0  <a href=\"https://mobile.twitter.com\" rel=\"nofo...  ...            NaN   \n",
       "1  <a href=\"https://cliffordribner.com/\" rel=\"nof...  ...            NaN   \n",
       "2  <a href=\"https://cliffordribner.com/\" rel=\"nof...  ...            NaN   \n",
       "3  <a href=\"https://mobile.twitter.com\" rel=\"nofo...  ...            NaN   \n",
       "4  <a href=\"https://mobile.twitter.com\" rel=\"nofo...  ...            NaN   \n",
       "\n",
       "  label.longDescription  date_day date_month  date_WeekDay  date_Quarter  \\\n",
       "0                   NaN         9          1             0             1   \n",
       "1                   NaN         9          1             0             1   \n",
       "2                   NaN         9          1             0             1   \n",
       "3                   NaN         9          1             0             1   \n",
       "4                   NaN         9          1             0             1   \n",
       "\n",
       "   date_year Tweet time monthname dayname  \n",
       "0       2023   11:26:28   January  Monday  \n",
       "1       2023   11:26:21   January  Monday  \n",
       "2       2023   11:26:20   January  Monday  \n",
       "3       2023   11:19:15   January  Monday  \n",
       "4       2023   11:19:11   January  Monday  \n",
       "\n",
       "[5 rows x 29 columns]"
      ]
     },
     "execution_count": 30,
     "metadata": {},
     "output_type": "execute_result"
    }
   ],
   "source": [
    "df.head()"
   ]
  },
  {
   "attachments": {},
   "cell_type": "markdown",
   "metadata": {},
   "source": [
    "### **let's Draw**\n",
    "* what are people using to Tweet\n",
    "    * let's see top 10 that **\"THEY\"** used"
   ]
  },
  {
   "cell_type": "code",
   "execution_count": 31,
   "metadata": {},
   "outputs": [
    {
     "data": {
      "text/plain": [
       "Twitter Web App                1037\n",
       "Twitter for iPhone              943\n",
       "Twitter for Android             512\n",
       "Bitly                           112\n",
       "Twitter for iPad                 72\n",
       "                               ... \n",
       "excite blog                       1\n",
       "CVS Maryland Vaccine Finder       1\n",
       "Tumblr                            1\n",
       "Twitter for Advertisers           1\n",
       "Tweepsmap                         1\n",
       "Name: sourceLabel, Length: 78, dtype: int64"
      ]
     },
     "execution_count": 31,
     "metadata": {},
     "output_type": "execute_result"
    }
   ],
   "source": [
    "df['sourceLabel'].value_counts()"
   ]
  },
  {
   "cell_type": "code",
   "execution_count": 32,
   "metadata": {},
   "outputs": [
    {
     "data": {
      "application/vnd.plotly.v1+json": {
       "config": {
        "plotlyServerURL": "https://plot.ly"
       },
       "data": [
        {
         "domain": {
          "x": [
           0,
           1
          ],
          "y": [
           0,
           1
          ]
         },
         "hovertemplate": "label=%{label}<br>value=%{value}<extra></extra>",
         "labels": [
          "Twitter Web App",
          "Twitter for iPhone",
          "Twitter for Android",
          "Bitly",
          "Twitter for iPad",
          "CliffordRibnerWeb",
          "Hootsuite Inc.",
          "TweetDeck",
          "Buffer",
          "Instagram"
         ],
         "legendgroup": "",
         "name": "",
         "showlegend": true,
         "type": "pie",
         "values": [
          1037,
          943,
          512,
          112,
          72,
          54,
          40,
          38,
          20,
          12
         ]
        }
       ],
       "layout": {
        "legend": {
         "tracegroupgap": 0
        },
        "piecolorway": [
         "rgb(214, 249, 207)",
         "rgb(186, 228, 174)",
         "rgb(156, 209, 143)",
         "rgb(124, 191, 115)",
         "rgb(85, 174, 91)",
         "rgb(37, 157, 81)",
         "rgb(7, 138, 78)",
         "rgb(13, 117, 71)",
         "rgb(23, 95, 61)",
         "rgb(25, 75, 49)",
         "rgb(23, 55, 35)",
         "rgb(17, 36, 20)"
        ],
        "template": {
         "data": {
          "bar": [
           {
            "error_x": {
             "color": "#2a3f5f"
            },
            "error_y": {
             "color": "#2a3f5f"
            },
            "marker": {
             "line": {
              "color": "#E5ECF6",
              "width": 0.5
             },
             "pattern": {
              "fillmode": "overlay",
              "size": 10,
              "solidity": 0.2
             }
            },
            "type": "bar"
           }
          ],
          "barpolar": [
           {
            "marker": {
             "line": {
              "color": "#E5ECF6",
              "width": 0.5
             },
             "pattern": {
              "fillmode": "overlay",
              "size": 10,
              "solidity": 0.2
             }
            },
            "type": "barpolar"
           }
          ],
          "carpet": [
           {
            "aaxis": {
             "endlinecolor": "#2a3f5f",
             "gridcolor": "white",
             "linecolor": "white",
             "minorgridcolor": "white",
             "startlinecolor": "#2a3f5f"
            },
            "baxis": {
             "endlinecolor": "#2a3f5f",
             "gridcolor": "white",
             "linecolor": "white",
             "minorgridcolor": "white",
             "startlinecolor": "#2a3f5f"
            },
            "type": "carpet"
           }
          ],
          "choropleth": [
           {
            "colorbar": {
             "outlinewidth": 0,
             "ticks": ""
            },
            "type": "choropleth"
           }
          ],
          "contour": [
           {
            "colorbar": {
             "outlinewidth": 0,
             "ticks": ""
            },
            "colorscale": [
             [
              0,
              "#0d0887"
             ],
             [
              0.1111111111111111,
              "#46039f"
             ],
             [
              0.2222222222222222,
              "#7201a8"
             ],
             [
              0.3333333333333333,
              "#9c179e"
             ],
             [
              0.4444444444444444,
              "#bd3786"
             ],
             [
              0.5555555555555556,
              "#d8576b"
             ],
             [
              0.6666666666666666,
              "#ed7953"
             ],
             [
              0.7777777777777778,
              "#fb9f3a"
             ],
             [
              0.8888888888888888,
              "#fdca26"
             ],
             [
              1,
              "#f0f921"
             ]
            ],
            "type": "contour"
           }
          ],
          "contourcarpet": [
           {
            "colorbar": {
             "outlinewidth": 0,
             "ticks": ""
            },
            "type": "contourcarpet"
           }
          ],
          "heatmap": [
           {
            "colorbar": {
             "outlinewidth": 0,
             "ticks": ""
            },
            "colorscale": [
             [
              0,
              "#0d0887"
             ],
             [
              0.1111111111111111,
              "#46039f"
             ],
             [
              0.2222222222222222,
              "#7201a8"
             ],
             [
              0.3333333333333333,
              "#9c179e"
             ],
             [
              0.4444444444444444,
              "#bd3786"
             ],
             [
              0.5555555555555556,
              "#d8576b"
             ],
             [
              0.6666666666666666,
              "#ed7953"
             ],
             [
              0.7777777777777778,
              "#fb9f3a"
             ],
             [
              0.8888888888888888,
              "#fdca26"
             ],
             [
              1,
              "#f0f921"
             ]
            ],
            "type": "heatmap"
           }
          ],
          "heatmapgl": [
           {
            "colorbar": {
             "outlinewidth": 0,
             "ticks": ""
            },
            "colorscale": [
             [
              0,
              "#0d0887"
             ],
             [
              0.1111111111111111,
              "#46039f"
             ],
             [
              0.2222222222222222,
              "#7201a8"
             ],
             [
              0.3333333333333333,
              "#9c179e"
             ],
             [
              0.4444444444444444,
              "#bd3786"
             ],
             [
              0.5555555555555556,
              "#d8576b"
             ],
             [
              0.6666666666666666,
              "#ed7953"
             ],
             [
              0.7777777777777778,
              "#fb9f3a"
             ],
             [
              0.8888888888888888,
              "#fdca26"
             ],
             [
              1,
              "#f0f921"
             ]
            ],
            "type": "heatmapgl"
           }
          ],
          "histogram": [
           {
            "marker": {
             "pattern": {
              "fillmode": "overlay",
              "size": 10,
              "solidity": 0.2
             }
            },
            "type": "histogram"
           }
          ],
          "histogram2d": [
           {
            "colorbar": {
             "outlinewidth": 0,
             "ticks": ""
            },
            "colorscale": [
             [
              0,
              "#0d0887"
             ],
             [
              0.1111111111111111,
              "#46039f"
             ],
             [
              0.2222222222222222,
              "#7201a8"
             ],
             [
              0.3333333333333333,
              "#9c179e"
             ],
             [
              0.4444444444444444,
              "#bd3786"
             ],
             [
              0.5555555555555556,
              "#d8576b"
             ],
             [
              0.6666666666666666,
              "#ed7953"
             ],
             [
              0.7777777777777778,
              "#fb9f3a"
             ],
             [
              0.8888888888888888,
              "#fdca26"
             ],
             [
              1,
              "#f0f921"
             ]
            ],
            "type": "histogram2d"
           }
          ],
          "histogram2dcontour": [
           {
            "colorbar": {
             "outlinewidth": 0,
             "ticks": ""
            },
            "colorscale": [
             [
              0,
              "#0d0887"
             ],
             [
              0.1111111111111111,
              "#46039f"
             ],
             [
              0.2222222222222222,
              "#7201a8"
             ],
             [
              0.3333333333333333,
              "#9c179e"
             ],
             [
              0.4444444444444444,
              "#bd3786"
             ],
             [
              0.5555555555555556,
              "#d8576b"
             ],
             [
              0.6666666666666666,
              "#ed7953"
             ],
             [
              0.7777777777777778,
              "#fb9f3a"
             ],
             [
              0.8888888888888888,
              "#fdca26"
             ],
             [
              1,
              "#f0f921"
             ]
            ],
            "type": "histogram2dcontour"
           }
          ],
          "mesh3d": [
           {
            "colorbar": {
             "outlinewidth": 0,
             "ticks": ""
            },
            "type": "mesh3d"
           }
          ],
          "parcoords": [
           {
            "line": {
             "colorbar": {
              "outlinewidth": 0,
              "ticks": ""
             }
            },
            "type": "parcoords"
           }
          ],
          "pie": [
           {
            "automargin": true,
            "type": "pie"
           }
          ],
          "scatter": [
           {
            "fillpattern": {
             "fillmode": "overlay",
             "size": 10,
             "solidity": 0.2
            },
            "type": "scatter"
           }
          ],
          "scatter3d": [
           {
            "line": {
             "colorbar": {
              "outlinewidth": 0,
              "ticks": ""
             }
            },
            "marker": {
             "colorbar": {
              "outlinewidth": 0,
              "ticks": ""
             }
            },
            "type": "scatter3d"
           }
          ],
          "scattercarpet": [
           {
            "marker": {
             "colorbar": {
              "outlinewidth": 0,
              "ticks": ""
             }
            },
            "type": "scattercarpet"
           }
          ],
          "scattergeo": [
           {
            "marker": {
             "colorbar": {
              "outlinewidth": 0,
              "ticks": ""
             }
            },
            "type": "scattergeo"
           }
          ],
          "scattergl": [
           {
            "marker": {
             "colorbar": {
              "outlinewidth": 0,
              "ticks": ""
             }
            },
            "type": "scattergl"
           }
          ],
          "scattermapbox": [
           {
            "marker": {
             "colorbar": {
              "outlinewidth": 0,
              "ticks": ""
             }
            },
            "type": "scattermapbox"
           }
          ],
          "scatterpolar": [
           {
            "marker": {
             "colorbar": {
              "outlinewidth": 0,
              "ticks": ""
             }
            },
            "type": "scatterpolar"
           }
          ],
          "scatterpolargl": [
           {
            "marker": {
             "colorbar": {
              "outlinewidth": 0,
              "ticks": ""
             }
            },
            "type": "scatterpolargl"
           }
          ],
          "scatterternary": [
           {
            "marker": {
             "colorbar": {
              "outlinewidth": 0,
              "ticks": ""
             }
            },
            "type": "scatterternary"
           }
          ],
          "surface": [
           {
            "colorbar": {
             "outlinewidth": 0,
             "ticks": ""
            },
            "colorscale": [
             [
              0,
              "#0d0887"
             ],
             [
              0.1111111111111111,
              "#46039f"
             ],
             [
              0.2222222222222222,
              "#7201a8"
             ],
             [
              0.3333333333333333,
              "#9c179e"
             ],
             [
              0.4444444444444444,
              "#bd3786"
             ],
             [
              0.5555555555555556,
              "#d8576b"
             ],
             [
              0.6666666666666666,
              "#ed7953"
             ],
             [
              0.7777777777777778,
              "#fb9f3a"
             ],
             [
              0.8888888888888888,
              "#fdca26"
             ],
             [
              1,
              "#f0f921"
             ]
            ],
            "type": "surface"
           }
          ],
          "table": [
           {
            "cells": {
             "fill": {
              "color": "#EBF0F8"
             },
             "line": {
              "color": "white"
             }
            },
            "header": {
             "fill": {
              "color": "#C8D4E3"
             },
             "line": {
              "color": "white"
             }
            },
            "type": "table"
           }
          ]
         },
         "layout": {
          "annotationdefaults": {
           "arrowcolor": "#2a3f5f",
           "arrowhead": 0,
           "arrowwidth": 1
          },
          "autotypenumbers": "strict",
          "coloraxis": {
           "colorbar": {
            "outlinewidth": 0,
            "ticks": ""
           }
          },
          "colorscale": {
           "diverging": [
            [
             0,
             "#8e0152"
            ],
            [
             0.1,
             "#c51b7d"
            ],
            [
             0.2,
             "#de77ae"
            ],
            [
             0.3,
             "#f1b6da"
            ],
            [
             0.4,
             "#fde0ef"
            ],
            [
             0.5,
             "#f7f7f7"
            ],
            [
             0.6,
             "#e6f5d0"
            ],
            [
             0.7,
             "#b8e186"
            ],
            [
             0.8,
             "#7fbc41"
            ],
            [
             0.9,
             "#4d9221"
            ],
            [
             1,
             "#276419"
            ]
           ],
           "sequential": [
            [
             0,
             "#0d0887"
            ],
            [
             0.1111111111111111,
             "#46039f"
            ],
            [
             0.2222222222222222,
             "#7201a8"
            ],
            [
             0.3333333333333333,
             "#9c179e"
            ],
            [
             0.4444444444444444,
             "#bd3786"
            ],
            [
             0.5555555555555556,
             "#d8576b"
            ],
            [
             0.6666666666666666,
             "#ed7953"
            ],
            [
             0.7777777777777778,
             "#fb9f3a"
            ],
            [
             0.8888888888888888,
             "#fdca26"
            ],
            [
             1,
             "#f0f921"
            ]
           ],
           "sequentialminus": [
            [
             0,
             "#0d0887"
            ],
            [
             0.1111111111111111,
             "#46039f"
            ],
            [
             0.2222222222222222,
             "#7201a8"
            ],
            [
             0.3333333333333333,
             "#9c179e"
            ],
            [
             0.4444444444444444,
             "#bd3786"
            ],
            [
             0.5555555555555556,
             "#d8576b"
            ],
            [
             0.6666666666666666,
             "#ed7953"
            ],
            [
             0.7777777777777778,
             "#fb9f3a"
            ],
            [
             0.8888888888888888,
             "#fdca26"
            ],
            [
             1,
             "#f0f921"
            ]
           ]
          },
          "colorway": [
           "#636efa",
           "#EF553B",
           "#00cc96",
           "#ab63fa",
           "#FFA15A",
           "#19d3f3",
           "#FF6692",
           "#B6E880",
           "#FF97FF",
           "#FECB52"
          ],
          "font": {
           "color": "#2a3f5f"
          },
          "geo": {
           "bgcolor": "white",
           "lakecolor": "white",
           "landcolor": "#E5ECF6",
           "showlakes": true,
           "showland": true,
           "subunitcolor": "white"
          },
          "hoverlabel": {
           "align": "left"
          },
          "hovermode": "closest",
          "mapbox": {
           "style": "light"
          },
          "paper_bgcolor": "white",
          "plot_bgcolor": "#E5ECF6",
          "polar": {
           "angularaxis": {
            "gridcolor": "white",
            "linecolor": "white",
            "ticks": ""
           },
           "bgcolor": "#E5ECF6",
           "radialaxis": {
            "gridcolor": "white",
            "linecolor": "white",
            "ticks": ""
           }
          },
          "scene": {
           "xaxis": {
            "backgroundcolor": "#E5ECF6",
            "gridcolor": "white",
            "gridwidth": 2,
            "linecolor": "white",
            "showbackground": true,
            "ticks": "",
            "zerolinecolor": "white"
           },
           "yaxis": {
            "backgroundcolor": "#E5ECF6",
            "gridcolor": "white",
            "gridwidth": 2,
            "linecolor": "white",
            "showbackground": true,
            "ticks": "",
            "zerolinecolor": "white"
           },
           "zaxis": {
            "backgroundcolor": "#E5ECF6",
            "gridcolor": "white",
            "gridwidth": 2,
            "linecolor": "white",
            "showbackground": true,
            "ticks": "",
            "zerolinecolor": "white"
           }
          },
          "shapedefaults": {
           "line": {
            "color": "#2a3f5f"
           }
          },
          "ternary": {
           "aaxis": {
            "gridcolor": "white",
            "linecolor": "white",
            "ticks": ""
           },
           "baxis": {
            "gridcolor": "white",
            "linecolor": "white",
            "ticks": ""
           },
           "bgcolor": "#E5ECF6",
           "caxis": {
            "gridcolor": "white",
            "linecolor": "white",
            "ticks": ""
           }
          },
          "title": {
           "x": 0.05
          },
          "xaxis": {
           "automargin": true,
           "gridcolor": "white",
           "linecolor": "white",
           "ticks": "",
           "title": {
            "standoff": 15
           },
           "zerolinecolor": "white",
           "zerolinewidth": 2
          },
          "yaxis": {
           "automargin": true,
           "gridcolor": "white",
           "linecolor": "white",
           "ticks": "",
           "title": {
            "standoff": 15
           },
           "zerolinecolor": "white",
           "zerolinewidth": 2
          }
         }
        },
        "title": {
         "text": "Top Ten sources That The People Used to tweet"
        }
       }
      }
     },
     "metadata": {},
     "output_type": "display_data"
    }
   ],
   "source": [
    "nams=df['sourceLabel'].value_counts()[:10].keys()\n",
    "fig = px.pie(df, values=df['sourceLabel'].value_counts()[:10], names=nams, title='Top Ten sources That The People Used to tweet',color_discrete_sequence=px.colors.sequential.algae)\n",
    "fig.show()"
   ]
  },
  {
   "attachments": {},
   "cell_type": "markdown",
   "metadata": {},
   "source": [
    "### **Nice** What  next ?\n",
    "#### how about the time where there was **high** tweets?\n",
    "* ##### **day wise**\n",
    "* ##### **hour wise**"
   ]
  },
  {
   "cell_type": "code",
   "execution_count": 33,
   "metadata": {},
   "outputs": [
    {
     "data": {
      "application/vnd.plotly.v1+json": {
       "config": {
        "plotlyServerURL": "https://plot.ly"
       },
       "data": [
        {
         "alignmentgroup": "True",
         "bingroup": "x",
         "hovertemplate": "dayname=%{x}<br>count=%{y}<extra></extra>",
         "legendgroup": "Monday",
         "marker": {
          "color": "#636efa",
          "pattern": {
           "shape": ""
          }
         },
         "name": "Monday",
         "offsetgroup": "Monday",
         "orientation": "v",
         "showlegend": true,
         "type": "histogram",
         "x": [
          "Monday",
          "Monday",
          "Monday",
          "Monday",
          "Monday",
          "Monday",
          "Monday",
          "Monday",
          "Monday",
          "Monday",
          "Monday",
          "Monday",
          "Monday",
          "Monday",
          "Monday",
          "Monday",
          "Monday",
          "Monday",
          "Monday",
          "Monday",
          "Monday",
          "Monday",
          "Monday",
          "Monday",
          "Monday",
          "Monday",
          "Monday",
          "Monday",
          "Monday",
          "Monday",
          "Monday",
          "Monday",
          "Monday",
          "Monday",
          "Monday",
          "Monday",
          "Monday",
          "Monday",
          "Monday",
          "Monday",
          "Monday",
          "Monday",
          "Monday",
          "Monday",
          "Monday",
          "Monday",
          "Monday",
          "Monday",
          "Monday",
          "Monday",
          "Monday",
          "Monday",
          "Monday",
          "Monday",
          "Monday",
          "Monday",
          "Monday",
          "Monday",
          "Monday",
          "Monday",
          "Monday",
          "Monday",
          "Monday",
          "Monday",
          "Monday",
          "Monday",
          "Monday",
          "Monday",
          "Monday",
          "Monday",
          "Monday",
          "Monday",
          "Monday",
          "Monday",
          "Monday",
          "Monday",
          "Monday",
          "Monday",
          "Monday",
          "Monday",
          "Monday",
          "Monday",
          "Monday",
          "Monday",
          "Monday",
          "Monday",
          "Monday",
          "Monday",
          "Monday",
          "Monday",
          "Monday",
          "Monday",
          "Monday",
          "Monday",
          "Monday",
          "Monday",
          "Monday",
          "Monday",
          "Monday",
          "Monday",
          "Monday",
          "Monday",
          "Monday",
          "Monday",
          "Monday",
          "Monday",
          "Monday",
          "Monday",
          "Monday",
          "Monday",
          "Monday",
          "Monday",
          "Monday",
          "Monday",
          "Monday",
          "Monday",
          "Monday",
          "Monday",
          "Monday",
          "Monday",
          "Monday",
          "Monday",
          "Monday",
          "Monday",
          "Monday",
          "Monday",
          "Monday",
          "Monday",
          "Monday",
          "Monday",
          "Monday",
          "Monday",
          "Monday",
          "Monday",
          "Monday",
          "Monday",
          "Monday",
          "Monday",
          "Monday",
          "Monday",
          "Monday",
          "Monday",
          "Monday",
          "Monday",
          "Monday",
          "Monday",
          "Monday",
          "Monday",
          "Monday",
          "Monday",
          "Monday",
          "Monday",
          "Monday",
          "Monday",
          "Monday",
          "Monday",
          "Monday",
          "Monday",
          "Monday",
          "Monday",
          "Monday",
          "Monday",
          "Monday",
          "Monday",
          "Monday",
          "Monday",
          "Monday",
          "Monday",
          "Monday",
          "Monday",
          "Monday",
          "Monday",
          "Monday",
          "Monday",
          "Monday",
          "Monday",
          "Monday",
          "Monday",
          "Monday",
          "Monday",
          "Monday",
          "Monday",
          "Monday",
          "Monday",
          "Monday",
          "Monday",
          "Monday",
          "Monday",
          "Monday",
          "Monday",
          "Monday",
          "Monday",
          "Monday",
          "Monday",
          "Monday",
          "Monday",
          "Monday",
          "Monday",
          "Monday",
          "Monday",
          "Monday",
          "Monday",
          "Monday",
          "Monday",
          "Monday",
          "Monday",
          "Monday",
          "Monday",
          "Monday",
          "Monday",
          "Monday",
          "Monday",
          "Monday",
          "Monday",
          "Monday",
          "Monday",
          "Monday",
          "Monday",
          "Monday",
          "Monday",
          "Monday",
          "Monday",
          "Monday",
          "Monday",
          "Monday",
          "Monday"
         ],
         "xaxis": "x",
         "yaxis": "y"
        },
        {
         "alignmentgroup": "True",
         "bingroup": "x",
         "hovertemplate": "dayname=%{x}<br>count=%{y}<extra></extra>",
         "legendgroup": "Sunday",
         "marker": {
          "color": "#EF553B",
          "pattern": {
           "shape": ""
          }
         },
         "name": "Sunday",
         "offsetgroup": "Sunday",
         "orientation": "v",
         "showlegend": true,
         "type": "histogram",
         "x": [
          "Sunday",
          "Sunday",
          "Sunday",
          "Sunday",
          "Sunday",
          "Sunday",
          "Sunday",
          "Sunday",
          "Sunday",
          "Sunday",
          "Sunday",
          "Sunday",
          "Sunday",
          "Sunday",
          "Sunday",
          "Sunday",
          "Sunday",
          "Sunday",
          "Sunday",
          "Sunday",
          "Sunday",
          "Sunday",
          "Sunday",
          "Sunday",
          "Sunday",
          "Sunday",
          "Sunday",
          "Sunday",
          "Sunday",
          "Sunday",
          "Sunday",
          "Sunday",
          "Sunday",
          "Sunday",
          "Sunday",
          "Sunday",
          "Sunday",
          "Sunday",
          "Sunday",
          "Sunday",
          "Sunday",
          "Sunday",
          "Sunday",
          "Sunday",
          "Sunday",
          "Sunday",
          "Sunday",
          "Sunday",
          "Sunday",
          "Sunday",
          "Sunday",
          "Sunday",
          "Sunday",
          "Sunday",
          "Sunday",
          "Sunday",
          "Sunday",
          "Sunday",
          "Sunday",
          "Sunday",
          "Sunday",
          "Sunday",
          "Sunday",
          "Sunday",
          "Sunday",
          "Sunday",
          "Sunday",
          "Sunday",
          "Sunday",
          "Sunday",
          "Sunday",
          "Sunday",
          "Sunday",
          "Sunday",
          "Sunday",
          "Sunday",
          "Sunday",
          "Sunday",
          "Sunday",
          "Sunday",
          "Sunday",
          "Sunday",
          "Sunday",
          "Sunday",
          "Sunday",
          "Sunday",
          "Sunday",
          "Sunday",
          "Sunday",
          "Sunday",
          "Sunday",
          "Sunday",
          "Sunday",
          "Sunday",
          "Sunday",
          "Sunday",
          "Sunday",
          "Sunday",
          "Sunday",
          "Sunday",
          "Sunday",
          "Sunday",
          "Sunday",
          "Sunday",
          "Sunday",
          "Sunday",
          "Sunday",
          "Sunday",
          "Sunday",
          "Sunday",
          "Sunday",
          "Sunday",
          "Sunday",
          "Sunday",
          "Sunday",
          "Sunday",
          "Sunday",
          "Sunday",
          "Sunday",
          "Sunday",
          "Sunday",
          "Sunday",
          "Sunday",
          "Sunday",
          "Sunday",
          "Sunday",
          "Sunday",
          "Sunday",
          "Sunday",
          "Sunday",
          "Sunday",
          "Sunday",
          "Sunday",
          "Sunday",
          "Sunday",
          "Sunday",
          "Sunday",
          "Sunday",
          "Sunday",
          "Sunday",
          "Sunday",
          "Sunday",
          "Sunday",
          "Sunday",
          "Sunday",
          "Sunday",
          "Sunday",
          "Sunday",
          "Sunday",
          "Sunday",
          "Sunday",
          "Sunday",
          "Sunday",
          "Sunday",
          "Sunday",
          "Sunday",
          "Sunday",
          "Sunday",
          "Sunday",
          "Sunday",
          "Sunday",
          "Sunday",
          "Sunday",
          "Sunday",
          "Sunday",
          "Sunday",
          "Sunday",
          "Sunday",
          "Sunday",
          "Sunday",
          "Sunday",
          "Sunday",
          "Sunday",
          "Sunday",
          "Sunday",
          "Sunday",
          "Sunday",
          "Sunday",
          "Sunday",
          "Sunday",
          "Sunday",
          "Sunday",
          "Sunday",
          "Sunday",
          "Sunday",
          "Sunday",
          "Sunday",
          "Sunday",
          "Sunday",
          "Sunday",
          "Sunday",
          "Sunday",
          "Sunday",
          "Sunday",
          "Sunday",
          "Sunday",
          "Sunday",
          "Sunday",
          "Sunday",
          "Sunday",
          "Sunday",
          "Sunday",
          "Sunday",
          "Sunday",
          "Sunday",
          "Sunday",
          "Sunday",
          "Sunday",
          "Sunday",
          "Sunday",
          "Sunday",
          "Sunday",
          "Sunday",
          "Sunday",
          "Sunday",
          "Sunday",
          "Sunday",
          "Sunday",
          "Sunday",
          "Sunday",
          "Sunday",
          "Sunday",
          "Sunday",
          "Sunday",
          "Sunday",
          "Sunday",
          "Sunday",
          "Sunday",
          "Sunday",
          "Sunday",
          "Sunday",
          "Sunday",
          "Sunday",
          "Sunday",
          "Sunday",
          "Sunday",
          "Sunday",
          "Sunday",
          "Sunday",
          "Sunday",
          "Sunday",
          "Sunday",
          "Sunday",
          "Sunday",
          "Sunday",
          "Sunday",
          "Sunday",
          "Sunday",
          "Sunday",
          "Sunday",
          "Sunday",
          "Sunday",
          "Sunday",
          "Sunday",
          "Sunday",
          "Sunday",
          "Sunday",
          "Sunday",
          "Sunday",
          "Sunday",
          "Sunday",
          "Sunday",
          "Sunday",
          "Sunday",
          "Sunday",
          "Sunday",
          "Sunday",
          "Sunday",
          "Sunday",
          "Sunday",
          "Sunday",
          "Sunday",
          "Sunday",
          "Sunday",
          "Sunday",
          "Sunday",
          "Sunday",
          "Sunday",
          "Sunday",
          "Sunday",
          "Sunday",
          "Sunday",
          "Sunday",
          "Sunday",
          "Sunday",
          "Sunday",
          "Sunday",
          "Sunday",
          "Sunday",
          "Sunday",
          "Sunday",
          "Sunday",
          "Sunday",
          "Sunday",
          "Sunday",
          "Sunday",
          "Sunday",
          "Sunday",
          "Sunday",
          "Sunday",
          "Sunday",
          "Sunday",
          "Sunday",
          "Sunday",
          "Sunday",
          "Sunday",
          "Sunday",
          "Sunday",
          "Sunday",
          "Sunday",
          "Sunday",
          "Sunday",
          "Sunday",
          "Sunday",
          "Sunday",
          "Sunday",
          "Sunday",
          "Sunday",
          "Sunday",
          "Sunday",
          "Sunday",
          "Sunday",
          "Sunday",
          "Sunday",
          "Sunday",
          "Sunday",
          "Sunday",
          "Sunday",
          "Sunday",
          "Sunday",
          "Sunday",
          "Sunday",
          "Sunday",
          "Sunday",
          "Sunday",
          "Sunday",
          "Sunday",
          "Sunday",
          "Sunday",
          "Sunday",
          "Sunday",
          "Sunday",
          "Sunday",
          "Sunday",
          "Sunday",
          "Sunday",
          "Sunday",
          "Sunday",
          "Sunday",
          "Sunday",
          "Sunday",
          "Sunday",
          "Sunday",
          "Sunday",
          "Sunday",
          "Sunday",
          "Sunday",
          "Sunday",
          "Sunday",
          "Sunday",
          "Sunday",
          "Sunday",
          "Sunday",
          "Sunday",
          "Sunday",
          "Sunday",
          "Sunday",
          "Sunday",
          "Sunday",
          "Sunday",
          "Sunday",
          "Sunday",
          "Sunday",
          "Sunday",
          "Sunday",
          "Sunday",
          "Sunday",
          "Sunday",
          "Sunday",
          "Sunday",
          "Sunday",
          "Sunday",
          "Sunday",
          "Sunday",
          "Sunday",
          "Sunday",
          "Sunday",
          "Sunday",
          "Sunday",
          "Sunday",
          "Sunday",
          "Sunday",
          "Sunday",
          "Sunday",
          "Sunday",
          "Sunday",
          "Sunday",
          "Sunday",
          "Sunday",
          "Sunday",
          "Sunday",
          "Sunday",
          "Sunday",
          "Sunday",
          "Sunday",
          "Sunday",
          "Sunday",
          "Sunday",
          "Sunday",
          "Sunday",
          "Sunday",
          "Sunday",
          "Sunday",
          "Sunday",
          "Sunday",
          "Sunday",
          "Sunday",
          "Sunday",
          "Sunday",
          "Sunday",
          "Sunday",
          "Sunday",
          "Sunday",
          "Sunday",
          "Sunday",
          "Sunday",
          "Sunday",
          "Sunday",
          "Sunday",
          "Sunday",
          "Sunday",
          "Sunday",
          "Sunday",
          "Sunday",
          "Sunday",
          "Sunday",
          "Sunday",
          "Sunday",
          "Sunday",
          "Sunday",
          "Sunday",
          "Sunday",
          "Sunday",
          "Sunday",
          "Sunday",
          "Sunday",
          "Sunday",
          "Sunday",
          "Sunday",
          "Sunday",
          "Sunday",
          "Sunday",
          "Sunday",
          "Sunday",
          "Sunday",
          "Sunday",
          "Sunday",
          "Sunday",
          "Sunday",
          "Sunday",
          "Sunday",
          "Sunday",
          "Sunday",
          "Sunday",
          "Sunday",
          "Sunday",
          "Sunday",
          "Sunday",
          "Sunday",
          "Sunday",
          "Sunday",
          "Sunday",
          "Sunday",
          "Sunday",
          "Sunday",
          "Sunday",
          "Sunday",
          "Sunday",
          "Sunday",
          "Sunday",
          "Sunday",
          "Sunday",
          "Sunday",
          "Sunday",
          "Sunday",
          "Sunday",
          "Sunday",
          "Sunday",
          "Sunday",
          "Sunday",
          "Sunday",
          "Sunday",
          "Sunday",
          "Sunday",
          "Sunday",
          "Sunday",
          "Sunday",
          "Sunday",
          "Sunday",
          "Sunday",
          "Sunday",
          "Sunday",
          "Sunday",
          "Sunday",
          "Sunday",
          "Sunday",
          "Sunday",
          "Sunday",
          "Sunday",
          "Sunday",
          "Sunday",
          "Sunday",
          "Sunday",
          "Sunday",
          "Sunday",
          "Sunday",
          "Sunday",
          "Sunday",
          "Sunday",
          "Sunday",
          "Sunday",
          "Sunday",
          "Sunday",
          "Sunday",
          "Sunday",
          "Sunday",
          "Sunday",
          "Sunday",
          "Sunday",
          "Sunday",
          "Sunday",
          "Sunday",
          "Sunday",
          "Sunday",
          "Sunday",
          "Sunday",
          "Sunday",
          "Sunday",
          "Sunday",
          "Sunday",
          "Sunday",
          "Sunday",
          "Sunday",
          "Sunday",
          "Sunday",
          "Sunday",
          "Sunday",
          "Sunday",
          "Sunday",
          "Sunday",
          "Sunday",
          "Sunday",
          "Sunday",
          "Sunday",
          "Sunday",
          "Sunday",
          "Sunday",
          "Sunday",
          "Sunday",
          "Sunday",
          "Sunday",
          "Sunday",
          "Sunday",
          "Sunday",
          "Sunday",
          "Sunday",
          "Sunday",
          "Sunday",
          "Sunday",
          "Sunday",
          "Sunday",
          "Sunday",
          "Sunday",
          "Sunday",
          "Sunday",
          "Sunday",
          "Sunday",
          "Sunday",
          "Sunday",
          "Sunday",
          "Sunday"
         ],
         "xaxis": "x",
         "yaxis": "y"
        },
        {
         "alignmentgroup": "True",
         "bingroup": "x",
         "hovertemplate": "dayname=%{x}<br>count=%{y}<extra></extra>",
         "legendgroup": "Saturday",
         "marker": {
          "color": "#00cc96",
          "pattern": {
           "shape": ""
          }
         },
         "name": "Saturday",
         "offsetgroup": "Saturday",
         "orientation": "v",
         "showlegend": true,
         "type": "histogram",
         "x": [
          "Saturday",
          "Saturday",
          "Saturday",
          "Saturday",
          "Saturday",
          "Saturday",
          "Saturday",
          "Saturday",
          "Saturday",
          "Saturday",
          "Saturday",
          "Saturday",
          "Saturday",
          "Saturday",
          "Saturday",
          "Saturday",
          "Saturday",
          "Saturday",
          "Saturday",
          "Saturday",
          "Saturday",
          "Saturday",
          "Saturday",
          "Saturday",
          "Saturday",
          "Saturday",
          "Saturday",
          "Saturday",
          "Saturday",
          "Saturday",
          "Saturday",
          "Saturday",
          "Saturday",
          "Saturday",
          "Saturday",
          "Saturday",
          "Saturday",
          "Saturday",
          "Saturday",
          "Saturday",
          "Saturday",
          "Saturday",
          "Saturday",
          "Saturday",
          "Saturday",
          "Saturday",
          "Saturday",
          "Saturday",
          "Saturday",
          "Saturday",
          "Saturday",
          "Saturday",
          "Saturday",
          "Saturday",
          "Saturday",
          "Saturday",
          "Saturday",
          "Saturday",
          "Saturday",
          "Saturday",
          "Saturday",
          "Saturday",
          "Saturday",
          "Saturday",
          "Saturday",
          "Saturday",
          "Saturday",
          "Saturday",
          "Saturday",
          "Saturday",
          "Saturday",
          "Saturday",
          "Saturday",
          "Saturday",
          "Saturday",
          "Saturday",
          "Saturday",
          "Saturday",
          "Saturday",
          "Saturday",
          "Saturday",
          "Saturday",
          "Saturday",
          "Saturday",
          "Saturday",
          "Saturday",
          "Saturday",
          "Saturday",
          "Saturday",
          "Saturday",
          "Saturday",
          "Saturday",
          "Saturday",
          "Saturday",
          "Saturday",
          "Saturday",
          "Saturday",
          "Saturday",
          "Saturday",
          "Saturday",
          "Saturday",
          "Saturday",
          "Saturday",
          "Saturday",
          "Saturday",
          "Saturday",
          "Saturday",
          "Saturday",
          "Saturday",
          "Saturday",
          "Saturday",
          "Saturday",
          "Saturday",
          "Saturday",
          "Saturday",
          "Saturday",
          "Saturday",
          "Saturday",
          "Saturday",
          "Saturday",
          "Saturday",
          "Saturday",
          "Saturday",
          "Saturday",
          "Saturday",
          "Saturday",
          "Saturday",
          "Saturday",
          "Saturday",
          "Saturday",
          "Saturday",
          "Saturday",
          "Saturday",
          "Saturday",
          "Saturday",
          "Saturday",
          "Saturday",
          "Saturday",
          "Saturday",
          "Saturday",
          "Saturday",
          "Saturday",
          "Saturday",
          "Saturday",
          "Saturday",
          "Saturday",
          "Saturday",
          "Saturday",
          "Saturday",
          "Saturday",
          "Saturday",
          "Saturday",
          "Saturday",
          "Saturday",
          "Saturday",
          "Saturday",
          "Saturday",
          "Saturday",
          "Saturday",
          "Saturday",
          "Saturday",
          "Saturday",
          "Saturday",
          "Saturday",
          "Saturday",
          "Saturday",
          "Saturday",
          "Saturday",
          "Saturday",
          "Saturday",
          "Saturday",
          "Saturday",
          "Saturday",
          "Saturday",
          "Saturday",
          "Saturday",
          "Saturday",
          "Saturday",
          "Saturday",
          "Saturday",
          "Saturday",
          "Saturday",
          "Saturday",
          "Saturday",
          "Saturday",
          "Saturday",
          "Saturday",
          "Saturday",
          "Saturday",
          "Saturday",
          "Saturday",
          "Saturday",
          "Saturday",
          "Saturday",
          "Saturday",
          "Saturday",
          "Saturday",
          "Saturday",
          "Saturday",
          "Saturday",
          "Saturday",
          "Saturday",
          "Saturday",
          "Saturday",
          "Saturday",
          "Saturday",
          "Saturday",
          "Saturday",
          "Saturday",
          "Saturday",
          "Saturday",
          "Saturday",
          "Saturday",
          "Saturday",
          "Saturday",
          "Saturday",
          "Saturday",
          "Saturday",
          "Saturday",
          "Saturday",
          "Saturday",
          "Saturday",
          "Saturday",
          "Saturday",
          "Saturday",
          "Saturday",
          "Saturday",
          "Saturday",
          "Saturday",
          "Saturday",
          "Saturday",
          "Saturday",
          "Saturday",
          "Saturday",
          "Saturday",
          "Saturday",
          "Saturday",
          "Saturday",
          "Saturday",
          "Saturday",
          "Saturday",
          "Saturday",
          "Saturday",
          "Saturday",
          "Saturday",
          "Saturday",
          "Saturday",
          "Saturday",
          "Saturday",
          "Saturday",
          "Saturday",
          "Saturday",
          "Saturday",
          "Saturday",
          "Saturday",
          "Saturday",
          "Saturday",
          "Saturday",
          "Saturday",
          "Saturday",
          "Saturday",
          "Saturday",
          "Saturday",
          "Saturday",
          "Saturday",
          "Saturday",
          "Saturday",
          "Saturday",
          "Saturday",
          "Saturday",
          "Saturday",
          "Saturday",
          "Saturday",
          "Saturday",
          "Saturday",
          "Saturday",
          "Saturday",
          "Saturday",
          "Saturday",
          "Saturday",
          "Saturday",
          "Saturday",
          "Saturday",
          "Saturday",
          "Saturday",
          "Saturday",
          "Saturday",
          "Saturday",
          "Saturday",
          "Saturday",
          "Saturday",
          "Saturday",
          "Saturday",
          "Saturday",
          "Saturday",
          "Saturday",
          "Saturday",
          "Saturday",
          "Saturday",
          "Saturday",
          "Saturday",
          "Saturday",
          "Saturday",
          "Saturday",
          "Saturday",
          "Saturday",
          "Saturday",
          "Saturday",
          "Saturday",
          "Saturday",
          "Saturday",
          "Saturday",
          "Saturday",
          "Saturday",
          "Saturday",
          "Saturday",
          "Saturday",
          "Saturday",
          "Saturday",
          "Saturday",
          "Saturday",
          "Saturday",
          "Saturday",
          "Saturday",
          "Saturday",
          "Saturday",
          "Saturday",
          "Saturday",
          "Saturday",
          "Saturday",
          "Saturday",
          "Saturday",
          "Saturday",
          "Saturday",
          "Saturday",
          "Saturday",
          "Saturday",
          "Saturday",
          "Saturday",
          "Saturday",
          "Saturday",
          "Saturday",
          "Saturday",
          "Saturday",
          "Saturday",
          "Saturday",
          "Saturday",
          "Saturday",
          "Saturday",
          "Saturday",
          "Saturday",
          "Saturday",
          "Saturday",
          "Saturday",
          "Saturday",
          "Saturday",
          "Saturday",
          "Saturday",
          "Saturday",
          "Saturday",
          "Saturday",
          "Saturday",
          "Saturday",
          "Saturday",
          "Saturday",
          "Saturday",
          "Saturday",
          "Saturday",
          "Saturday",
          "Saturday",
          "Saturday",
          "Saturday",
          "Saturday",
          "Saturday",
          "Saturday",
          "Saturday",
          "Saturday",
          "Saturday",
          "Saturday",
          "Saturday",
          "Saturday",
          "Saturday",
          "Saturday",
          "Saturday",
          "Saturday",
          "Saturday",
          "Saturday",
          "Saturday",
          "Saturday",
          "Saturday",
          "Saturday",
          "Saturday",
          "Saturday",
          "Saturday",
          "Saturday",
          "Saturday",
          "Saturday",
          "Saturday",
          "Saturday",
          "Saturday",
          "Saturday",
          "Saturday",
          "Saturday",
          "Saturday",
          "Saturday",
          "Saturday",
          "Saturday",
          "Saturday",
          "Saturday",
          "Saturday",
          "Saturday",
          "Saturday",
          "Saturday",
          "Saturday",
          "Saturday",
          "Saturday",
          "Saturday",
          "Saturday",
          "Saturday",
          "Saturday",
          "Saturday",
          "Saturday",
          "Saturday",
          "Saturday",
          "Saturday",
          "Saturday",
          "Saturday",
          "Saturday",
          "Saturday",
          "Saturday",
          "Saturday",
          "Saturday",
          "Saturday",
          "Saturday",
          "Saturday",
          "Saturday",
          "Saturday",
          "Saturday",
          "Saturday",
          "Saturday",
          "Saturday",
          "Saturday",
          "Saturday",
          "Saturday",
          "Saturday",
          "Saturday",
          "Saturday",
          "Saturday",
          "Saturday",
          "Saturday",
          "Saturday",
          "Saturday",
          "Saturday",
          "Saturday",
          "Saturday",
          "Saturday",
          "Saturday",
          "Saturday",
          "Saturday",
          "Saturday",
          "Saturday",
          "Saturday",
          "Saturday",
          "Saturday",
          "Saturday",
          "Saturday",
          "Saturday",
          "Saturday",
          "Saturday",
          "Saturday",
          "Saturday",
          "Saturday",
          "Saturday",
          "Saturday",
          "Saturday",
          "Saturday",
          "Saturday",
          "Saturday",
          "Saturday",
          "Saturday",
          "Saturday",
          "Saturday",
          "Saturday",
          "Saturday",
          "Saturday",
          "Saturday",
          "Saturday",
          "Saturday",
          "Saturday",
          "Saturday",
          "Saturday",
          "Saturday",
          "Saturday",
          "Saturday",
          "Saturday",
          "Saturday",
          "Saturday",
          "Saturday",
          "Saturday",
          "Saturday"
         ],
         "xaxis": "x",
         "yaxis": "y"
        },
        {
         "alignmentgroup": "True",
         "bingroup": "x",
         "hovertemplate": "dayname=%{x}<br>count=%{y}<extra></extra>",
         "legendgroup": "Friday",
         "marker": {
          "color": "#ab63fa",
          "pattern": {
           "shape": ""
          }
         },
         "name": "Friday",
         "offsetgroup": "Friday",
         "orientation": "v",
         "showlegend": true,
         "type": "histogram",
         "x": [
          "Friday",
          "Friday",
          "Friday",
          "Friday",
          "Friday",
          "Friday",
          "Friday",
          "Friday",
          "Friday",
          "Friday",
          "Friday",
          "Friday",
          "Friday",
          "Friday",
          "Friday",
          "Friday",
          "Friday",
          "Friday",
          "Friday",
          "Friday",
          "Friday",
          "Friday",
          "Friday",
          "Friday",
          "Friday",
          "Friday",
          "Friday",
          "Friday",
          "Friday",
          "Friday",
          "Friday",
          "Friday",
          "Friday",
          "Friday",
          "Friday",
          "Friday",
          "Friday",
          "Friday",
          "Friday",
          "Friday",
          "Friday",
          "Friday",
          "Friday",
          "Friday",
          "Friday",
          "Friday",
          "Friday",
          "Friday",
          "Friday",
          "Friday",
          "Friday",
          "Friday",
          "Friday",
          "Friday",
          "Friday",
          "Friday",
          "Friday",
          "Friday",
          "Friday",
          "Friday",
          "Friday",
          "Friday",
          "Friday",
          "Friday",
          "Friday",
          "Friday",
          "Friday",
          "Friday",
          "Friday",
          "Friday",
          "Friday",
          "Friday",
          "Friday",
          "Friday",
          "Friday",
          "Friday",
          "Friday",
          "Friday",
          "Friday",
          "Friday",
          "Friday",
          "Friday",
          "Friday",
          "Friday",
          "Friday",
          "Friday",
          "Friday",
          "Friday",
          "Friday",
          "Friday",
          "Friday",
          "Friday",
          "Friday",
          "Friday",
          "Friday",
          "Friday",
          "Friday",
          "Friday",
          "Friday",
          "Friday",
          "Friday",
          "Friday",
          "Friday",
          "Friday",
          "Friday",
          "Friday",
          "Friday",
          "Friday",
          "Friday",
          "Friday",
          "Friday",
          "Friday",
          "Friday",
          "Friday",
          "Friday",
          "Friday",
          "Friday",
          "Friday",
          "Friday",
          "Friday",
          "Friday",
          "Friday",
          "Friday",
          "Friday",
          "Friday",
          "Friday",
          "Friday",
          "Friday",
          "Friday",
          "Friday",
          "Friday",
          "Friday",
          "Friday",
          "Friday",
          "Friday",
          "Friday",
          "Friday",
          "Friday",
          "Friday",
          "Friday",
          "Friday",
          "Friday",
          "Friday",
          "Friday",
          "Friday",
          "Friday",
          "Friday",
          "Friday",
          "Friday",
          "Friday",
          "Friday",
          "Friday",
          "Friday",
          "Friday",
          "Friday",
          "Friday",
          "Friday",
          "Friday",
          "Friday",
          "Friday",
          "Friday",
          "Friday",
          "Friday",
          "Friday",
          "Friday",
          "Friday",
          "Friday",
          "Friday",
          "Friday",
          "Friday",
          "Friday",
          "Friday",
          "Friday",
          "Friday",
          "Friday",
          "Friday",
          "Friday",
          "Friday",
          "Friday",
          "Friday",
          "Friday",
          "Friday",
          "Friday",
          "Friday",
          "Friday",
          "Friday",
          "Friday",
          "Friday",
          "Friday",
          "Friday",
          "Friday",
          "Friday",
          "Friday",
          "Friday",
          "Friday",
          "Friday",
          "Friday",
          "Friday",
          "Friday",
          "Friday",
          "Friday",
          "Friday",
          "Friday",
          "Friday",
          "Friday",
          "Friday",
          "Friday",
          "Friday",
          "Friday",
          "Friday",
          "Friday",
          "Friday",
          "Friday",
          "Friday",
          "Friday",
          "Friday",
          "Friday",
          "Friday",
          "Friday",
          "Friday",
          "Friday",
          "Friday",
          "Friday",
          "Friday",
          "Friday",
          "Friday",
          "Friday",
          "Friday",
          "Friday",
          "Friday",
          "Friday",
          "Friday",
          "Friday",
          "Friday",
          "Friday",
          "Friday",
          "Friday",
          "Friday",
          "Friday",
          "Friday",
          "Friday",
          "Friday",
          "Friday",
          "Friday",
          "Friday",
          "Friday",
          "Friday",
          "Friday",
          "Friday",
          "Friday",
          "Friday",
          "Friday",
          "Friday",
          "Friday",
          "Friday",
          "Friday",
          "Friday",
          "Friday",
          "Friday",
          "Friday",
          "Friday",
          "Friday",
          "Friday",
          "Friday",
          "Friday",
          "Friday",
          "Friday",
          "Friday",
          "Friday",
          "Friday",
          "Friday",
          "Friday",
          "Friday",
          "Friday",
          "Friday",
          "Friday",
          "Friday",
          "Friday",
          "Friday",
          "Friday",
          "Friday",
          "Friday",
          "Friday",
          "Friday",
          "Friday",
          "Friday",
          "Friday",
          "Friday",
          "Friday",
          "Friday",
          "Friday",
          "Friday",
          "Friday",
          "Friday",
          "Friday",
          "Friday",
          "Friday",
          "Friday",
          "Friday",
          "Friday",
          "Friday",
          "Friday",
          "Friday",
          "Friday",
          "Friday",
          "Friday",
          "Friday",
          "Friday",
          "Friday",
          "Friday",
          "Friday",
          "Friday",
          "Friday",
          "Friday",
          "Friday",
          "Friday",
          "Friday",
          "Friday",
          "Friday",
          "Friday",
          "Friday",
          "Friday",
          "Friday",
          "Friday",
          "Friday",
          "Friday",
          "Friday",
          "Friday",
          "Friday",
          "Friday",
          "Friday",
          "Friday",
          "Friday",
          "Friday",
          "Friday",
          "Friday",
          "Friday",
          "Friday",
          "Friday",
          "Friday",
          "Friday",
          "Friday",
          "Friday",
          "Friday",
          "Friday",
          "Friday",
          "Friday",
          "Friday",
          "Friday",
          "Friday",
          "Friday",
          "Friday",
          "Friday",
          "Friday",
          "Friday",
          "Friday",
          "Friday",
          "Friday",
          "Friday",
          "Friday",
          "Friday",
          "Friday",
          "Friday",
          "Friday",
          "Friday",
          "Friday",
          "Friday",
          "Friday",
          "Friday",
          "Friday",
          "Friday",
          "Friday",
          "Friday",
          "Friday",
          "Friday",
          "Friday",
          "Friday",
          "Friday",
          "Friday",
          "Friday",
          "Friday",
          "Friday",
          "Friday",
          "Friday",
          "Friday",
          "Friday",
          "Friday",
          "Friday",
          "Friday",
          "Friday",
          "Friday",
          "Friday",
          "Friday",
          "Friday",
          "Friday",
          "Friday",
          "Friday",
          "Friday",
          "Friday",
          "Friday",
          "Friday",
          "Friday",
          "Friday",
          "Friday",
          "Friday",
          "Friday",
          "Friday",
          "Friday",
          "Friday",
          "Friday",
          "Friday",
          "Friday",
          "Friday",
          "Friday",
          "Friday",
          "Friday",
          "Friday",
          "Friday",
          "Friday",
          "Friday",
          "Friday",
          "Friday",
          "Friday",
          "Friday",
          "Friday",
          "Friday",
          "Friday",
          "Friday",
          "Friday",
          "Friday",
          "Friday",
          "Friday",
          "Friday",
          "Friday",
          "Friday",
          "Friday",
          "Friday",
          "Friday",
          "Friday",
          "Friday",
          "Friday",
          "Friday",
          "Friday",
          "Friday",
          "Friday",
          "Friday",
          "Friday",
          "Friday",
          "Friday",
          "Friday",
          "Friday",
          "Friday",
          "Friday",
          "Friday",
          "Friday",
          "Friday",
          "Friday",
          "Friday",
          "Friday",
          "Friday",
          "Friday",
          "Friday",
          "Friday",
          "Friday",
          "Friday",
          "Friday",
          "Friday",
          "Friday",
          "Friday",
          "Friday",
          "Friday",
          "Friday",
          "Friday",
          "Friday",
          "Friday",
          "Friday",
          "Friday",
          "Friday",
          "Friday",
          "Friday",
          "Friday",
          "Friday",
          "Friday",
          "Friday",
          "Friday",
          "Friday",
          "Friday",
          "Friday",
          "Friday",
          "Friday",
          "Friday",
          "Friday",
          "Friday",
          "Friday",
          "Friday",
          "Friday",
          "Friday",
          "Friday",
          "Friday",
          "Friday",
          "Friday",
          "Friday",
          "Friday",
          "Friday",
          "Friday",
          "Friday",
          "Friday",
          "Friday",
          "Friday",
          "Friday",
          "Friday",
          "Friday",
          "Friday",
          "Friday",
          "Friday",
          "Friday",
          "Friday",
          "Friday",
          "Friday",
          "Friday",
          "Friday",
          "Friday",
          "Friday",
          "Friday",
          "Friday",
          "Friday",
          "Friday",
          "Friday",
          "Friday",
          "Friday",
          "Friday",
          "Friday",
          "Friday",
          "Friday",
          "Friday",
          "Friday",
          "Friday",
          "Friday",
          "Friday",
          "Friday",
          "Friday",
          "Friday",
          "Friday",
          "Friday",
          "Friday",
          "Friday",
          "Friday",
          "Friday",
          "Friday",
          "Friday",
          "Friday",
          "Friday",
          "Friday",
          "Friday",
          "Friday",
          "Friday",
          "Friday",
          "Friday",
          "Friday",
          "Friday",
          "Friday",
          "Friday",
          "Friday",
          "Friday",
          "Friday",
          "Friday",
          "Friday",
          "Friday",
          "Friday",
          "Friday",
          "Friday",
          "Friday",
          "Friday",
          "Friday",
          "Friday",
          "Friday",
          "Friday",
          "Friday",
          "Friday",
          "Friday",
          "Friday",
          "Friday",
          "Friday",
          "Friday",
          "Friday",
          "Friday",
          "Friday",
          "Friday",
          "Friday",
          "Friday",
          "Friday",
          "Friday",
          "Friday",
          "Friday",
          "Friday",
          "Friday",
          "Friday",
          "Friday",
          "Friday",
          "Friday",
          "Friday",
          "Friday",
          "Friday",
          "Friday",
          "Friday",
          "Friday",
          "Friday",
          "Friday",
          "Friday",
          "Friday",
          "Friday",
          "Friday",
          "Friday",
          "Friday",
          "Friday",
          "Friday",
          "Friday",
          "Friday",
          "Friday",
          "Friday",
          "Friday",
          "Friday",
          "Friday",
          "Friday",
          "Friday",
          "Friday",
          "Friday",
          "Friday",
          "Friday",
          "Friday",
          "Friday",
          "Friday",
          "Friday",
          "Friday",
          "Friday",
          "Friday",
          "Friday",
          "Friday",
          "Friday",
          "Friday",
          "Friday",
          "Friday"
         ],
         "xaxis": "x",
         "yaxis": "y"
        },
        {
         "alignmentgroup": "True",
         "bingroup": "x",
         "hovertemplate": "dayname=%{x}<br>count=%{y}<extra></extra>",
         "legendgroup": "Thursday",
         "marker": {
          "color": "#FFA15A",
          "pattern": {
           "shape": ""
          }
         },
         "name": "Thursday",
         "offsetgroup": "Thursday",
         "orientation": "v",
         "showlegend": true,
         "type": "histogram",
         "x": [
          "Thursday",
          "Thursday",
          "Thursday",
          "Thursday",
          "Thursday",
          "Thursday",
          "Thursday",
          "Thursday",
          "Thursday",
          "Thursday",
          "Thursday",
          "Thursday",
          "Thursday",
          "Thursday",
          "Thursday",
          "Thursday",
          "Thursday",
          "Thursday",
          "Thursday",
          "Thursday",
          "Thursday",
          "Thursday",
          "Thursday",
          "Thursday",
          "Thursday",
          "Thursday",
          "Thursday",
          "Thursday",
          "Thursday",
          "Thursday",
          "Thursday",
          "Thursday",
          "Thursday",
          "Thursday",
          "Thursday",
          "Thursday",
          "Thursday",
          "Thursday",
          "Thursday",
          "Thursday",
          "Thursday",
          "Thursday",
          "Thursday",
          "Thursday",
          "Thursday",
          "Thursday",
          "Thursday",
          "Thursday",
          "Thursday",
          "Thursday",
          "Thursday",
          "Thursday",
          "Thursday",
          "Thursday",
          "Thursday",
          "Thursday",
          "Thursday",
          "Thursday",
          "Thursday",
          "Thursday",
          "Thursday",
          "Thursday",
          "Thursday",
          "Thursday",
          "Thursday",
          "Thursday",
          "Thursday",
          "Thursday",
          "Thursday",
          "Thursday",
          "Thursday",
          "Thursday",
          "Thursday",
          "Thursday",
          "Thursday",
          "Thursday",
          "Thursday",
          "Thursday",
          "Thursday",
          "Thursday",
          "Thursday",
          "Thursday",
          "Thursday",
          "Thursday",
          "Thursday",
          "Thursday",
          "Thursday",
          "Thursday",
          "Thursday",
          "Thursday",
          "Thursday",
          "Thursday",
          "Thursday",
          "Thursday",
          "Thursday",
          "Thursday",
          "Thursday",
          "Thursday",
          "Thursday",
          "Thursday",
          "Thursday",
          "Thursday",
          "Thursday",
          "Thursday",
          "Thursday",
          "Thursday",
          "Thursday",
          "Thursday",
          "Thursday",
          "Thursday",
          "Thursday",
          "Thursday",
          "Thursday",
          "Thursday",
          "Thursday",
          "Thursday",
          "Thursday",
          "Thursday",
          "Thursday",
          "Thursday",
          "Thursday",
          "Thursday",
          "Thursday",
          "Thursday",
          "Thursday",
          "Thursday",
          "Thursday",
          "Thursday",
          "Thursday",
          "Thursday",
          "Thursday",
          "Thursday",
          "Thursday",
          "Thursday",
          "Thursday",
          "Thursday",
          "Thursday",
          "Thursday",
          "Thursday",
          "Thursday",
          "Thursday",
          "Thursday",
          "Thursday",
          "Thursday",
          "Thursday",
          "Thursday",
          "Thursday",
          "Thursday",
          "Thursday",
          "Thursday",
          "Thursday",
          "Thursday",
          "Thursday",
          "Thursday",
          "Thursday",
          "Thursday",
          "Thursday",
          "Thursday",
          "Thursday",
          "Thursday",
          "Thursday",
          "Thursday",
          "Thursday",
          "Thursday",
          "Thursday",
          "Thursday",
          "Thursday",
          "Thursday",
          "Thursday",
          "Thursday",
          "Thursday",
          "Thursday",
          "Thursday",
          "Thursday",
          "Thursday",
          "Thursday",
          "Thursday",
          "Thursday",
          "Thursday",
          "Thursday",
          "Thursday",
          "Thursday",
          "Thursday",
          "Thursday",
          "Thursday",
          "Thursday",
          "Thursday",
          "Thursday",
          "Thursday",
          "Thursday",
          "Thursday",
          "Thursday",
          "Thursday",
          "Thursday",
          "Thursday",
          "Thursday",
          "Thursday",
          "Thursday",
          "Thursday",
          "Thursday",
          "Thursday",
          "Thursday",
          "Thursday",
          "Thursday",
          "Thursday",
          "Thursday",
          "Thursday",
          "Thursday",
          "Thursday",
          "Thursday",
          "Thursday",
          "Thursday",
          "Thursday",
          "Thursday",
          "Thursday",
          "Thursday",
          "Thursday",
          "Thursday",
          "Thursday",
          "Thursday",
          "Thursday",
          "Thursday",
          "Thursday",
          "Thursday",
          "Thursday",
          "Thursday",
          "Thursday",
          "Thursday",
          "Thursday",
          "Thursday",
          "Thursday",
          "Thursday",
          "Thursday",
          "Thursday",
          "Thursday",
          "Thursday",
          "Thursday",
          "Thursday",
          "Thursday",
          "Thursday",
          "Thursday",
          "Thursday",
          "Thursday",
          "Thursday",
          "Thursday",
          "Thursday",
          "Thursday",
          "Thursday",
          "Thursday",
          "Thursday",
          "Thursday",
          "Thursday",
          "Thursday",
          "Thursday",
          "Thursday",
          "Thursday",
          "Thursday",
          "Thursday",
          "Thursday",
          "Thursday",
          "Thursday",
          "Thursday",
          "Thursday",
          "Thursday",
          "Thursday",
          "Thursday",
          "Thursday",
          "Thursday",
          "Thursday",
          "Thursday",
          "Thursday",
          "Thursday",
          "Thursday",
          "Thursday",
          "Thursday",
          "Thursday",
          "Thursday",
          "Thursday",
          "Thursday",
          "Thursday",
          "Thursday",
          "Thursday",
          "Thursday",
          "Thursday",
          "Thursday",
          "Thursday",
          "Thursday",
          "Thursday",
          "Thursday",
          "Thursday",
          "Thursday",
          "Thursday",
          "Thursday",
          "Thursday",
          "Thursday",
          "Thursday",
          "Thursday",
          "Thursday",
          "Thursday",
          "Thursday",
          "Thursday",
          "Thursday",
          "Thursday",
          "Thursday",
          "Thursday",
          "Thursday",
          "Thursday",
          "Thursday",
          "Thursday",
          "Thursday",
          "Thursday",
          "Thursday",
          "Thursday",
          "Thursday",
          "Thursday",
          "Thursday",
          "Thursday",
          "Thursday",
          "Thursday",
          "Thursday",
          "Thursday",
          "Thursday",
          "Thursday",
          "Thursday",
          "Thursday",
          "Thursday",
          "Thursday",
          "Thursday",
          "Thursday",
          "Thursday",
          "Thursday",
          "Thursday",
          "Thursday",
          "Thursday",
          "Thursday",
          "Thursday",
          "Thursday",
          "Thursday",
          "Thursday",
          "Thursday",
          "Thursday",
          "Thursday",
          "Thursday",
          "Thursday",
          "Thursday",
          "Thursday",
          "Thursday",
          "Thursday",
          "Thursday",
          "Thursday",
          "Thursday",
          "Thursday",
          "Thursday",
          "Thursday",
          "Thursday",
          "Thursday",
          "Thursday",
          "Thursday",
          "Thursday",
          "Thursday",
          "Thursday",
          "Thursday",
          "Thursday",
          "Thursday",
          "Thursday",
          "Thursday",
          "Thursday",
          "Thursday",
          "Thursday",
          "Thursday",
          "Thursday",
          "Thursday",
          "Thursday",
          "Thursday",
          "Thursday",
          "Thursday",
          "Thursday",
          "Thursday",
          "Thursday",
          "Thursday",
          "Thursday",
          "Thursday",
          "Thursday",
          "Thursday",
          "Thursday",
          "Thursday",
          "Thursday",
          "Thursday",
          "Thursday",
          "Thursday",
          "Thursday",
          "Thursday",
          "Thursday",
          "Thursday",
          "Thursday",
          "Thursday",
          "Thursday",
          "Thursday",
          "Thursday",
          "Thursday",
          "Thursday",
          "Thursday",
          "Thursday",
          "Thursday",
          "Thursday",
          "Thursday",
          "Thursday",
          "Thursday",
          "Thursday",
          "Thursday",
          "Thursday",
          "Thursday",
          "Thursday",
          "Thursday",
          "Thursday",
          "Thursday",
          "Thursday",
          "Thursday",
          "Thursday",
          "Thursday",
          "Thursday",
          "Thursday",
          "Thursday",
          "Thursday",
          "Thursday",
          "Thursday",
          "Thursday",
          "Thursday",
          "Thursday",
          "Thursday",
          "Thursday",
          "Thursday",
          "Thursday",
          "Thursday",
          "Thursday",
          "Thursday",
          "Thursday",
          "Thursday",
          "Thursday",
          "Thursday",
          "Thursday",
          "Thursday",
          "Thursday",
          "Thursday",
          "Thursday",
          "Thursday",
          "Thursday",
          "Thursday",
          "Thursday",
          "Thursday",
          "Thursday",
          "Thursday",
          "Thursday",
          "Thursday",
          "Thursday",
          "Thursday",
          "Thursday",
          "Thursday",
          "Thursday",
          "Thursday",
          "Thursday",
          "Thursday",
          "Thursday",
          "Thursday",
          "Thursday",
          "Thursday",
          "Thursday",
          "Thursday",
          "Thursday",
          "Thursday",
          "Thursday",
          "Thursday",
          "Thursday",
          "Thursday",
          "Thursday",
          "Thursday",
          "Thursday",
          "Thursday",
          "Thursday",
          "Thursday",
          "Thursday",
          "Thursday",
          "Thursday",
          "Thursday",
          "Thursday",
          "Thursday",
          "Thursday",
          "Thursday",
          "Thursday",
          "Thursday",
          "Thursday",
          "Thursday",
          "Thursday",
          "Thursday",
          "Thursday",
          "Thursday",
          "Thursday",
          "Thursday",
          "Thursday",
          "Thursday",
          "Thursday",
          "Thursday",
          "Thursday",
          "Thursday",
          "Thursday",
          "Thursday",
          "Thursday",
          "Thursday",
          "Thursday",
          "Thursday",
          "Thursday",
          "Thursday",
          "Thursday",
          "Thursday",
          "Thursday",
          "Thursday",
          "Thursday",
          "Thursday",
          "Thursday",
          "Thursday",
          "Thursday",
          "Thursday",
          "Thursday",
          "Thursday",
          "Thursday",
          "Thursday",
          "Thursday",
          "Thursday",
          "Thursday",
          "Thursday",
          "Thursday",
          "Thursday",
          "Thursday",
          "Thursday",
          "Thursday",
          "Thursday",
          "Thursday",
          "Thursday",
          "Thursday",
          "Thursday",
          "Thursday",
          "Thursday",
          "Thursday",
          "Thursday",
          "Thursday",
          "Thursday",
          "Thursday",
          "Thursday",
          "Thursday",
          "Thursday",
          "Thursday",
          "Thursday",
          "Thursday",
          "Thursday",
          "Thursday",
          "Thursday",
          "Thursday",
          "Thursday",
          "Thursday",
          "Thursday",
          "Thursday",
          "Thursday",
          "Thursday",
          "Thursday",
          "Thursday",
          "Thursday",
          "Thursday",
          "Thursday",
          "Thursday",
          "Thursday",
          "Thursday",
          "Thursday",
          "Thursday",
          "Thursday",
          "Thursday",
          "Thursday",
          "Thursday",
          "Thursday",
          "Thursday",
          "Thursday",
          "Thursday",
          "Thursday",
          "Thursday",
          "Thursday",
          "Thursday",
          "Thursday",
          "Thursday",
          "Thursday",
          "Thursday",
          "Thursday",
          "Thursday",
          "Thursday",
          "Thursday",
          "Thursday",
          "Thursday",
          "Thursday",
          "Thursday",
          "Thursday",
          "Thursday",
          "Thursday",
          "Thursday",
          "Thursday",
          "Thursday",
          "Thursday",
          "Thursday",
          "Thursday",
          "Thursday",
          "Thursday",
          "Thursday",
          "Thursday",
          "Thursday",
          "Thursday",
          "Thursday",
          "Thursday",
          "Thursday",
          "Thursday",
          "Thursday",
          "Thursday",
          "Thursday",
          "Thursday",
          "Thursday",
          "Thursday",
          "Thursday",
          "Thursday",
          "Thursday",
          "Thursday",
          "Thursday",
          "Thursday",
          "Thursday",
          "Thursday",
          "Thursday",
          "Thursday",
          "Thursday",
          "Thursday",
          "Thursday",
          "Thursday",
          "Thursday",
          "Thursday",
          "Thursday",
          "Thursday",
          "Thursday",
          "Thursday",
          "Thursday",
          "Thursday",
          "Thursday",
          "Thursday",
          "Thursday",
          "Thursday",
          "Thursday",
          "Thursday",
          "Thursday",
          "Thursday",
          "Thursday",
          "Thursday",
          "Thursday",
          "Thursday",
          "Thursday"
         ],
         "xaxis": "x",
         "yaxis": "y"
        },
        {
         "alignmentgroup": "True",
         "bingroup": "x",
         "hovertemplate": "dayname=%{x}<br>count=%{y}<extra></extra>",
         "legendgroup": "Wednesday",
         "marker": {
          "color": "#19d3f3",
          "pattern": {
           "shape": ""
          }
         },
         "name": "Wednesday",
         "offsetgroup": "Wednesday",
         "orientation": "v",
         "showlegend": true,
         "type": "histogram",
         "x": [
          "Wednesday",
          "Wednesday",
          "Wednesday",
          "Wednesday",
          "Wednesday",
          "Wednesday",
          "Wednesday",
          "Wednesday",
          "Wednesday",
          "Wednesday",
          "Wednesday",
          "Wednesday",
          "Wednesday",
          "Wednesday",
          "Wednesday",
          "Wednesday",
          "Wednesday",
          "Wednesday",
          "Wednesday",
          "Wednesday",
          "Wednesday",
          "Wednesday",
          "Wednesday",
          "Wednesday",
          "Wednesday",
          "Wednesday",
          "Wednesday",
          "Wednesday",
          "Wednesday",
          "Wednesday",
          "Wednesday",
          "Wednesday",
          "Wednesday",
          "Wednesday",
          "Wednesday",
          "Wednesday",
          "Wednesday",
          "Wednesday",
          "Wednesday",
          "Wednesday",
          "Wednesday",
          "Wednesday",
          "Wednesday",
          "Wednesday",
          "Wednesday",
          "Wednesday",
          "Wednesday",
          "Wednesday",
          "Wednesday",
          "Wednesday",
          "Wednesday",
          "Wednesday",
          "Wednesday",
          "Wednesday",
          "Wednesday",
          "Wednesday",
          "Wednesday",
          "Wednesday",
          "Wednesday",
          "Wednesday",
          "Wednesday",
          "Wednesday",
          "Wednesday",
          "Wednesday",
          "Wednesday",
          "Wednesday",
          "Wednesday",
          "Wednesday",
          "Wednesday",
          "Wednesday",
          "Wednesday",
          "Wednesday",
          "Wednesday",
          "Wednesday",
          "Wednesday",
          "Wednesday",
          "Wednesday",
          "Wednesday",
          "Wednesday",
          "Wednesday",
          "Wednesday",
          "Wednesday",
          "Wednesday",
          "Wednesday",
          "Wednesday",
          "Wednesday",
          "Wednesday",
          "Wednesday",
          "Wednesday",
          "Wednesday",
          "Wednesday",
          "Wednesday",
          "Wednesday",
          "Wednesday",
          "Wednesday",
          "Wednesday",
          "Wednesday",
          "Wednesday",
          "Wednesday",
          "Wednesday",
          "Wednesday",
          "Wednesday",
          "Wednesday",
          "Wednesday",
          "Wednesday",
          "Wednesday",
          "Wednesday",
          "Wednesday",
          "Wednesday",
          "Wednesday",
          "Wednesday",
          "Wednesday",
          "Wednesday",
          "Wednesday",
          "Wednesday",
          "Wednesday",
          "Wednesday",
          "Wednesday",
          "Wednesday",
          "Wednesday",
          "Wednesday",
          "Wednesday",
          "Wednesday",
          "Wednesday",
          "Wednesday",
          "Wednesday",
          "Wednesday",
          "Wednesday",
          "Wednesday",
          "Wednesday",
          "Wednesday",
          "Wednesday",
          "Wednesday",
          "Wednesday",
          "Wednesday",
          "Wednesday",
          "Wednesday",
          "Wednesday",
          "Wednesday",
          "Wednesday",
          "Wednesday",
          "Wednesday",
          "Wednesday",
          "Wednesday",
          "Wednesday",
          "Wednesday",
          "Wednesday",
          "Wednesday",
          "Wednesday",
          "Wednesday",
          "Wednesday",
          "Wednesday",
          "Wednesday",
          "Wednesday",
          "Wednesday",
          "Wednesday",
          "Wednesday",
          "Wednesday",
          "Wednesday",
          "Wednesday",
          "Wednesday",
          "Wednesday",
          "Wednesday",
          "Wednesday",
          "Wednesday",
          "Wednesday",
          "Wednesday",
          "Wednesday",
          "Wednesday",
          "Wednesday",
          "Wednesday",
          "Wednesday",
          "Wednesday",
          "Wednesday",
          "Wednesday",
          "Wednesday",
          "Wednesday",
          "Wednesday",
          "Wednesday",
          "Wednesday",
          "Wednesday",
          "Wednesday",
          "Wednesday",
          "Wednesday",
          "Wednesday",
          "Wednesday",
          "Wednesday",
          "Wednesday",
          "Wednesday",
          "Wednesday",
          "Wednesday",
          "Wednesday",
          "Wednesday",
          "Wednesday",
          "Wednesday",
          "Wednesday",
          "Wednesday",
          "Wednesday",
          "Wednesday",
          "Wednesday",
          "Wednesday",
          "Wednesday",
          "Wednesday",
          "Wednesday",
          "Wednesday",
          "Wednesday",
          "Wednesday",
          "Wednesday",
          "Wednesday",
          "Wednesday",
          "Wednesday",
          "Wednesday",
          "Wednesday",
          "Wednesday",
          "Wednesday",
          "Wednesday",
          "Wednesday",
          "Wednesday",
          "Wednesday",
          "Wednesday",
          "Wednesday",
          "Wednesday",
          "Wednesday",
          "Wednesday",
          "Wednesday",
          "Wednesday",
          "Wednesday",
          "Wednesday",
          "Wednesday",
          "Wednesday",
          "Wednesday",
          "Wednesday",
          "Wednesday",
          "Wednesday",
          "Wednesday",
          "Wednesday",
          "Wednesday",
          "Wednesday",
          "Wednesday",
          "Wednesday",
          "Wednesday",
          "Wednesday",
          "Wednesday",
          "Wednesday",
          "Wednesday",
          "Wednesday",
          "Wednesday",
          "Wednesday",
          "Wednesday",
          "Wednesday",
          "Wednesday",
          "Wednesday",
          "Wednesday",
          "Wednesday",
          "Wednesday",
          "Wednesday",
          "Wednesday",
          "Wednesday",
          "Wednesday",
          "Wednesday",
          "Wednesday",
          "Wednesday",
          "Wednesday",
          "Wednesday",
          "Wednesday",
          "Wednesday",
          "Wednesday",
          "Wednesday",
          "Wednesday",
          "Wednesday",
          "Wednesday",
          "Wednesday",
          "Wednesday",
          "Wednesday",
          "Wednesday",
          "Wednesday",
          "Wednesday",
          "Wednesday",
          "Wednesday",
          "Wednesday",
          "Wednesday",
          "Wednesday",
          "Wednesday",
          "Wednesday",
          "Wednesday",
          "Wednesday",
          "Wednesday",
          "Wednesday",
          "Wednesday",
          "Wednesday",
          "Wednesday",
          "Wednesday",
          "Wednesday",
          "Wednesday",
          "Wednesday",
          "Wednesday",
          "Wednesday",
          "Wednesday",
          "Wednesday",
          "Wednesday",
          "Wednesday",
          "Wednesday",
          "Wednesday",
          "Wednesday",
          "Wednesday",
          "Wednesday",
          "Wednesday",
          "Wednesday",
          "Wednesday",
          "Wednesday",
          "Wednesday",
          "Wednesday",
          "Wednesday",
          "Wednesday",
          "Wednesday",
          "Wednesday",
          "Wednesday",
          "Wednesday",
          "Wednesday",
          "Wednesday",
          "Wednesday",
          "Wednesday",
          "Wednesday",
          "Wednesday",
          "Wednesday",
          "Wednesday",
          "Wednesday",
          "Wednesday",
          "Wednesday",
          "Wednesday",
          "Wednesday",
          "Wednesday",
          "Wednesday",
          "Wednesday",
          "Wednesday",
          "Wednesday",
          "Wednesday",
          "Wednesday",
          "Wednesday",
          "Wednesday",
          "Wednesday",
          "Wednesday",
          "Wednesday",
          "Wednesday",
          "Wednesday",
          "Wednesday",
          "Wednesday",
          "Wednesday",
          "Wednesday",
          "Wednesday",
          "Wednesday",
          "Wednesday",
          "Wednesday",
          "Wednesday",
          "Wednesday",
          "Wednesday",
          "Wednesday",
          "Wednesday",
          "Wednesday",
          "Wednesday",
          "Wednesday",
          "Wednesday",
          "Wednesday",
          "Wednesday",
          "Wednesday",
          "Wednesday",
          "Wednesday",
          "Wednesday",
          "Wednesday",
          "Wednesday",
          "Wednesday",
          "Wednesday",
          "Wednesday",
          "Wednesday",
          "Wednesday",
          "Wednesday",
          "Wednesday",
          "Wednesday",
          "Wednesday",
          "Wednesday",
          "Wednesday",
          "Wednesday",
          "Wednesday",
          "Wednesday",
          "Wednesday",
          "Wednesday",
          "Wednesday",
          "Wednesday",
          "Wednesday",
          "Wednesday",
          "Wednesday",
          "Wednesday",
          "Wednesday",
          "Wednesday"
         ],
         "xaxis": "x",
         "yaxis": "y"
        }
       ],
       "layout": {
        "barmode": "relative",
        "legend": {
         "title": {
          "text": "dayname"
         },
         "tracegroupgap": 0
        },
        "margin": {
         "t": 60
        },
        "template": {
         "data": {
          "bar": [
           {
            "error_x": {
             "color": "#2a3f5f"
            },
            "error_y": {
             "color": "#2a3f5f"
            },
            "marker": {
             "line": {
              "color": "#E5ECF6",
              "width": 0.5
             },
             "pattern": {
              "fillmode": "overlay",
              "size": 10,
              "solidity": 0.2
             }
            },
            "type": "bar"
           }
          ],
          "barpolar": [
           {
            "marker": {
             "line": {
              "color": "#E5ECF6",
              "width": 0.5
             },
             "pattern": {
              "fillmode": "overlay",
              "size": 10,
              "solidity": 0.2
             }
            },
            "type": "barpolar"
           }
          ],
          "carpet": [
           {
            "aaxis": {
             "endlinecolor": "#2a3f5f",
             "gridcolor": "white",
             "linecolor": "white",
             "minorgridcolor": "white",
             "startlinecolor": "#2a3f5f"
            },
            "baxis": {
             "endlinecolor": "#2a3f5f",
             "gridcolor": "white",
             "linecolor": "white",
             "minorgridcolor": "white",
             "startlinecolor": "#2a3f5f"
            },
            "type": "carpet"
           }
          ],
          "choropleth": [
           {
            "colorbar": {
             "outlinewidth": 0,
             "ticks": ""
            },
            "type": "choropleth"
           }
          ],
          "contour": [
           {
            "colorbar": {
             "outlinewidth": 0,
             "ticks": ""
            },
            "colorscale": [
             [
              0,
              "#0d0887"
             ],
             [
              0.1111111111111111,
              "#46039f"
             ],
             [
              0.2222222222222222,
              "#7201a8"
             ],
             [
              0.3333333333333333,
              "#9c179e"
             ],
             [
              0.4444444444444444,
              "#bd3786"
             ],
             [
              0.5555555555555556,
              "#d8576b"
             ],
             [
              0.6666666666666666,
              "#ed7953"
             ],
             [
              0.7777777777777778,
              "#fb9f3a"
             ],
             [
              0.8888888888888888,
              "#fdca26"
             ],
             [
              1,
              "#f0f921"
             ]
            ],
            "type": "contour"
           }
          ],
          "contourcarpet": [
           {
            "colorbar": {
             "outlinewidth": 0,
             "ticks": ""
            },
            "type": "contourcarpet"
           }
          ],
          "heatmap": [
           {
            "colorbar": {
             "outlinewidth": 0,
             "ticks": ""
            },
            "colorscale": [
             [
              0,
              "#0d0887"
             ],
             [
              0.1111111111111111,
              "#46039f"
             ],
             [
              0.2222222222222222,
              "#7201a8"
             ],
             [
              0.3333333333333333,
              "#9c179e"
             ],
             [
              0.4444444444444444,
              "#bd3786"
             ],
             [
              0.5555555555555556,
              "#d8576b"
             ],
             [
              0.6666666666666666,
              "#ed7953"
             ],
             [
              0.7777777777777778,
              "#fb9f3a"
             ],
             [
              0.8888888888888888,
              "#fdca26"
             ],
             [
              1,
              "#f0f921"
             ]
            ],
            "type": "heatmap"
           }
          ],
          "heatmapgl": [
           {
            "colorbar": {
             "outlinewidth": 0,
             "ticks": ""
            },
            "colorscale": [
             [
              0,
              "#0d0887"
             ],
             [
              0.1111111111111111,
              "#46039f"
             ],
             [
              0.2222222222222222,
              "#7201a8"
             ],
             [
              0.3333333333333333,
              "#9c179e"
             ],
             [
              0.4444444444444444,
              "#bd3786"
             ],
             [
              0.5555555555555556,
              "#d8576b"
             ],
             [
              0.6666666666666666,
              "#ed7953"
             ],
             [
              0.7777777777777778,
              "#fb9f3a"
             ],
             [
              0.8888888888888888,
              "#fdca26"
             ],
             [
              1,
              "#f0f921"
             ]
            ],
            "type": "heatmapgl"
           }
          ],
          "histogram": [
           {
            "marker": {
             "pattern": {
              "fillmode": "overlay",
              "size": 10,
              "solidity": 0.2
             }
            },
            "type": "histogram"
           }
          ],
          "histogram2d": [
           {
            "colorbar": {
             "outlinewidth": 0,
             "ticks": ""
            },
            "colorscale": [
             [
              0,
              "#0d0887"
             ],
             [
              0.1111111111111111,
              "#46039f"
             ],
             [
              0.2222222222222222,
              "#7201a8"
             ],
             [
              0.3333333333333333,
              "#9c179e"
             ],
             [
              0.4444444444444444,
              "#bd3786"
             ],
             [
              0.5555555555555556,
              "#d8576b"
             ],
             [
              0.6666666666666666,
              "#ed7953"
             ],
             [
              0.7777777777777778,
              "#fb9f3a"
             ],
             [
              0.8888888888888888,
              "#fdca26"
             ],
             [
              1,
              "#f0f921"
             ]
            ],
            "type": "histogram2d"
           }
          ],
          "histogram2dcontour": [
           {
            "colorbar": {
             "outlinewidth": 0,
             "ticks": ""
            },
            "colorscale": [
             [
              0,
              "#0d0887"
             ],
             [
              0.1111111111111111,
              "#46039f"
             ],
             [
              0.2222222222222222,
              "#7201a8"
             ],
             [
              0.3333333333333333,
              "#9c179e"
             ],
             [
              0.4444444444444444,
              "#bd3786"
             ],
             [
              0.5555555555555556,
              "#d8576b"
             ],
             [
              0.6666666666666666,
              "#ed7953"
             ],
             [
              0.7777777777777778,
              "#fb9f3a"
             ],
             [
              0.8888888888888888,
              "#fdca26"
             ],
             [
              1,
              "#f0f921"
             ]
            ],
            "type": "histogram2dcontour"
           }
          ],
          "mesh3d": [
           {
            "colorbar": {
             "outlinewidth": 0,
             "ticks": ""
            },
            "type": "mesh3d"
           }
          ],
          "parcoords": [
           {
            "line": {
             "colorbar": {
              "outlinewidth": 0,
              "ticks": ""
             }
            },
            "type": "parcoords"
           }
          ],
          "pie": [
           {
            "automargin": true,
            "type": "pie"
           }
          ],
          "scatter": [
           {
            "fillpattern": {
             "fillmode": "overlay",
             "size": 10,
             "solidity": 0.2
            },
            "type": "scatter"
           }
          ],
          "scatter3d": [
           {
            "line": {
             "colorbar": {
              "outlinewidth": 0,
              "ticks": ""
             }
            },
            "marker": {
             "colorbar": {
              "outlinewidth": 0,
              "ticks": ""
             }
            },
            "type": "scatter3d"
           }
          ],
          "scattercarpet": [
           {
            "marker": {
             "colorbar": {
              "outlinewidth": 0,
              "ticks": ""
             }
            },
            "type": "scattercarpet"
           }
          ],
          "scattergeo": [
           {
            "marker": {
             "colorbar": {
              "outlinewidth": 0,
              "ticks": ""
             }
            },
            "type": "scattergeo"
           }
          ],
          "scattergl": [
           {
            "marker": {
             "colorbar": {
              "outlinewidth": 0,
              "ticks": ""
             }
            },
            "type": "scattergl"
           }
          ],
          "scattermapbox": [
           {
            "marker": {
             "colorbar": {
              "outlinewidth": 0,
              "ticks": ""
             }
            },
            "type": "scattermapbox"
           }
          ],
          "scatterpolar": [
           {
            "marker": {
             "colorbar": {
              "outlinewidth": 0,
              "ticks": ""
             }
            },
            "type": "scatterpolar"
           }
          ],
          "scatterpolargl": [
           {
            "marker": {
             "colorbar": {
              "outlinewidth": 0,
              "ticks": ""
             }
            },
            "type": "scatterpolargl"
           }
          ],
          "scatterternary": [
           {
            "marker": {
             "colorbar": {
              "outlinewidth": 0,
              "ticks": ""
             }
            },
            "type": "scatterternary"
           }
          ],
          "surface": [
           {
            "colorbar": {
             "outlinewidth": 0,
             "ticks": ""
            },
            "colorscale": [
             [
              0,
              "#0d0887"
             ],
             [
              0.1111111111111111,
              "#46039f"
             ],
             [
              0.2222222222222222,
              "#7201a8"
             ],
             [
              0.3333333333333333,
              "#9c179e"
             ],
             [
              0.4444444444444444,
              "#bd3786"
             ],
             [
              0.5555555555555556,
              "#d8576b"
             ],
             [
              0.6666666666666666,
              "#ed7953"
             ],
             [
              0.7777777777777778,
              "#fb9f3a"
             ],
             [
              0.8888888888888888,
              "#fdca26"
             ],
             [
              1,
              "#f0f921"
             ]
            ],
            "type": "surface"
           }
          ],
          "table": [
           {
            "cells": {
             "fill": {
              "color": "#EBF0F8"
             },
             "line": {
              "color": "white"
             }
            },
            "header": {
             "fill": {
              "color": "#C8D4E3"
             },
             "line": {
              "color": "white"
             }
            },
            "type": "table"
           }
          ]
         },
         "layout": {
          "annotationdefaults": {
           "arrowcolor": "#2a3f5f",
           "arrowhead": 0,
           "arrowwidth": 1
          },
          "autotypenumbers": "strict",
          "coloraxis": {
           "colorbar": {
            "outlinewidth": 0,
            "ticks": ""
           }
          },
          "colorscale": {
           "diverging": [
            [
             0,
             "#8e0152"
            ],
            [
             0.1,
             "#c51b7d"
            ],
            [
             0.2,
             "#de77ae"
            ],
            [
             0.3,
             "#f1b6da"
            ],
            [
             0.4,
             "#fde0ef"
            ],
            [
             0.5,
             "#f7f7f7"
            ],
            [
             0.6,
             "#e6f5d0"
            ],
            [
             0.7,
             "#b8e186"
            ],
            [
             0.8,
             "#7fbc41"
            ],
            [
             0.9,
             "#4d9221"
            ],
            [
             1,
             "#276419"
            ]
           ],
           "sequential": [
            [
             0,
             "#0d0887"
            ],
            [
             0.1111111111111111,
             "#46039f"
            ],
            [
             0.2222222222222222,
             "#7201a8"
            ],
            [
             0.3333333333333333,
             "#9c179e"
            ],
            [
             0.4444444444444444,
             "#bd3786"
            ],
            [
             0.5555555555555556,
             "#d8576b"
            ],
            [
             0.6666666666666666,
             "#ed7953"
            ],
            [
             0.7777777777777778,
             "#fb9f3a"
            ],
            [
             0.8888888888888888,
             "#fdca26"
            ],
            [
             1,
             "#f0f921"
            ]
           ],
           "sequentialminus": [
            [
             0,
             "#0d0887"
            ],
            [
             0.1111111111111111,
             "#46039f"
            ],
            [
             0.2222222222222222,
             "#7201a8"
            ],
            [
             0.3333333333333333,
             "#9c179e"
            ],
            [
             0.4444444444444444,
             "#bd3786"
            ],
            [
             0.5555555555555556,
             "#d8576b"
            ],
            [
             0.6666666666666666,
             "#ed7953"
            ],
            [
             0.7777777777777778,
             "#fb9f3a"
            ],
            [
             0.8888888888888888,
             "#fdca26"
            ],
            [
             1,
             "#f0f921"
            ]
           ]
          },
          "colorway": [
           "#636efa",
           "#EF553B",
           "#00cc96",
           "#ab63fa",
           "#FFA15A",
           "#19d3f3",
           "#FF6692",
           "#B6E880",
           "#FF97FF",
           "#FECB52"
          ],
          "font": {
           "color": "#2a3f5f"
          },
          "geo": {
           "bgcolor": "white",
           "lakecolor": "white",
           "landcolor": "#E5ECF6",
           "showlakes": true,
           "showland": true,
           "subunitcolor": "white"
          },
          "hoverlabel": {
           "align": "left"
          },
          "hovermode": "closest",
          "mapbox": {
           "style": "light"
          },
          "paper_bgcolor": "white",
          "plot_bgcolor": "#E5ECF6",
          "polar": {
           "angularaxis": {
            "gridcolor": "white",
            "linecolor": "white",
            "ticks": ""
           },
           "bgcolor": "#E5ECF6",
           "radialaxis": {
            "gridcolor": "white",
            "linecolor": "white",
            "ticks": ""
           }
          },
          "scene": {
           "xaxis": {
            "backgroundcolor": "#E5ECF6",
            "gridcolor": "white",
            "gridwidth": 2,
            "linecolor": "white",
            "showbackground": true,
            "ticks": "",
            "zerolinecolor": "white"
           },
           "yaxis": {
            "backgroundcolor": "#E5ECF6",
            "gridcolor": "white",
            "gridwidth": 2,
            "linecolor": "white",
            "showbackground": true,
            "ticks": "",
            "zerolinecolor": "white"
           },
           "zaxis": {
            "backgroundcolor": "#E5ECF6",
            "gridcolor": "white",
            "gridwidth": 2,
            "linecolor": "white",
            "showbackground": true,
            "ticks": "",
            "zerolinecolor": "white"
           }
          },
          "shapedefaults": {
           "line": {
            "color": "#2a3f5f"
           }
          },
          "ternary": {
           "aaxis": {
            "gridcolor": "white",
            "linecolor": "white",
            "ticks": ""
           },
           "baxis": {
            "gridcolor": "white",
            "linecolor": "white",
            "ticks": ""
           },
           "bgcolor": "#E5ECF6",
           "caxis": {
            "gridcolor": "white",
            "linecolor": "white",
            "ticks": ""
           }
          },
          "title": {
           "x": 0.05
          },
          "xaxis": {
           "automargin": true,
           "gridcolor": "white",
           "linecolor": "white",
           "ticks": "",
           "title": {
            "standoff": 15
           },
           "zerolinecolor": "white",
           "zerolinewidth": 2
          },
          "yaxis": {
           "automargin": true,
           "gridcolor": "white",
           "linecolor": "white",
           "ticks": "",
           "title": {
            "standoff": 15
           },
           "zerolinecolor": "white",
           "zerolinewidth": 2
          }
         }
        },
        "xaxis": {
         "anchor": "y",
         "categoryarray": [
          "Monday",
          "Sunday",
          "Saturday",
          "Friday",
          "Thursday",
          "Wednesday"
         ],
         "categoryorder": "array",
         "domain": [
          0,
          1
         ],
         "title": {
          "text": "dayname"
         }
        },
        "yaxis": {
         "anchor": "x",
         "domain": [
          0,
          1
         ],
         "title": {
          "text": "count"
         }
        }
       }
      }
     },
     "metadata": {},
     "output_type": "display_data"
    }
   ],
   "source": [
    "px.histogram(df, x='dayname', color=\"dayname\")"
   ]
  },
  {
   "cell_type": "code",
   "execution_count": 34,
   "metadata": {},
   "outputs": [
    {
     "data": {
      "text/html": [
       "<div>\n",
       "<style scoped>\n",
       "    .dataframe tbody tr th:only-of-type {\n",
       "        vertical-align: middle;\n",
       "    }\n",
       "\n",
       "    .dataframe tbody tr th {\n",
       "        vertical-align: top;\n",
       "    }\n",
       "\n",
       "    .dataframe thead th {\n",
       "        text-align: right;\n",
       "    }\n",
       "</style>\n",
       "<table border=\"1\" class=\"dataframe\">\n",
       "  <thead>\n",
       "    <tr style=\"text-align: right;\">\n",
       "      <th></th>\n",
       "      <th>url</th>\n",
       "      <th>rawContent</th>\n",
       "      <th>id</th>\n",
       "      <th>replyCount</th>\n",
       "      <th>retweetCount</th>\n",
       "      <th>likeCount</th>\n",
       "      <th>quoteCount</th>\n",
       "      <th>conversationId</th>\n",
       "      <th>lang</th>\n",
       "      <th>source</th>\n",
       "      <th>...</th>\n",
       "      <th>label.longDescription</th>\n",
       "      <th>date_day</th>\n",
       "      <th>date_month</th>\n",
       "      <th>date_WeekDay</th>\n",
       "      <th>date_Quarter</th>\n",
       "      <th>date_year</th>\n",
       "      <th>Tweet time</th>\n",
       "      <th>monthname</th>\n",
       "      <th>dayname</th>\n",
       "      <th>hours</th>\n",
       "    </tr>\n",
       "  </thead>\n",
       "  <tbody>\n",
       "    <tr>\n",
       "      <th>0</th>\n",
       "      <td>https://twitter.com/prajasakshinews/status/161...</td>\n",
       "      <td>Covovax vaccine: మ‌రో 15 రోజుల్లో ఆమోదం.. బూస్...</td>\n",
       "      <td>1612410474062319616</td>\n",
       "      <td>0</td>\n",
       "      <td>0</td>\n",
       "      <td>0</td>\n",
       "      <td>0</td>\n",
       "      <td>1612410474062319616</td>\n",
       "      <td>te</td>\n",
       "      <td>&lt;a href=\"https://mobile.twitter.com\" rel=\"nofo...</td>\n",
       "      <td>...</td>\n",
       "      <td>NaN</td>\n",
       "      <td>9</td>\n",
       "      <td>1</td>\n",
       "      <td>0</td>\n",
       "      <td>1</td>\n",
       "      <td>2023</td>\n",
       "      <td>2023-02-20 11:26:28</td>\n",
       "      <td>January</td>\n",
       "      <td>Monday</td>\n",
       "      <td>11</td>\n",
       "    </tr>\n",
       "    <tr>\n",
       "      <th>1</th>\n",
       "      <td>https://twitter.com/cliffordribner/status/1612...</td>\n",
       "      <td>Nurse: Majority of Delta patients at hospital ...</td>\n",
       "      <td>1612410443640758272</td>\n",
       "      <td>0</td>\n",
       "      <td>0</td>\n",
       "      <td>0</td>\n",
       "      <td>0</td>\n",
       "      <td>1612410443640758272</td>\n",
       "      <td>en</td>\n",
       "      <td>&lt;a href=\"https://cliffordribner.com/\" rel=\"nof...</td>\n",
       "      <td>...</td>\n",
       "      <td>NaN</td>\n",
       "      <td>9</td>\n",
       "      <td>1</td>\n",
       "      <td>0</td>\n",
       "      <td>1</td>\n",
       "      <td>2023</td>\n",
       "      <td>2023-02-20 11:26:21</td>\n",
       "      <td>January</td>\n",
       "      <td>Monday</td>\n",
       "      <td>11</td>\n",
       "    </tr>\n",
       "    <tr>\n",
       "      <th>2</th>\n",
       "      <td>https://twitter.com/cliffordribner/status/1612...</td>\n",
       "      <td>Los Angeles Imposes COVID-19 Passport on Child...</td>\n",
       "      <td>1612410440310456321</td>\n",
       "      <td>0</td>\n",
       "      <td>0</td>\n",
       "      <td>0</td>\n",
       "      <td>0</td>\n",
       "      <td>1612410440310456321</td>\n",
       "      <td>en</td>\n",
       "      <td>&lt;a href=\"https://cliffordribner.com/\" rel=\"nof...</td>\n",
       "      <td>...</td>\n",
       "      <td>NaN</td>\n",
       "      <td>9</td>\n",
       "      <td>1</td>\n",
       "      <td>0</td>\n",
       "      <td>1</td>\n",
       "      <td>2023</td>\n",
       "      <td>2023-02-20 11:26:20</td>\n",
       "      <td>January</td>\n",
       "      <td>Monday</td>\n",
       "      <td>11</td>\n",
       "    </tr>\n",
       "    <tr>\n",
       "      <th>3</th>\n",
       "      <td>https://twitter.com/nicksback1953/status/16124...</td>\n",
       "      <td>Today @ https://t.co/H5o05CtuQ3 o.a.:\\n\\nMajor...</td>\n",
       "      <td>1612408656896606211</td>\n",
       "      <td>0</td>\n",
       "      <td>0</td>\n",
       "      <td>0</td>\n",
       "      <td>0</td>\n",
       "      <td>1612408656896606211</td>\n",
       "      <td>en</td>\n",
       "      <td>&lt;a href=\"https://mobile.twitter.com\" rel=\"nofo...</td>\n",
       "      <td>...</td>\n",
       "      <td>NaN</td>\n",
       "      <td>9</td>\n",
       "      <td>1</td>\n",
       "      <td>0</td>\n",
       "      <td>1</td>\n",
       "      <td>2023</td>\n",
       "      <td>2023-02-20 11:19:15</td>\n",
       "      <td>January</td>\n",
       "      <td>Monday</td>\n",
       "      <td>11</td>\n",
       "    </tr>\n",
       "    <tr>\n",
       "      <th>4</th>\n",
       "      <td>https://twitter.com/B_Foster02/status/16124086...</td>\n",
       "      <td>#shorts  Dr. Ryan Cole prat1  #vaccine  #covid...</td>\n",
       "      <td>1612408637997322240</td>\n",
       "      <td>0</td>\n",
       "      <td>0</td>\n",
       "      <td>0</td>\n",
       "      <td>0</td>\n",
       "      <td>1612408637997322240</td>\n",
       "      <td>in</td>\n",
       "      <td>&lt;a href=\"https://mobile.twitter.com\" rel=\"nofo...</td>\n",
       "      <td>...</td>\n",
       "      <td>NaN</td>\n",
       "      <td>9</td>\n",
       "      <td>1</td>\n",
       "      <td>0</td>\n",
       "      <td>1</td>\n",
       "      <td>2023</td>\n",
       "      <td>2023-02-20 11:19:11</td>\n",
       "      <td>January</td>\n",
       "      <td>Monday</td>\n",
       "      <td>11</td>\n",
       "    </tr>\n",
       "  </tbody>\n",
       "</table>\n",
       "<p>5 rows × 30 columns</p>\n",
       "</div>"
      ],
      "text/plain": [
       "                                                 url  \\\n",
       "0  https://twitter.com/prajasakshinews/status/161...   \n",
       "1  https://twitter.com/cliffordribner/status/1612...   \n",
       "2  https://twitter.com/cliffordribner/status/1612...   \n",
       "3  https://twitter.com/nicksback1953/status/16124...   \n",
       "4  https://twitter.com/B_Foster02/status/16124086...   \n",
       "\n",
       "                                          rawContent                   id  \\\n",
       "0  Covovax vaccine: మ‌రో 15 రోజుల్లో ఆమోదం.. బూస్...  1612410474062319616   \n",
       "1  Nurse: Majority of Delta patients at hospital ...  1612410443640758272   \n",
       "2  Los Angeles Imposes COVID-19 Passport on Child...  1612410440310456321   \n",
       "3  Today @ https://t.co/H5o05CtuQ3 o.a.:\\n\\nMajor...  1612408656896606211   \n",
       "4  #shorts  Dr. Ryan Cole prat1  #vaccine  #covid...  1612408637997322240   \n",
       "\n",
       "   replyCount  retweetCount  likeCount  quoteCount       conversationId lang  \\\n",
       "0           0             0          0           0  1612410474062319616   te   \n",
       "1           0             0          0           0  1612410443640758272   en   \n",
       "2           0             0          0           0  1612410440310456321   en   \n",
       "3           0             0          0           0  1612408656896606211   en   \n",
       "4           0             0          0           0  1612408637997322240   in   \n",
       "\n",
       "                                              source  ...  \\\n",
       "0  <a href=\"https://mobile.twitter.com\" rel=\"nofo...  ...   \n",
       "1  <a href=\"https://cliffordribner.com/\" rel=\"nof...  ...   \n",
       "2  <a href=\"https://cliffordribner.com/\" rel=\"nof...  ...   \n",
       "3  <a href=\"https://mobile.twitter.com\" rel=\"nofo...  ...   \n",
       "4  <a href=\"https://mobile.twitter.com\" rel=\"nofo...  ...   \n",
       "\n",
       "  label.longDescription date_day  date_month date_WeekDay  date_Quarter  \\\n",
       "0                   NaN        9           1            0             1   \n",
       "1                   NaN        9           1            0             1   \n",
       "2                   NaN        9           1            0             1   \n",
       "3                   NaN        9           1            0             1   \n",
       "4                   NaN        9           1            0             1   \n",
       "\n",
       "   date_year          Tweet time monthname dayname hours  \n",
       "0       2023 2023-02-20 11:26:28   January  Monday    11  \n",
       "1       2023 2023-02-20 11:26:21   January  Monday    11  \n",
       "2       2023 2023-02-20 11:26:20   January  Monday    11  \n",
       "3       2023 2023-02-20 11:19:15   January  Monday    11  \n",
       "4       2023 2023-02-20 11:19:11   January  Monday    11  \n",
       "\n",
       "[5 rows x 30 columns]"
      ]
     },
     "execution_count": 34,
     "metadata": {},
     "output_type": "execute_result"
    }
   ],
   "source": [
    "df['Tweet time'] = pd.to_datetime(df['Tweet time'])\n",
    "df['hours'] = df['Tweet time'].dt.hour\n",
    "df.head()"
   ]
  },
  {
   "cell_type": "code",
   "execution_count": 35,
   "metadata": {},
   "outputs": [
    {
     "data": {
      "application/vnd.plotly.v1+json": {
       "config": {
        "plotlyServerURL": "https://plot.ly"
       },
       "data": [
        {
         "alignmentgroup": "True",
         "bingroup": "x",
         "hovertemplate": "hours=%{x}<br>count=%{y}<extra></extra>",
         "legendgroup": "11",
         "marker": {
          "color": "#636efa",
          "pattern": {
           "shape": ""
          }
         },
         "name": "11",
         "offsetgroup": "11",
         "orientation": "v",
         "showlegend": true,
         "type": "histogram",
         "x": [
          11,
          11,
          11,
          11,
          11,
          11,
          11,
          11,
          11,
          11,
          11,
          11,
          11,
          11,
          11,
          11,
          11,
          11,
          11,
          11,
          11,
          11,
          11,
          11,
          11,
          11,
          11,
          11,
          11,
          11,
          11,
          11,
          11,
          11,
          11,
          11,
          11,
          11,
          11,
          11,
          11,
          11,
          11,
          11,
          11,
          11,
          11,
          11,
          11,
          11,
          11,
          11,
          11,
          11,
          11,
          11,
          11,
          11,
          11,
          11,
          11,
          11,
          11,
          11,
          11,
          11,
          11,
          11,
          11,
          11,
          11,
          11,
          11,
          11,
          11,
          11,
          11,
          11,
          11,
          11,
          11,
          11,
          11,
          11,
          11,
          11,
          11,
          11,
          11,
          11,
          11,
          11,
          11,
          11,
          11
         ],
         "xaxis": "x",
         "yaxis": "y"
        },
        {
         "alignmentgroup": "True",
         "bingroup": "x",
         "hovertemplate": "hours=%{x}<br>count=%{y}<extra></extra>",
         "legendgroup": "10",
         "marker": {
          "color": "#EF553B",
          "pattern": {
           "shape": ""
          }
         },
         "name": "10",
         "offsetgroup": "10",
         "orientation": "v",
         "showlegend": true,
         "type": "histogram",
         "x": [
          10,
          10,
          10,
          10,
          10,
          10,
          10,
          10,
          10,
          10,
          10,
          10,
          10,
          10,
          10,
          10,
          10,
          10,
          10,
          10,
          10,
          10,
          10,
          10,
          10,
          10,
          10,
          10,
          10,
          10,
          10,
          10,
          10,
          10,
          10,
          10,
          10,
          10,
          10,
          10,
          10,
          10,
          10,
          10,
          10,
          10,
          10,
          10,
          10,
          10,
          10,
          10,
          10,
          10,
          10,
          10,
          10,
          10,
          10,
          10,
          10,
          10,
          10,
          10,
          10,
          10,
          10,
          10,
          10,
          10,
          10,
          10,
          10,
          10,
          10,
          10,
          10,
          10,
          10,
          10,
          10,
          10,
          10,
          10,
          10,
          10,
          10,
          10,
          10,
          10,
          10,
          10,
          10,
          10,
          10,
          10,
          10,
          10,
          10,
          10,
          10,
          10,
          10,
          10,
          10,
          10,
          10,
          10,
          10,
          10,
          10,
          10,
          10,
          10,
          10,
          10,
          10,
          10,
          10,
          10,
          10
         ],
         "xaxis": "x",
         "yaxis": "y"
        },
        {
         "alignmentgroup": "True",
         "bingroup": "x",
         "hovertemplate": "hours=%{x}<br>count=%{y}<extra></extra>",
         "legendgroup": "9",
         "marker": {
          "color": "#00cc96",
          "pattern": {
           "shape": ""
          }
         },
         "name": "9",
         "offsetgroup": "9",
         "orientation": "v",
         "showlegend": true,
         "type": "histogram",
         "x": [
          9,
          9,
          9,
          9,
          9,
          9,
          9,
          9,
          9,
          9,
          9,
          9,
          9,
          9,
          9,
          9,
          9,
          9,
          9,
          9,
          9,
          9,
          9,
          9,
          9,
          9,
          9,
          9,
          9,
          9,
          9,
          9,
          9,
          9,
          9,
          9,
          9,
          9,
          9,
          9,
          9,
          9,
          9,
          9,
          9,
          9,
          9,
          9,
          9,
          9,
          9,
          9,
          9,
          9,
          9,
          9,
          9,
          9,
          9,
          9,
          9,
          9,
          9,
          9,
          9,
          9,
          9,
          9,
          9,
          9,
          9,
          9,
          9,
          9,
          9,
          9,
          9,
          9,
          9,
          9,
          9,
          9,
          9,
          9,
          9,
          9,
          9,
          9,
          9,
          9,
          9
         ],
         "xaxis": "x",
         "yaxis": "y"
        },
        {
         "alignmentgroup": "True",
         "bingroup": "x",
         "hovertemplate": "hours=%{x}<br>count=%{y}<extra></extra>",
         "legendgroup": "8",
         "marker": {
          "color": "#ab63fa",
          "pattern": {
           "shape": ""
          }
         },
         "name": "8",
         "offsetgroup": "8",
         "orientation": "v",
         "showlegend": true,
         "type": "histogram",
         "x": [
          8,
          8,
          8,
          8,
          8,
          8,
          8,
          8,
          8,
          8,
          8,
          8,
          8,
          8,
          8,
          8,
          8,
          8,
          8,
          8,
          8,
          8,
          8,
          8,
          8,
          8,
          8,
          8,
          8,
          8,
          8,
          8,
          8,
          8,
          8,
          8,
          8,
          8,
          8,
          8,
          8,
          8,
          8,
          8,
          8,
          8,
          8,
          8,
          8,
          8,
          8,
          8,
          8,
          8,
          8,
          8,
          8,
          8,
          8,
          8,
          8,
          8,
          8,
          8,
          8,
          8,
          8,
          8,
          8,
          8,
          8,
          8,
          8,
          8,
          8,
          8,
          8,
          8,
          8,
          8,
          8,
          8,
          8,
          8,
          8,
          8,
          8,
          8,
          8,
          8,
          8,
          8,
          8,
          8,
          8,
          8,
          8,
          8,
          8,
          8,
          8,
          8,
          8,
          8,
          8,
          8,
          8,
          8,
          8,
          8,
          8,
          8
         ],
         "xaxis": "x",
         "yaxis": "y"
        },
        {
         "alignmentgroup": "True",
         "bingroup": "x",
         "hovertemplate": "hours=%{x}<br>count=%{y}<extra></extra>",
         "legendgroup": "7",
         "marker": {
          "color": "#FFA15A",
          "pattern": {
           "shape": ""
          }
         },
         "name": "7",
         "offsetgroup": "7",
         "orientation": "v",
         "showlegend": true,
         "type": "histogram",
         "x": [
          7,
          7,
          7,
          7,
          7,
          7,
          7,
          7,
          7,
          7,
          7,
          7,
          7,
          7,
          7,
          7,
          7,
          7,
          7,
          7,
          7,
          7,
          7,
          7,
          7,
          7,
          7,
          7,
          7,
          7,
          7,
          7,
          7,
          7,
          7,
          7,
          7,
          7,
          7,
          7,
          7,
          7,
          7,
          7,
          7,
          7,
          7,
          7,
          7,
          7,
          7,
          7,
          7,
          7,
          7,
          7,
          7,
          7,
          7,
          7,
          7,
          7,
          7,
          7,
          7,
          7,
          7,
          7
         ],
         "xaxis": "x",
         "yaxis": "y"
        },
        {
         "alignmentgroup": "True",
         "bingroup": "x",
         "hovertemplate": "hours=%{x}<br>count=%{y}<extra></extra>",
         "legendgroup": "6",
         "marker": {
          "color": "#19d3f3",
          "pattern": {
           "shape": ""
          }
         },
         "name": "6",
         "offsetgroup": "6",
         "orientation": "v",
         "showlegend": true,
         "type": "histogram",
         "x": [
          6,
          6,
          6,
          6,
          6,
          6,
          6,
          6,
          6,
          6,
          6,
          6,
          6,
          6,
          6,
          6,
          6,
          6,
          6,
          6,
          6,
          6,
          6,
          6,
          6,
          6,
          6,
          6,
          6,
          6,
          6,
          6,
          6,
          6,
          6,
          6,
          6,
          6,
          6,
          6,
          6,
          6,
          6,
          6,
          6,
          6,
          6,
          6,
          6,
          6,
          6,
          6,
          6,
          6,
          6,
          6,
          6,
          6,
          6,
          6,
          6,
          6,
          6,
          6,
          6,
          6,
          6,
          6,
          6,
          6,
          6,
          6,
          6,
          6,
          6,
          6,
          6,
          6,
          6,
          6,
          6,
          6,
          6,
          6,
          6,
          6,
          6,
          6,
          6
         ],
         "xaxis": "x",
         "yaxis": "y"
        },
        {
         "alignmentgroup": "True",
         "bingroup": "x",
         "hovertemplate": "hours=%{x}<br>count=%{y}<extra></extra>",
         "legendgroup": "5",
         "marker": {
          "color": "#FF6692",
          "pattern": {
           "shape": ""
          }
         },
         "name": "5",
         "offsetgroup": "5",
         "orientation": "v",
         "showlegend": true,
         "type": "histogram",
         "x": [
          5,
          5,
          5,
          5,
          5,
          5,
          5,
          5,
          5,
          5,
          5,
          5,
          5,
          5,
          5,
          5,
          5,
          5,
          5,
          5,
          5,
          5,
          5,
          5,
          5,
          5,
          5,
          5,
          5,
          5,
          5,
          5,
          5,
          5,
          5,
          5,
          5,
          5,
          5,
          5,
          5,
          5,
          5,
          5,
          5,
          5,
          5,
          5,
          5,
          5,
          5,
          5,
          5,
          5,
          5,
          5,
          5,
          5,
          5,
          5,
          5,
          5,
          5,
          5,
          5,
          5,
          5,
          5,
          5,
          5,
          5,
          5,
          5,
          5,
          5,
          5,
          5,
          5,
          5,
          5,
          5,
          5,
          5,
          5,
          5,
          5,
          5,
          5,
          5,
          5,
          5,
          5,
          5,
          5,
          5,
          5,
          5,
          5,
          5,
          5,
          5,
          5,
          5,
          5,
          5,
          5,
          5,
          5,
          5,
          5,
          5,
          5
         ],
         "xaxis": "x",
         "yaxis": "y"
        },
        {
         "alignmentgroup": "True",
         "bingroup": "x",
         "hovertemplate": "hours=%{x}<br>count=%{y}<extra></extra>",
         "legendgroup": "4",
         "marker": {
          "color": "#B6E880",
          "pattern": {
           "shape": ""
          }
         },
         "name": "4",
         "offsetgroup": "4",
         "orientation": "v",
         "showlegend": true,
         "type": "histogram",
         "x": [
          4,
          4,
          4,
          4,
          4,
          4,
          4,
          4,
          4,
          4,
          4,
          4,
          4,
          4,
          4,
          4,
          4,
          4,
          4,
          4,
          4,
          4,
          4,
          4,
          4,
          4,
          4,
          4,
          4,
          4,
          4,
          4,
          4,
          4,
          4,
          4,
          4,
          4,
          4,
          4,
          4,
          4,
          4,
          4,
          4,
          4,
          4,
          4,
          4,
          4,
          4,
          4,
          4,
          4,
          4,
          4,
          4,
          4,
          4,
          4,
          4,
          4,
          4,
          4,
          4,
          4,
          4,
          4,
          4,
          4,
          4,
          4,
          4,
          4,
          4,
          4,
          4,
          4,
          4,
          4,
          4,
          4,
          4,
          4,
          4,
          4,
          4,
          4,
          4,
          4,
          4
         ],
         "xaxis": "x",
         "yaxis": "y"
        },
        {
         "alignmentgroup": "True",
         "bingroup": "x",
         "hovertemplate": "hours=%{x}<br>count=%{y}<extra></extra>",
         "legendgroup": "3",
         "marker": {
          "color": "#FF97FF",
          "pattern": {
           "shape": ""
          }
         },
         "name": "3",
         "offsetgroup": "3",
         "orientation": "v",
         "showlegend": true,
         "type": "histogram",
         "x": [
          3,
          3,
          3,
          3,
          3,
          3,
          3,
          3,
          3,
          3,
          3,
          3,
          3,
          3,
          3,
          3,
          3,
          3,
          3,
          3,
          3,
          3,
          3,
          3,
          3,
          3,
          3,
          3,
          3,
          3,
          3,
          3,
          3,
          3,
          3,
          3,
          3,
          3,
          3,
          3,
          3,
          3,
          3,
          3,
          3,
          3,
          3,
          3,
          3,
          3,
          3,
          3,
          3,
          3,
          3,
          3,
          3,
          3,
          3,
          3,
          3,
          3,
          3,
          3,
          3,
          3,
          3,
          3,
          3,
          3,
          3,
          3,
          3,
          3,
          3,
          3,
          3,
          3,
          3,
          3,
          3,
          3
         ],
         "xaxis": "x",
         "yaxis": "y"
        },
        {
         "alignmentgroup": "True",
         "bingroup": "x",
         "hovertemplate": "hours=%{x}<br>count=%{y}<extra></extra>",
         "legendgroup": "2",
         "marker": {
          "color": "#FECB52",
          "pattern": {
           "shape": ""
          }
         },
         "name": "2",
         "offsetgroup": "2",
         "orientation": "v",
         "showlegend": true,
         "type": "histogram",
         "x": [
          2,
          2,
          2,
          2,
          2,
          2,
          2,
          2,
          2,
          2,
          2,
          2,
          2,
          2,
          2,
          2,
          2,
          2,
          2,
          2,
          2,
          2,
          2,
          2,
          2,
          2,
          2,
          2,
          2,
          2,
          2,
          2,
          2,
          2,
          2,
          2,
          2,
          2,
          2,
          2,
          2,
          2,
          2,
          2,
          2,
          2,
          2,
          2,
          2,
          2,
          2,
          2,
          2,
          2,
          2,
          2,
          2,
          2,
          2,
          2,
          2,
          2,
          2,
          2,
          2,
          2,
          2,
          2,
          2,
          2,
          2,
          2,
          2,
          2,
          2,
          2,
          2,
          2,
          2,
          2,
          2,
          2,
          2,
          2,
          2,
          2,
          2,
          2,
          2,
          2
         ],
         "xaxis": "x",
         "yaxis": "y"
        },
        {
         "alignmentgroup": "True",
         "bingroup": "x",
         "hovertemplate": "hours=%{x}<br>count=%{y}<extra></extra>",
         "legendgroup": "1",
         "marker": {
          "color": "#636efa",
          "pattern": {
           "shape": ""
          }
         },
         "name": "1",
         "offsetgroup": "1",
         "orientation": "v",
         "showlegend": true,
         "type": "histogram",
         "x": [
          1,
          1,
          1,
          1,
          1,
          1,
          1,
          1,
          1,
          1,
          1,
          1,
          1,
          1,
          1,
          1,
          1,
          1,
          1,
          1,
          1,
          1,
          1,
          1,
          1,
          1,
          1,
          1,
          1,
          1,
          1,
          1,
          1,
          1,
          1,
          1,
          1,
          1,
          1,
          1,
          1,
          1,
          1,
          1,
          1,
          1,
          1,
          1,
          1,
          1,
          1,
          1,
          1,
          1,
          1,
          1,
          1,
          1,
          1,
          1,
          1,
          1,
          1,
          1,
          1,
          1,
          1,
          1,
          1,
          1,
          1,
          1,
          1,
          1,
          1,
          1,
          1,
          1,
          1,
          1,
          1,
          1,
          1,
          1,
          1,
          1,
          1,
          1,
          1,
          1,
          1,
          1,
          1,
          1,
          1,
          1,
          1,
          1,
          1,
          1,
          1,
          1,
          1,
          1,
          1,
          1,
          1,
          1,
          1,
          1,
          1,
          1,
          1,
          1
         ],
         "xaxis": "x",
         "yaxis": "y"
        },
        {
         "alignmentgroup": "True",
         "bingroup": "x",
         "hovertemplate": "hours=%{x}<br>count=%{y}<extra></extra>",
         "legendgroup": "0",
         "marker": {
          "color": "#EF553B",
          "pattern": {
           "shape": ""
          }
         },
         "name": "0",
         "offsetgroup": "0",
         "orientation": "v",
         "showlegend": true,
         "type": "histogram",
         "x": [
          0,
          0,
          0,
          0,
          0,
          0,
          0,
          0,
          0,
          0,
          0,
          0,
          0,
          0,
          0,
          0,
          0,
          0,
          0,
          0,
          0,
          0,
          0,
          0,
          0,
          0,
          0,
          0,
          0,
          0,
          0,
          0,
          0,
          0,
          0,
          0,
          0,
          0,
          0,
          0,
          0,
          0,
          0,
          0,
          0,
          0,
          0,
          0,
          0,
          0,
          0,
          0,
          0,
          0,
          0,
          0,
          0,
          0,
          0,
          0,
          0,
          0,
          0,
          0,
          0,
          0,
          0,
          0,
          0,
          0,
          0,
          0,
          0,
          0,
          0,
          0,
          0,
          0,
          0,
          0,
          0,
          0,
          0,
          0,
          0,
          0,
          0,
          0,
          0,
          0,
          0,
          0
         ],
         "xaxis": "x",
         "yaxis": "y"
        },
        {
         "alignmentgroup": "True",
         "bingroup": "x",
         "hovertemplate": "hours=%{x}<br>count=%{y}<extra></extra>",
         "legendgroup": "23",
         "marker": {
          "color": "#00cc96",
          "pattern": {
           "shape": ""
          }
         },
         "name": "23",
         "offsetgroup": "23",
         "orientation": "v",
         "showlegend": true,
         "type": "histogram",
         "x": [
          23,
          23,
          23,
          23,
          23,
          23,
          23,
          23,
          23,
          23,
          23,
          23,
          23,
          23,
          23,
          23,
          23,
          23,
          23,
          23,
          23,
          23,
          23,
          23,
          23,
          23,
          23,
          23,
          23,
          23,
          23,
          23,
          23,
          23,
          23,
          23,
          23,
          23,
          23,
          23,
          23,
          23,
          23,
          23,
          23,
          23,
          23,
          23,
          23,
          23,
          23,
          23,
          23,
          23,
          23,
          23,
          23,
          23,
          23,
          23,
          23,
          23,
          23,
          23,
          23,
          23,
          23,
          23,
          23,
          23,
          23,
          23,
          23,
          23,
          23,
          23,
          23,
          23,
          23,
          23,
          23,
          23,
          23,
          23,
          23,
          23,
          23,
          23,
          23,
          23,
          23,
          23,
          23,
          23,
          23,
          23,
          23,
          23,
          23,
          23,
          23,
          23,
          23,
          23,
          23,
          23,
          23,
          23,
          23,
          23,
          23,
          23,
          23,
          23,
          23,
          23
         ],
         "xaxis": "x",
         "yaxis": "y"
        },
        {
         "alignmentgroup": "True",
         "bingroup": "x",
         "hovertemplate": "hours=%{x}<br>count=%{y}<extra></extra>",
         "legendgroup": "22",
         "marker": {
          "color": "#ab63fa",
          "pattern": {
           "shape": ""
          }
         },
         "name": "22",
         "offsetgroup": "22",
         "orientation": "v",
         "showlegend": true,
         "type": "histogram",
         "x": [
          22,
          22,
          22,
          22,
          22,
          22,
          22,
          22,
          22,
          22,
          22,
          22,
          22,
          22,
          22,
          22,
          22,
          22,
          22,
          22,
          22,
          22,
          22,
          22,
          22,
          22,
          22,
          22,
          22,
          22,
          22,
          22,
          22,
          22,
          22,
          22,
          22,
          22,
          22,
          22,
          22,
          22,
          22,
          22,
          22,
          22,
          22,
          22,
          22,
          22,
          22,
          22,
          22,
          22,
          22,
          22,
          22,
          22,
          22,
          22,
          22,
          22,
          22,
          22,
          22,
          22,
          22,
          22,
          22,
          22,
          22,
          22,
          22,
          22,
          22,
          22,
          22,
          22,
          22,
          22,
          22,
          22,
          22,
          22,
          22,
          22,
          22,
          22,
          22,
          22,
          22,
          22,
          22,
          22,
          22,
          22,
          22,
          22,
          22,
          22,
          22,
          22,
          22,
          22,
          22,
          22,
          22,
          22,
          22,
          22,
          22,
          22,
          22,
          22,
          22,
          22,
          22,
          22,
          22,
          22,
          22,
          22,
          22,
          22,
          22,
          22,
          22,
          22,
          22,
          22,
          22,
          22,
          22,
          22,
          22,
          22,
          22
         ],
         "xaxis": "x",
         "yaxis": "y"
        },
        {
         "alignmentgroup": "True",
         "bingroup": "x",
         "hovertemplate": "hours=%{x}<br>count=%{y}<extra></extra>",
         "legendgroup": "21",
         "marker": {
          "color": "#FFA15A",
          "pattern": {
           "shape": ""
          }
         },
         "name": "21",
         "offsetgroup": "21",
         "orientation": "v",
         "showlegend": true,
         "type": "histogram",
         "x": [
          21,
          21,
          21,
          21,
          21,
          21,
          21,
          21,
          21,
          21,
          21,
          21,
          21,
          21,
          21,
          21,
          21,
          21,
          21,
          21,
          21,
          21,
          21,
          21,
          21,
          21,
          21,
          21,
          21,
          21,
          21,
          21,
          21,
          21,
          21,
          21,
          21,
          21,
          21,
          21,
          21,
          21,
          21,
          21,
          21,
          21,
          21,
          21,
          21,
          21,
          21,
          21,
          21,
          21,
          21,
          21,
          21,
          21,
          21,
          21,
          21,
          21,
          21,
          21,
          21,
          21,
          21,
          21,
          21,
          21,
          21,
          21,
          21,
          21,
          21,
          21,
          21,
          21,
          21,
          21,
          21,
          21,
          21,
          21,
          21,
          21,
          21,
          21,
          21,
          21,
          21,
          21,
          21,
          21,
          21,
          21,
          21,
          21,
          21,
          21,
          21,
          21,
          21,
          21,
          21,
          21,
          21,
          21,
          21,
          21,
          21,
          21,
          21,
          21,
          21,
          21,
          21,
          21,
          21,
          21,
          21,
          21,
          21,
          21,
          21,
          21,
          21,
          21,
          21,
          21,
          21,
          21,
          21,
          21,
          21,
          21
         ],
         "xaxis": "x",
         "yaxis": "y"
        },
        {
         "alignmentgroup": "True",
         "bingroup": "x",
         "hovertemplate": "hours=%{x}<br>count=%{y}<extra></extra>",
         "legendgroup": "20",
         "marker": {
          "color": "#19d3f3",
          "pattern": {
           "shape": ""
          }
         },
         "name": "20",
         "offsetgroup": "20",
         "orientation": "v",
         "showlegend": true,
         "type": "histogram",
         "x": [
          20,
          20,
          20,
          20,
          20,
          20,
          20,
          20,
          20,
          20,
          20,
          20,
          20,
          20,
          20,
          20,
          20,
          20,
          20,
          20,
          20,
          20,
          20,
          20,
          20,
          20,
          20,
          20,
          20,
          20,
          20,
          20,
          20,
          20,
          20,
          20,
          20,
          20,
          20,
          20,
          20,
          20,
          20,
          20,
          20,
          20,
          20,
          20,
          20,
          20,
          20,
          20,
          20,
          20,
          20,
          20,
          20,
          20,
          20,
          20,
          20,
          20,
          20,
          20,
          20,
          20,
          20,
          20,
          20,
          20,
          20,
          20,
          20,
          20,
          20,
          20,
          20,
          20,
          20,
          20,
          20,
          20,
          20,
          20,
          20,
          20,
          20,
          20,
          20,
          20,
          20,
          20,
          20,
          20,
          20,
          20,
          20,
          20,
          20,
          20,
          20,
          20,
          20,
          20,
          20,
          20,
          20,
          20,
          20,
          20,
          20,
          20,
          20,
          20,
          20,
          20,
          20,
          20,
          20,
          20,
          20,
          20,
          20,
          20,
          20,
          20,
          20,
          20,
          20,
          20,
          20,
          20,
          20,
          20,
          20,
          20,
          20,
          20,
          20,
          20,
          20,
          20,
          20,
          20,
          20,
          20,
          20,
          20,
          20,
          20,
          20,
          20,
          20,
          20,
          20,
          20,
          20,
          20,
          20,
          20,
          20,
          20,
          20,
          20,
          20,
          20,
          20,
          20,
          20,
          20
         ],
         "xaxis": "x",
         "yaxis": "y"
        },
        {
         "alignmentgroup": "True",
         "bingroup": "x",
         "hovertemplate": "hours=%{x}<br>count=%{y}<extra></extra>",
         "legendgroup": "19",
         "marker": {
          "color": "#FF6692",
          "pattern": {
           "shape": ""
          }
         },
         "name": "19",
         "offsetgroup": "19",
         "orientation": "v",
         "showlegend": true,
         "type": "histogram",
         "x": [
          19,
          19,
          19,
          19,
          19,
          19,
          19,
          19,
          19,
          19,
          19,
          19,
          19,
          19,
          19,
          19,
          19,
          19,
          19,
          19,
          19,
          19,
          19,
          19,
          19,
          19,
          19,
          19,
          19,
          19,
          19,
          19,
          19,
          19,
          19,
          19,
          19,
          19,
          19,
          19,
          19,
          19,
          19,
          19,
          19,
          19,
          19,
          19,
          19,
          19,
          19,
          19,
          19,
          19,
          19,
          19,
          19,
          19,
          19,
          19,
          19,
          19,
          19,
          19,
          19,
          19,
          19,
          19,
          19,
          19,
          19,
          19,
          19,
          19,
          19,
          19,
          19,
          19,
          19,
          19,
          19,
          19,
          19,
          19,
          19,
          19,
          19,
          19,
          19,
          19,
          19,
          19,
          19,
          19,
          19,
          19,
          19,
          19,
          19,
          19,
          19,
          19,
          19,
          19,
          19,
          19,
          19,
          19,
          19,
          19,
          19,
          19,
          19,
          19,
          19,
          19,
          19,
          19,
          19,
          19,
          19,
          19,
          19,
          19,
          19,
          19,
          19,
          19,
          19,
          19,
          19,
          19,
          19,
          19,
          19,
          19,
          19,
          19,
          19,
          19,
          19,
          19,
          19,
          19,
          19,
          19,
          19,
          19,
          19,
          19,
          19,
          19,
          19,
          19,
          19,
          19,
          19,
          19,
          19,
          19,
          19,
          19,
          19,
          19,
          19,
          19,
          19,
          19,
          19
         ],
         "xaxis": "x",
         "yaxis": "y"
        },
        {
         "alignmentgroup": "True",
         "bingroup": "x",
         "hovertemplate": "hours=%{x}<br>count=%{y}<extra></extra>",
         "legendgroup": "18",
         "marker": {
          "color": "#B6E880",
          "pattern": {
           "shape": ""
          }
         },
         "name": "18",
         "offsetgroup": "18",
         "orientation": "v",
         "showlegend": true,
         "type": "histogram",
         "x": [
          18,
          18,
          18,
          18,
          18,
          18,
          18,
          18,
          18,
          18,
          18,
          18,
          18,
          18,
          18,
          18,
          18,
          18,
          18,
          18,
          18,
          18,
          18,
          18,
          18,
          18,
          18,
          18,
          18,
          18,
          18,
          18,
          18,
          18,
          18,
          18,
          18,
          18,
          18,
          18,
          18,
          18,
          18,
          18,
          18,
          18,
          18,
          18,
          18,
          18,
          18,
          18,
          18,
          18,
          18,
          18,
          18,
          18,
          18,
          18,
          18,
          18,
          18,
          18,
          18,
          18,
          18,
          18,
          18,
          18,
          18,
          18,
          18,
          18,
          18,
          18,
          18,
          18,
          18,
          18,
          18,
          18,
          18,
          18,
          18,
          18,
          18,
          18,
          18,
          18,
          18,
          18,
          18,
          18,
          18,
          18,
          18,
          18,
          18,
          18,
          18,
          18,
          18,
          18,
          18,
          18,
          18,
          18,
          18,
          18,
          18,
          18,
          18,
          18,
          18,
          18,
          18,
          18,
          18,
          18,
          18,
          18,
          18,
          18,
          18,
          18,
          18,
          18,
          18,
          18,
          18,
          18,
          18,
          18,
          18,
          18,
          18,
          18,
          18,
          18,
          18,
          18,
          18,
          18,
          18,
          18,
          18,
          18,
          18,
          18,
          18,
          18,
          18,
          18,
          18,
          18,
          18,
          18,
          18,
          18,
          18,
          18,
          18,
          18,
          18,
          18,
          18,
          18,
          18,
          18,
          18
         ],
         "xaxis": "x",
         "yaxis": "y"
        },
        {
         "alignmentgroup": "True",
         "bingroup": "x",
         "hovertemplate": "hours=%{x}<br>count=%{y}<extra></extra>",
         "legendgroup": "17",
         "marker": {
          "color": "#FF97FF",
          "pattern": {
           "shape": ""
          }
         },
         "name": "17",
         "offsetgroup": "17",
         "orientation": "v",
         "showlegend": true,
         "type": "histogram",
         "x": [
          17,
          17,
          17,
          17,
          17,
          17,
          17,
          17,
          17,
          17,
          17,
          17,
          17,
          17,
          17,
          17,
          17,
          17,
          17,
          17,
          17,
          17,
          17,
          17,
          17,
          17,
          17,
          17,
          17,
          17,
          17,
          17,
          17,
          17,
          17,
          17,
          17,
          17,
          17,
          17,
          17,
          17,
          17,
          17,
          17,
          17,
          17,
          17,
          17,
          17,
          17,
          17,
          17,
          17,
          17,
          17,
          17,
          17,
          17,
          17,
          17,
          17,
          17,
          17,
          17,
          17,
          17,
          17,
          17,
          17,
          17,
          17,
          17,
          17,
          17,
          17,
          17,
          17,
          17,
          17,
          17,
          17,
          17,
          17,
          17,
          17,
          17,
          17,
          17,
          17,
          17,
          17,
          17,
          17,
          17,
          17,
          17,
          17,
          17,
          17,
          17,
          17,
          17,
          17,
          17,
          17,
          17,
          17,
          17,
          17,
          17,
          17,
          17,
          17,
          17,
          17,
          17,
          17,
          17,
          17,
          17,
          17,
          17,
          17,
          17,
          17,
          17,
          17,
          17,
          17,
          17,
          17,
          17,
          17,
          17,
          17,
          17,
          17,
          17,
          17,
          17,
          17,
          17,
          17,
          17,
          17,
          17,
          17,
          17,
          17,
          17,
          17,
          17,
          17,
          17,
          17,
          17,
          17,
          17,
          17,
          17,
          17,
          17,
          17,
          17,
          17,
          17,
          17,
          17,
          17,
          17
         ],
         "xaxis": "x",
         "yaxis": "y"
        },
        {
         "alignmentgroup": "True",
         "bingroup": "x",
         "hovertemplate": "hours=%{x}<br>count=%{y}<extra></extra>",
         "legendgroup": "16",
         "marker": {
          "color": "#FECB52",
          "pattern": {
           "shape": ""
          }
         },
         "name": "16",
         "offsetgroup": "16",
         "orientation": "v",
         "showlegend": true,
         "type": "histogram",
         "x": [
          16,
          16,
          16,
          16,
          16,
          16,
          16,
          16,
          16,
          16,
          16,
          16,
          16,
          16,
          16,
          16,
          16,
          16,
          16,
          16,
          16,
          16,
          16,
          16,
          16,
          16,
          16,
          16,
          16,
          16,
          16,
          16,
          16,
          16,
          16,
          16,
          16,
          16,
          16,
          16,
          16,
          16,
          16,
          16,
          16,
          16,
          16,
          16,
          16,
          16,
          16,
          16,
          16,
          16,
          16,
          16,
          16,
          16,
          16,
          16,
          16,
          16,
          16,
          16,
          16,
          16,
          16,
          16,
          16,
          16,
          16,
          16,
          16,
          16,
          16,
          16,
          16,
          16,
          16,
          16,
          16,
          16,
          16,
          16,
          16,
          16,
          16,
          16,
          16,
          16,
          16,
          16,
          16,
          16,
          16,
          16,
          16,
          16,
          16,
          16,
          16,
          16,
          16,
          16,
          16,
          16,
          16,
          16,
          16,
          16,
          16,
          16,
          16,
          16,
          16,
          16,
          16,
          16,
          16,
          16,
          16,
          16,
          16,
          16,
          16,
          16,
          16,
          16,
          16,
          16,
          16,
          16,
          16,
          16,
          16,
          16,
          16,
          16,
          16,
          16,
          16,
          16,
          16,
          16,
          16,
          16,
          16,
          16,
          16,
          16,
          16,
          16,
          16,
          16,
          16,
          16,
          16,
          16,
          16,
          16,
          16,
          16,
          16,
          16,
          16,
          16,
          16,
          16,
          16,
          16,
          16,
          16,
          16,
          16,
          16,
          16,
          16,
          16,
          16,
          16,
          16,
          16,
          16,
          16,
          16,
          16,
          16,
          16,
          16,
          16,
          16
         ],
         "xaxis": "x",
         "yaxis": "y"
        },
        {
         "alignmentgroup": "True",
         "bingroup": "x",
         "hovertemplate": "hours=%{x}<br>count=%{y}<extra></extra>",
         "legendgroup": "15",
         "marker": {
          "color": "#636efa",
          "pattern": {
           "shape": ""
          }
         },
         "name": "15",
         "offsetgroup": "15",
         "orientation": "v",
         "showlegend": true,
         "type": "histogram",
         "x": [
          15,
          15,
          15,
          15,
          15,
          15,
          15,
          15,
          15,
          15,
          15,
          15,
          15,
          15,
          15,
          15,
          15,
          15,
          15,
          15,
          15,
          15,
          15,
          15,
          15,
          15,
          15,
          15,
          15,
          15,
          15,
          15,
          15,
          15,
          15,
          15,
          15,
          15,
          15,
          15,
          15,
          15,
          15,
          15,
          15,
          15,
          15,
          15,
          15,
          15,
          15,
          15,
          15,
          15,
          15,
          15,
          15,
          15,
          15,
          15,
          15,
          15,
          15,
          15,
          15,
          15,
          15,
          15,
          15,
          15,
          15,
          15,
          15,
          15,
          15,
          15,
          15,
          15,
          15,
          15,
          15,
          15,
          15,
          15,
          15,
          15,
          15,
          15,
          15,
          15,
          15,
          15,
          15,
          15,
          15,
          15,
          15,
          15,
          15,
          15,
          15,
          15,
          15,
          15,
          15,
          15,
          15,
          15,
          15,
          15,
          15,
          15,
          15,
          15,
          15,
          15,
          15,
          15,
          15,
          15,
          15,
          15,
          15,
          15,
          15,
          15,
          15,
          15,
          15,
          15,
          15,
          15,
          15,
          15,
          15,
          15,
          15,
          15,
          15,
          15,
          15,
          15,
          15,
          15,
          15,
          15,
          15,
          15,
          15,
          15,
          15,
          15,
          15,
          15,
          15,
          15,
          15,
          15,
          15,
          15,
          15,
          15,
          15,
          15
         ],
         "xaxis": "x",
         "yaxis": "y"
        },
        {
         "alignmentgroup": "True",
         "bingroup": "x",
         "hovertemplate": "hours=%{x}<br>count=%{y}<extra></extra>",
         "legendgroup": "14",
         "marker": {
          "color": "#EF553B",
          "pattern": {
           "shape": ""
          }
         },
         "name": "14",
         "offsetgroup": "14",
         "orientation": "v",
         "showlegend": true,
         "type": "histogram",
         "x": [
          14,
          14,
          14,
          14,
          14,
          14,
          14,
          14,
          14,
          14,
          14,
          14,
          14,
          14,
          14,
          14,
          14,
          14,
          14,
          14,
          14,
          14,
          14,
          14,
          14,
          14,
          14,
          14,
          14,
          14,
          14,
          14,
          14,
          14,
          14,
          14,
          14,
          14,
          14,
          14,
          14,
          14,
          14,
          14,
          14,
          14,
          14,
          14,
          14,
          14,
          14,
          14,
          14,
          14,
          14,
          14,
          14,
          14,
          14,
          14,
          14,
          14,
          14,
          14,
          14,
          14,
          14,
          14,
          14,
          14,
          14,
          14,
          14,
          14,
          14,
          14,
          14,
          14,
          14,
          14,
          14,
          14,
          14,
          14,
          14,
          14,
          14,
          14,
          14,
          14,
          14,
          14,
          14,
          14,
          14,
          14,
          14,
          14,
          14,
          14,
          14,
          14,
          14,
          14,
          14,
          14,
          14,
          14,
          14,
          14,
          14,
          14,
          14,
          14,
          14,
          14,
          14,
          14,
          14,
          14,
          14,
          14,
          14,
          14,
          14,
          14,
          14,
          14,
          14,
          14,
          14,
          14,
          14,
          14,
          14,
          14,
          14,
          14,
          14,
          14,
          14,
          14,
          14,
          14,
          14
         ],
         "xaxis": "x",
         "yaxis": "y"
        },
        {
         "alignmentgroup": "True",
         "bingroup": "x",
         "hovertemplate": "hours=%{x}<br>count=%{y}<extra></extra>",
         "legendgroup": "13",
         "marker": {
          "color": "#00cc96",
          "pattern": {
           "shape": ""
          }
         },
         "name": "13",
         "offsetgroup": "13",
         "orientation": "v",
         "showlegend": true,
         "type": "histogram",
         "x": [
          13,
          13,
          13,
          13,
          13,
          13,
          13,
          13,
          13,
          13,
          13,
          13,
          13,
          13,
          13,
          13,
          13,
          13,
          13,
          13,
          13,
          13,
          13,
          13,
          13,
          13,
          13,
          13,
          13,
          13,
          13,
          13,
          13,
          13,
          13,
          13,
          13,
          13,
          13,
          13,
          13,
          13,
          13,
          13,
          13,
          13,
          13,
          13,
          13,
          13,
          13,
          13,
          13,
          13,
          13,
          13,
          13,
          13,
          13,
          13,
          13,
          13,
          13,
          13,
          13,
          13,
          13,
          13,
          13,
          13,
          13,
          13,
          13,
          13,
          13,
          13,
          13,
          13,
          13,
          13,
          13,
          13,
          13,
          13,
          13,
          13,
          13,
          13,
          13,
          13,
          13,
          13,
          13,
          13,
          13,
          13,
          13,
          13,
          13,
          13,
          13,
          13,
          13,
          13,
          13,
          13,
          13,
          13,
          13,
          13,
          13,
          13,
          13,
          13,
          13,
          13,
          13,
          13,
          13,
          13,
          13,
          13,
          13,
          13,
          13,
          13,
          13,
          13,
          13,
          13,
          13,
          13,
          13,
          13,
          13
         ],
         "xaxis": "x",
         "yaxis": "y"
        },
        {
         "alignmentgroup": "True",
         "bingroup": "x",
         "hovertemplate": "hours=%{x}<br>count=%{y}<extra></extra>",
         "legendgroup": "12",
         "marker": {
          "color": "#ab63fa",
          "pattern": {
           "shape": ""
          }
         },
         "name": "12",
         "offsetgroup": "12",
         "orientation": "v",
         "showlegend": true,
         "type": "histogram",
         "x": [
          12,
          12,
          12,
          12,
          12,
          12,
          12,
          12,
          12,
          12,
          12,
          12,
          12,
          12,
          12,
          12,
          12,
          12,
          12,
          12,
          12,
          12,
          12,
          12,
          12,
          12,
          12,
          12,
          12,
          12,
          12,
          12,
          12,
          12,
          12,
          12,
          12,
          12,
          12,
          12,
          12,
          12,
          12,
          12,
          12,
          12,
          12,
          12,
          12,
          12,
          12,
          12,
          12,
          12,
          12,
          12,
          12,
          12,
          12,
          12,
          12,
          12,
          12,
          12,
          12,
          12,
          12,
          12,
          12,
          12,
          12,
          12,
          12,
          12,
          12,
          12,
          12,
          12,
          12,
          12,
          12,
          12,
          12,
          12,
          12,
          12,
          12,
          12,
          12,
          12,
          12,
          12,
          12,
          12,
          12,
          12,
          12,
          12,
          12,
          12,
          12,
          12,
          12,
          12,
          12,
          12,
          12,
          12,
          12,
          12,
          12,
          12,
          12,
          12,
          12,
          12,
          12,
          12,
          12,
          12,
          12,
          12,
          12,
          12,
          12,
          12,
          12,
          12,
          12,
          12,
          12,
          12,
          12,
          12,
          12,
          12,
          12,
          12
         ],
         "xaxis": "x",
         "yaxis": "y"
        }
       ],
       "layout": {
        "barmode": "relative",
        "legend": {
         "title": {
          "text": "hours"
         },
         "tracegroupgap": 0
        },
        "margin": {
         "t": 60
        },
        "template": {
         "data": {
          "bar": [
           {
            "error_x": {
             "color": "#2a3f5f"
            },
            "error_y": {
             "color": "#2a3f5f"
            },
            "marker": {
             "line": {
              "color": "#E5ECF6",
              "width": 0.5
             },
             "pattern": {
              "fillmode": "overlay",
              "size": 10,
              "solidity": 0.2
             }
            },
            "type": "bar"
           }
          ],
          "barpolar": [
           {
            "marker": {
             "line": {
              "color": "#E5ECF6",
              "width": 0.5
             },
             "pattern": {
              "fillmode": "overlay",
              "size": 10,
              "solidity": 0.2
             }
            },
            "type": "barpolar"
           }
          ],
          "carpet": [
           {
            "aaxis": {
             "endlinecolor": "#2a3f5f",
             "gridcolor": "white",
             "linecolor": "white",
             "minorgridcolor": "white",
             "startlinecolor": "#2a3f5f"
            },
            "baxis": {
             "endlinecolor": "#2a3f5f",
             "gridcolor": "white",
             "linecolor": "white",
             "minorgridcolor": "white",
             "startlinecolor": "#2a3f5f"
            },
            "type": "carpet"
           }
          ],
          "choropleth": [
           {
            "colorbar": {
             "outlinewidth": 0,
             "ticks": ""
            },
            "type": "choropleth"
           }
          ],
          "contour": [
           {
            "colorbar": {
             "outlinewidth": 0,
             "ticks": ""
            },
            "colorscale": [
             [
              0,
              "#0d0887"
             ],
             [
              0.1111111111111111,
              "#46039f"
             ],
             [
              0.2222222222222222,
              "#7201a8"
             ],
             [
              0.3333333333333333,
              "#9c179e"
             ],
             [
              0.4444444444444444,
              "#bd3786"
             ],
             [
              0.5555555555555556,
              "#d8576b"
             ],
             [
              0.6666666666666666,
              "#ed7953"
             ],
             [
              0.7777777777777778,
              "#fb9f3a"
             ],
             [
              0.8888888888888888,
              "#fdca26"
             ],
             [
              1,
              "#f0f921"
             ]
            ],
            "type": "contour"
           }
          ],
          "contourcarpet": [
           {
            "colorbar": {
             "outlinewidth": 0,
             "ticks": ""
            },
            "type": "contourcarpet"
           }
          ],
          "heatmap": [
           {
            "colorbar": {
             "outlinewidth": 0,
             "ticks": ""
            },
            "colorscale": [
             [
              0,
              "#0d0887"
             ],
             [
              0.1111111111111111,
              "#46039f"
             ],
             [
              0.2222222222222222,
              "#7201a8"
             ],
             [
              0.3333333333333333,
              "#9c179e"
             ],
             [
              0.4444444444444444,
              "#bd3786"
             ],
             [
              0.5555555555555556,
              "#d8576b"
             ],
             [
              0.6666666666666666,
              "#ed7953"
             ],
             [
              0.7777777777777778,
              "#fb9f3a"
             ],
             [
              0.8888888888888888,
              "#fdca26"
             ],
             [
              1,
              "#f0f921"
             ]
            ],
            "type": "heatmap"
           }
          ],
          "heatmapgl": [
           {
            "colorbar": {
             "outlinewidth": 0,
             "ticks": ""
            },
            "colorscale": [
             [
              0,
              "#0d0887"
             ],
             [
              0.1111111111111111,
              "#46039f"
             ],
             [
              0.2222222222222222,
              "#7201a8"
             ],
             [
              0.3333333333333333,
              "#9c179e"
             ],
             [
              0.4444444444444444,
              "#bd3786"
             ],
             [
              0.5555555555555556,
              "#d8576b"
             ],
             [
              0.6666666666666666,
              "#ed7953"
             ],
             [
              0.7777777777777778,
              "#fb9f3a"
             ],
             [
              0.8888888888888888,
              "#fdca26"
             ],
             [
              1,
              "#f0f921"
             ]
            ],
            "type": "heatmapgl"
           }
          ],
          "histogram": [
           {
            "marker": {
             "pattern": {
              "fillmode": "overlay",
              "size": 10,
              "solidity": 0.2
             }
            },
            "type": "histogram"
           }
          ],
          "histogram2d": [
           {
            "colorbar": {
             "outlinewidth": 0,
             "ticks": ""
            },
            "colorscale": [
             [
              0,
              "#0d0887"
             ],
             [
              0.1111111111111111,
              "#46039f"
             ],
             [
              0.2222222222222222,
              "#7201a8"
             ],
             [
              0.3333333333333333,
              "#9c179e"
             ],
             [
              0.4444444444444444,
              "#bd3786"
             ],
             [
              0.5555555555555556,
              "#d8576b"
             ],
             [
              0.6666666666666666,
              "#ed7953"
             ],
             [
              0.7777777777777778,
              "#fb9f3a"
             ],
             [
              0.8888888888888888,
              "#fdca26"
             ],
             [
              1,
              "#f0f921"
             ]
            ],
            "type": "histogram2d"
           }
          ],
          "histogram2dcontour": [
           {
            "colorbar": {
             "outlinewidth": 0,
             "ticks": ""
            },
            "colorscale": [
             [
              0,
              "#0d0887"
             ],
             [
              0.1111111111111111,
              "#46039f"
             ],
             [
              0.2222222222222222,
              "#7201a8"
             ],
             [
              0.3333333333333333,
              "#9c179e"
             ],
             [
              0.4444444444444444,
              "#bd3786"
             ],
             [
              0.5555555555555556,
              "#d8576b"
             ],
             [
              0.6666666666666666,
              "#ed7953"
             ],
             [
              0.7777777777777778,
              "#fb9f3a"
             ],
             [
              0.8888888888888888,
              "#fdca26"
             ],
             [
              1,
              "#f0f921"
             ]
            ],
            "type": "histogram2dcontour"
           }
          ],
          "mesh3d": [
           {
            "colorbar": {
             "outlinewidth": 0,
             "ticks": ""
            },
            "type": "mesh3d"
           }
          ],
          "parcoords": [
           {
            "line": {
             "colorbar": {
              "outlinewidth": 0,
              "ticks": ""
             }
            },
            "type": "parcoords"
           }
          ],
          "pie": [
           {
            "automargin": true,
            "type": "pie"
           }
          ],
          "scatter": [
           {
            "fillpattern": {
             "fillmode": "overlay",
             "size": 10,
             "solidity": 0.2
            },
            "type": "scatter"
           }
          ],
          "scatter3d": [
           {
            "line": {
             "colorbar": {
              "outlinewidth": 0,
              "ticks": ""
             }
            },
            "marker": {
             "colorbar": {
              "outlinewidth": 0,
              "ticks": ""
             }
            },
            "type": "scatter3d"
           }
          ],
          "scattercarpet": [
           {
            "marker": {
             "colorbar": {
              "outlinewidth": 0,
              "ticks": ""
             }
            },
            "type": "scattercarpet"
           }
          ],
          "scattergeo": [
           {
            "marker": {
             "colorbar": {
              "outlinewidth": 0,
              "ticks": ""
             }
            },
            "type": "scattergeo"
           }
          ],
          "scattergl": [
           {
            "marker": {
             "colorbar": {
              "outlinewidth": 0,
              "ticks": ""
             }
            },
            "type": "scattergl"
           }
          ],
          "scattermapbox": [
           {
            "marker": {
             "colorbar": {
              "outlinewidth": 0,
              "ticks": ""
             }
            },
            "type": "scattermapbox"
           }
          ],
          "scatterpolar": [
           {
            "marker": {
             "colorbar": {
              "outlinewidth": 0,
              "ticks": ""
             }
            },
            "type": "scatterpolar"
           }
          ],
          "scatterpolargl": [
           {
            "marker": {
             "colorbar": {
              "outlinewidth": 0,
              "ticks": ""
             }
            },
            "type": "scatterpolargl"
           }
          ],
          "scatterternary": [
           {
            "marker": {
             "colorbar": {
              "outlinewidth": 0,
              "ticks": ""
             }
            },
            "type": "scatterternary"
           }
          ],
          "surface": [
           {
            "colorbar": {
             "outlinewidth": 0,
             "ticks": ""
            },
            "colorscale": [
             [
              0,
              "#0d0887"
             ],
             [
              0.1111111111111111,
              "#46039f"
             ],
             [
              0.2222222222222222,
              "#7201a8"
             ],
             [
              0.3333333333333333,
              "#9c179e"
             ],
             [
              0.4444444444444444,
              "#bd3786"
             ],
             [
              0.5555555555555556,
              "#d8576b"
             ],
             [
              0.6666666666666666,
              "#ed7953"
             ],
             [
              0.7777777777777778,
              "#fb9f3a"
             ],
             [
              0.8888888888888888,
              "#fdca26"
             ],
             [
              1,
              "#f0f921"
             ]
            ],
            "type": "surface"
           }
          ],
          "table": [
           {
            "cells": {
             "fill": {
              "color": "#EBF0F8"
             },
             "line": {
              "color": "white"
             }
            },
            "header": {
             "fill": {
              "color": "#C8D4E3"
             },
             "line": {
              "color": "white"
             }
            },
            "type": "table"
           }
          ]
         },
         "layout": {
          "annotationdefaults": {
           "arrowcolor": "#2a3f5f",
           "arrowhead": 0,
           "arrowwidth": 1
          },
          "autotypenumbers": "strict",
          "coloraxis": {
           "colorbar": {
            "outlinewidth": 0,
            "ticks": ""
           }
          },
          "colorscale": {
           "diverging": [
            [
             0,
             "#8e0152"
            ],
            [
             0.1,
             "#c51b7d"
            ],
            [
             0.2,
             "#de77ae"
            ],
            [
             0.3,
             "#f1b6da"
            ],
            [
             0.4,
             "#fde0ef"
            ],
            [
             0.5,
             "#f7f7f7"
            ],
            [
             0.6,
             "#e6f5d0"
            ],
            [
             0.7,
             "#b8e186"
            ],
            [
             0.8,
             "#7fbc41"
            ],
            [
             0.9,
             "#4d9221"
            ],
            [
             1,
             "#276419"
            ]
           ],
           "sequential": [
            [
             0,
             "#0d0887"
            ],
            [
             0.1111111111111111,
             "#46039f"
            ],
            [
             0.2222222222222222,
             "#7201a8"
            ],
            [
             0.3333333333333333,
             "#9c179e"
            ],
            [
             0.4444444444444444,
             "#bd3786"
            ],
            [
             0.5555555555555556,
             "#d8576b"
            ],
            [
             0.6666666666666666,
             "#ed7953"
            ],
            [
             0.7777777777777778,
             "#fb9f3a"
            ],
            [
             0.8888888888888888,
             "#fdca26"
            ],
            [
             1,
             "#f0f921"
            ]
           ],
           "sequentialminus": [
            [
             0,
             "#0d0887"
            ],
            [
             0.1111111111111111,
             "#46039f"
            ],
            [
             0.2222222222222222,
             "#7201a8"
            ],
            [
             0.3333333333333333,
             "#9c179e"
            ],
            [
             0.4444444444444444,
             "#bd3786"
            ],
            [
             0.5555555555555556,
             "#d8576b"
            ],
            [
             0.6666666666666666,
             "#ed7953"
            ],
            [
             0.7777777777777778,
             "#fb9f3a"
            ],
            [
             0.8888888888888888,
             "#fdca26"
            ],
            [
             1,
             "#f0f921"
            ]
           ]
          },
          "colorway": [
           "#636efa",
           "#EF553B",
           "#00cc96",
           "#ab63fa",
           "#FFA15A",
           "#19d3f3",
           "#FF6692",
           "#B6E880",
           "#FF97FF",
           "#FECB52"
          ],
          "font": {
           "color": "#2a3f5f"
          },
          "geo": {
           "bgcolor": "white",
           "lakecolor": "white",
           "landcolor": "#E5ECF6",
           "showlakes": true,
           "showland": true,
           "subunitcolor": "white"
          },
          "hoverlabel": {
           "align": "left"
          },
          "hovermode": "closest",
          "mapbox": {
           "style": "light"
          },
          "paper_bgcolor": "white",
          "plot_bgcolor": "#E5ECF6",
          "polar": {
           "angularaxis": {
            "gridcolor": "white",
            "linecolor": "white",
            "ticks": ""
           },
           "bgcolor": "#E5ECF6",
           "radialaxis": {
            "gridcolor": "white",
            "linecolor": "white",
            "ticks": ""
           }
          },
          "scene": {
           "xaxis": {
            "backgroundcolor": "#E5ECF6",
            "gridcolor": "white",
            "gridwidth": 2,
            "linecolor": "white",
            "showbackground": true,
            "ticks": "",
            "zerolinecolor": "white"
           },
           "yaxis": {
            "backgroundcolor": "#E5ECF6",
            "gridcolor": "white",
            "gridwidth": 2,
            "linecolor": "white",
            "showbackground": true,
            "ticks": "",
            "zerolinecolor": "white"
           },
           "zaxis": {
            "backgroundcolor": "#E5ECF6",
            "gridcolor": "white",
            "gridwidth": 2,
            "linecolor": "white",
            "showbackground": true,
            "ticks": "",
            "zerolinecolor": "white"
           }
          },
          "shapedefaults": {
           "line": {
            "color": "#2a3f5f"
           }
          },
          "ternary": {
           "aaxis": {
            "gridcolor": "white",
            "linecolor": "white",
            "ticks": ""
           },
           "baxis": {
            "gridcolor": "white",
            "linecolor": "white",
            "ticks": ""
           },
           "bgcolor": "#E5ECF6",
           "caxis": {
            "gridcolor": "white",
            "linecolor": "white",
            "ticks": ""
           }
          },
          "title": {
           "x": 0.05
          },
          "xaxis": {
           "automargin": true,
           "gridcolor": "white",
           "linecolor": "white",
           "ticks": "",
           "title": {
            "standoff": 15
           },
           "zerolinecolor": "white",
           "zerolinewidth": 2
          },
          "yaxis": {
           "automargin": true,
           "gridcolor": "white",
           "linecolor": "white",
           "ticks": "",
           "title": {
            "standoff": 15
           },
           "zerolinecolor": "white",
           "zerolinewidth": 2
          }
         }
        },
        "xaxis": {
         "anchor": "y",
         "categoryarray": [
          11,
          10,
          9,
          8,
          7,
          6,
          5,
          4,
          3,
          2,
          1,
          0,
          23,
          22,
          21,
          20,
          19,
          18,
          17,
          16,
          15,
          14,
          13,
          12
         ],
         "categoryorder": "array",
         "domain": [
          0,
          1
         ],
         "title": {
          "text": "hours"
         }
        },
        "yaxis": {
         "anchor": "x",
         "domain": [
          0,
          1
         ],
         "title": {
          "text": "count"
         }
        }
       }
      }
     },
     "metadata": {},
     "output_type": "display_data"
    }
   ],
   "source": [
    "px.histogram(df, x='hours', color=\"hours\")"
   ]
  },
  {
   "attachments": {},
   "cell_type": "markdown",
   "metadata": {},
   "source": [
    "### fulll disclaimer I shouldn't have broken the time Df like that for now amma STOP by this and move on to sentiment analysis but I will do a whole bunch of staff with time only on another **repo**"
   ]
  },
  {
   "attachments": {},
   "cell_type": "markdown",
   "metadata": {},
   "source": [
    "# **sentiment**\n",
    "\n",
    "* well i need to to extract the content field \n",
    "* need only 'english' for now \n",
    "* need to choose the right library to for my data\n",
    "* need to choose right visualization for it too "
   ]
  },
  {
   "cell_type": "code",
   "execution_count": 6,
   "metadata": {},
   "outputs": [
    {
     "data": {
      "text/html": [
       "<div>\n",
       "<style scoped>\n",
       "    .dataframe tbody tr th:only-of-type {\n",
       "        vertical-align: middle;\n",
       "    }\n",
       "\n",
       "    .dataframe tbody tr th {\n",
       "        vertical-align: top;\n",
       "    }\n",
       "\n",
       "    .dataframe thead th {\n",
       "        text-align: right;\n",
       "    }\n",
       "</style>\n",
       "<table border=\"1\" class=\"dataframe\">\n",
       "  <thead>\n",
       "    <tr style=\"text-align: right;\">\n",
       "      <th></th>\n",
       "      <th>url</th>\n",
       "      <th>rawContent</th>\n",
       "      <th>id</th>\n",
       "      <th>replyCount</th>\n",
       "      <th>retweetCount</th>\n",
       "      <th>likeCount</th>\n",
       "      <th>quoteCount</th>\n",
       "      <th>conversationId</th>\n",
       "      <th>lang</th>\n",
       "      <th>source</th>\n",
       "      <th>...</th>\n",
       "      <th>label.longDescription</th>\n",
       "      <th>date_day</th>\n",
       "      <th>date_month</th>\n",
       "      <th>date_WeekDay</th>\n",
       "      <th>date_Quarter</th>\n",
       "      <th>date_year</th>\n",
       "      <th>Tweet time</th>\n",
       "      <th>monthname</th>\n",
       "      <th>dayname</th>\n",
       "      <th>text</th>\n",
       "    </tr>\n",
       "  </thead>\n",
       "  <tbody>\n",
       "    <tr>\n",
       "      <th>0</th>\n",
       "      <td>https://twitter.com/prajasakshinews/status/161...</td>\n",
       "      <td>Covovax vaccine: మ‌రో 15 రోజుల్లో ఆమోదం.. బూస్...</td>\n",
       "      <td>1612410474062319616</td>\n",
       "      <td>0</td>\n",
       "      <td>0</td>\n",
       "      <td>0</td>\n",
       "      <td>0</td>\n",
       "      <td>1612410474062319616</td>\n",
       "      <td>te</td>\n",
       "      <td>&lt;a href=\"https://mobile.twitter.com\" rel=\"nofo...</td>\n",
       "      <td>...</td>\n",
       "      <td>NaN</td>\n",
       "      <td>9</td>\n",
       "      <td>1</td>\n",
       "      <td>0</td>\n",
       "      <td>1</td>\n",
       "      <td>2023</td>\n",
       "      <td>11:26:28</td>\n",
       "      <td>January</td>\n",
       "      <td>Monday</td>\n",
       "      <td>covovax vaccine: మ‌రో 15 రోజుల్లో ఆమోదం.. బూస్...</td>\n",
       "    </tr>\n",
       "    <tr>\n",
       "      <th>1</th>\n",
       "      <td>https://twitter.com/cliffordribner/status/1612...</td>\n",
       "      <td>Nurse: Majority of Delta patients at hospital ...</td>\n",
       "      <td>1612410443640758272</td>\n",
       "      <td>0</td>\n",
       "      <td>0</td>\n",
       "      <td>0</td>\n",
       "      <td>0</td>\n",
       "      <td>1612410443640758272</td>\n",
       "      <td>en</td>\n",
       "      <td>&lt;a href=\"https://cliffordribner.com/\" rel=\"nof...</td>\n",
       "      <td>...</td>\n",
       "      <td>NaN</td>\n",
       "      <td>9</td>\n",
       "      <td>1</td>\n",
       "      <td>0</td>\n",
       "      <td>1</td>\n",
       "      <td>2023</td>\n",
       "      <td>11:26:21</td>\n",
       "      <td>January</td>\n",
       "      <td>Monday</td>\n",
       "      <td>nurse: majority of delta patients at hospital ...</td>\n",
       "    </tr>\n",
       "    <tr>\n",
       "      <th>2</th>\n",
       "      <td>https://twitter.com/cliffordribner/status/1612...</td>\n",
       "      <td>Los Angeles Imposes COVID-19 Passport on Child...</td>\n",
       "      <td>1612410440310456321</td>\n",
       "      <td>0</td>\n",
       "      <td>0</td>\n",
       "      <td>0</td>\n",
       "      <td>0</td>\n",
       "      <td>1612410440310456321</td>\n",
       "      <td>en</td>\n",
       "      <td>&lt;a href=\"https://cliffordribner.com/\" rel=\"nof...</td>\n",
       "      <td>...</td>\n",
       "      <td>NaN</td>\n",
       "      <td>9</td>\n",
       "      <td>1</td>\n",
       "      <td>0</td>\n",
       "      <td>1</td>\n",
       "      <td>2023</td>\n",
       "      <td>11:26:20</td>\n",
       "      <td>January</td>\n",
       "      <td>Monday</td>\n",
       "      <td>los angeles imposes covid-19 passport on child...</td>\n",
       "    </tr>\n",
       "  </tbody>\n",
       "</table>\n",
       "<p>3 rows × 30 columns</p>\n",
       "</div>"
      ],
      "text/plain": [
       "                                                 url  \\\n",
       "0  https://twitter.com/prajasakshinews/status/161...   \n",
       "1  https://twitter.com/cliffordribner/status/1612...   \n",
       "2  https://twitter.com/cliffordribner/status/1612...   \n",
       "\n",
       "                                          rawContent                   id  \\\n",
       "0  Covovax vaccine: మ‌రో 15 రోజుల్లో ఆమోదం.. బూస్...  1612410474062319616   \n",
       "1  Nurse: Majority of Delta patients at hospital ...  1612410443640758272   \n",
       "2  Los Angeles Imposes COVID-19 Passport on Child...  1612410440310456321   \n",
       "\n",
       "   replyCount  retweetCount  likeCount  quoteCount       conversationId lang  \\\n",
       "0           0             0          0           0  1612410474062319616   te   \n",
       "1           0             0          0           0  1612410443640758272   en   \n",
       "2           0             0          0           0  1612410440310456321   en   \n",
       "\n",
       "                                              source  ...  \\\n",
       "0  <a href=\"https://mobile.twitter.com\" rel=\"nofo...  ...   \n",
       "1  <a href=\"https://cliffordribner.com/\" rel=\"nof...  ...   \n",
       "2  <a href=\"https://cliffordribner.com/\" rel=\"nof...  ...   \n",
       "\n",
       "  label.longDescription date_day  date_month date_WeekDay  date_Quarter  \\\n",
       "0                   NaN        9           1            0             1   \n",
       "1                   NaN        9           1            0             1   \n",
       "2                   NaN        9           1            0             1   \n",
       "\n",
       "   date_year  Tweet time monthname dayname  \\\n",
       "0       2023    11:26:28   January  Monday   \n",
       "1       2023    11:26:21   January  Monday   \n",
       "2       2023    11:26:20   January  Monday   \n",
       "\n",
       "                                                text  \n",
       "0  covovax vaccine: మ‌రో 15 రోజుల్లో ఆమోదం.. బూస్...  \n",
       "1  nurse: majority of delta patients at hospital ...  \n",
       "2  los angeles imposes covid-19 passport on child...  \n",
       "\n",
       "[3 rows x 30 columns]"
      ]
     },
     "execution_count": 6,
     "metadata": {},
     "output_type": "execute_result"
    }
   ],
   "source": [
    "df['text'] = df['rawContent'].astype(str).str.lower()\n",
    "df.head(3)"
   ]
  },
  {
   "attachments": {},
   "cell_type": "markdown",
   "metadata": {},
   "source": [
    "### first let's download all the resources"
   ]
  },
  {
   "cell_type": "code",
   "execution_count": 7,
   "metadata": {},
   "outputs": [
    {
     "name": "stderr",
     "output_type": "stream",
     "text": [
      "[nltk_data] Downloading package names to\n",
      "[nltk_data]     C:\\Users\\USER\\AppData\\Roaming\\nltk_data...\n",
      "[nltk_data]   Package names is already up-to-date!\n",
      "[nltk_data] Downloading package stopwords to\n",
      "[nltk_data]     C:\\Users\\USER\\AppData\\Roaming\\nltk_data...\n",
      "[nltk_data]   Package stopwords is already up-to-date!\n",
      "[nltk_data] Downloading package twitter_samples to\n",
      "[nltk_data]     C:\\Users\\USER\\AppData\\Roaming\\nltk_data...\n",
      "[nltk_data]   Package twitter_samples is already up-to-date!\n",
      "[nltk_data] Downloading package averaged_perceptron_tagger to\n",
      "[nltk_data]     C:\\Users\\USER\\AppData\\Roaming\\nltk_data...\n",
      "[nltk_data]   Package averaged_perceptron_tagger is already up-to-\n",
      "[nltk_data]       date!\n",
      "[nltk_data] Downloading package vader_lexicon to\n",
      "[nltk_data]     C:\\Users\\USER\\AppData\\Roaming\\nltk_data...\n",
      "[nltk_data]   Package vader_lexicon is already up-to-date!\n",
      "[nltk_data] Downloading package punkt to\n",
      "[nltk_data]     C:\\Users\\USER\\AppData\\Roaming\\nltk_data...\n",
      "[nltk_data]   Package punkt is already up-to-date!\n"
     ]
    },
    {
     "data": {
      "text/plain": [
       "True"
      ]
     },
     "execution_count": 7,
     "metadata": {},
     "output_type": "execute_result"
    }
   ],
   "source": [
    "nltk.download([\n",
    "     \"names\",\n",
    "     \"stopwords\",\n",
    "    \"twitter_samples\",\n",
    "     \"averaged_perceptron_tagger\",\n",
    "     \"vader_lexicon\",\n",
    "    \"punkt\",\n",
    " ])"
   ]
  },
  {
   "attachments": {},
   "cell_type": "markdown",
   "metadata": {},
   "source": [
    "#### I have done many things here but the one that fully worked for me was using ***`regex`*** "
   ]
  },
  {
   "cell_type": "code",
   "execution_count": 8,
   "metadata": {},
   "outputs": [
    {
     "data": {
      "text/html": [
       "<div>\n",
       "<style scoped>\n",
       "    .dataframe tbody tr th:only-of-type {\n",
       "        vertical-align: middle;\n",
       "    }\n",
       "\n",
       "    .dataframe tbody tr th {\n",
       "        vertical-align: top;\n",
       "    }\n",
       "\n",
       "    .dataframe thead th {\n",
       "        text-align: right;\n",
       "    }\n",
       "</style>\n",
       "<table border=\"1\" class=\"dataframe\">\n",
       "  <thead>\n",
       "    <tr style=\"text-align: right;\">\n",
       "      <th></th>\n",
       "      <th>url</th>\n",
       "      <th>rawContent</th>\n",
       "      <th>id</th>\n",
       "      <th>replyCount</th>\n",
       "      <th>retweetCount</th>\n",
       "      <th>likeCount</th>\n",
       "      <th>quoteCount</th>\n",
       "      <th>conversationId</th>\n",
       "      <th>lang</th>\n",
       "      <th>source</th>\n",
       "      <th>...</th>\n",
       "      <th>date_day</th>\n",
       "      <th>date_month</th>\n",
       "      <th>date_WeekDay</th>\n",
       "      <th>date_Quarter</th>\n",
       "      <th>date_year</th>\n",
       "      <th>Tweet time</th>\n",
       "      <th>monthname</th>\n",
       "      <th>dayname</th>\n",
       "      <th>text</th>\n",
       "      <th>text_token</th>\n",
       "    </tr>\n",
       "  </thead>\n",
       "  <tbody>\n",
       "    <tr>\n",
       "      <th>0</th>\n",
       "      <td>https://twitter.com/prajasakshinews/status/161...</td>\n",
       "      <td>Covovax vaccine: మ‌రో 15 రోజుల్లో ఆమోదం.. బూస్...</td>\n",
       "      <td>1612410474062319616</td>\n",
       "      <td>0</td>\n",
       "      <td>0</td>\n",
       "      <td>0</td>\n",
       "      <td>0</td>\n",
       "      <td>1612410474062319616</td>\n",
       "      <td>te</td>\n",
       "      <td>&lt;a href=\"https://mobile.twitter.com\" rel=\"nofo...</td>\n",
       "      <td>...</td>\n",
       "      <td>9</td>\n",
       "      <td>1</td>\n",
       "      <td>0</td>\n",
       "      <td>1</td>\n",
       "      <td>2023</td>\n",
       "      <td>11:26:28</td>\n",
       "      <td>January</td>\n",
       "      <td>Monday</td>\n",
       "      <td>covovax vaccine: మ‌రో 15 రోజుల్లో ఆమోదం.. బూస్...</td>\n",
       "      <td>[covovax, vaccine, మ, ర, 15, ర, జ, ల, ల, ఆమ, ద...</td>\n",
       "    </tr>\n",
       "    <tr>\n",
       "      <th>1</th>\n",
       "      <td>https://twitter.com/cliffordribner/status/1612...</td>\n",
       "      <td>Nurse: Majority of Delta patients at hospital ...</td>\n",
       "      <td>1612410443640758272</td>\n",
       "      <td>0</td>\n",
       "      <td>0</td>\n",
       "      <td>0</td>\n",
       "      <td>0</td>\n",
       "      <td>1612410443640758272</td>\n",
       "      <td>en</td>\n",
       "      <td>&lt;a href=\"https://cliffordribner.com/\" rel=\"nof...</td>\n",
       "      <td>...</td>\n",
       "      <td>9</td>\n",
       "      <td>1</td>\n",
       "      <td>0</td>\n",
       "      <td>1</td>\n",
       "      <td>2023</td>\n",
       "      <td>11:26:21</td>\n",
       "      <td>January</td>\n",
       "      <td>Monday</td>\n",
       "      <td>nurse: majority of delta patients at hospital ...</td>\n",
       "      <td>[nurse, majority, of, delta, patients, at, hos...</td>\n",
       "    </tr>\n",
       "    <tr>\n",
       "      <th>2</th>\n",
       "      <td>https://twitter.com/cliffordribner/status/1612...</td>\n",
       "      <td>Los Angeles Imposes COVID-19 Passport on Child...</td>\n",
       "      <td>1612410440310456321</td>\n",
       "      <td>0</td>\n",
       "      <td>0</td>\n",
       "      <td>0</td>\n",
       "      <td>0</td>\n",
       "      <td>1612410440310456321</td>\n",
       "      <td>en</td>\n",
       "      <td>&lt;a href=\"https://cliffordribner.com/\" rel=\"nof...</td>\n",
       "      <td>...</td>\n",
       "      <td>9</td>\n",
       "      <td>1</td>\n",
       "      <td>0</td>\n",
       "      <td>1</td>\n",
       "      <td>2023</td>\n",
       "      <td>11:26:20</td>\n",
       "      <td>January</td>\n",
       "      <td>Monday</td>\n",
       "      <td>los angeles imposes covid-19 passport on child...</td>\n",
       "      <td>[los, angeles, imposes, covid, 19, passport, o...</td>\n",
       "    </tr>\n",
       "  </tbody>\n",
       "</table>\n",
       "<p>3 rows × 31 columns</p>\n",
       "</div>"
      ],
      "text/plain": [
       "                                                 url  \\\n",
       "0  https://twitter.com/prajasakshinews/status/161...   \n",
       "1  https://twitter.com/cliffordribner/status/1612...   \n",
       "2  https://twitter.com/cliffordribner/status/1612...   \n",
       "\n",
       "                                          rawContent                   id  \\\n",
       "0  Covovax vaccine: మ‌రో 15 రోజుల్లో ఆమోదం.. బూస్...  1612410474062319616   \n",
       "1  Nurse: Majority of Delta patients at hospital ...  1612410443640758272   \n",
       "2  Los Angeles Imposes COVID-19 Passport on Child...  1612410440310456321   \n",
       "\n",
       "   replyCount  retweetCount  likeCount  quoteCount       conversationId lang  \\\n",
       "0           0             0          0           0  1612410474062319616   te   \n",
       "1           0             0          0           0  1612410443640758272   en   \n",
       "2           0             0          0           0  1612410440310456321   en   \n",
       "\n",
       "                                              source  ... date_day date_month  \\\n",
       "0  <a href=\"https://mobile.twitter.com\" rel=\"nofo...  ...        9          1   \n",
       "1  <a href=\"https://cliffordribner.com/\" rel=\"nof...  ...        9          1   \n",
       "2  <a href=\"https://cliffordribner.com/\" rel=\"nof...  ...        9          1   \n",
       "\n",
       "   date_WeekDay date_Quarter  date_year  Tweet time  monthname dayname  \\\n",
       "0             0            1       2023    11:26:28    January  Monday   \n",
       "1             0            1       2023    11:26:21    January  Monday   \n",
       "2             0            1       2023    11:26:20    January  Monday   \n",
       "\n",
       "                                                text  \\\n",
       "0  covovax vaccine: మ‌రో 15 రోజుల్లో ఆమోదం.. బూస్...   \n",
       "1  nurse: majority of delta patients at hospital ...   \n",
       "2  los angeles imposes covid-19 passport on child...   \n",
       "\n",
       "                                          text_token  \n",
       "0  [covovax, vaccine, మ, ర, 15, ర, జ, ల, ల, ఆమ, ద...  \n",
       "1  [nurse, majority, of, delta, patients, at, hos...  \n",
       "2  [los, angeles, imposes, covid, 19, passport, o...  \n",
       "\n",
       "[3 rows x 31 columns]"
      ]
     },
     "execution_count": 8,
     "metadata": {},
     "output_type": "execute_result"
    }
   ],
   "source": [
    "from nltk.tokenize import RegexpTokenizer\n",
    "\n",
    "regexp = RegexpTokenizer('\\w+')\n",
    "\n",
    "df['text_token']=df['text'].apply(regexp.tokenize)\n",
    "df.head(3)"
   ]
  },
  {
   "cell_type": "code",
   "execution_count": 9,
   "metadata": {},
   "outputs": [],
   "source": [
    "from nltk.corpus import stopwords\n",
    "\n",
    "# Make a list of english stopwords\n",
    "stopwords = nltk.corpus.stopwords.words(\"english\")\n",
    "\n",
    "# Extend the list with your own custom stopwords\n",
    "my_stopwords = ['https','href','rel','http']\n",
    "stopwords.extend(my_stopwords)"
   ]
  },
  {
   "attachments": {},
   "cell_type": "markdown",
   "metadata": {},
   "source": [
    "### REmove the Stop Words"
   ]
  },
  {
   "cell_type": "code",
   "execution_count": 10,
   "metadata": {},
   "outputs": [
    {
     "data": {
      "text/html": [
       "<div>\n",
       "<style scoped>\n",
       "    .dataframe tbody tr th:only-of-type {\n",
       "        vertical-align: middle;\n",
       "    }\n",
       "\n",
       "    .dataframe tbody tr th {\n",
       "        vertical-align: top;\n",
       "    }\n",
       "\n",
       "    .dataframe thead th {\n",
       "        text-align: right;\n",
       "    }\n",
       "</style>\n",
       "<table border=\"1\" class=\"dataframe\">\n",
       "  <thead>\n",
       "    <tr style=\"text-align: right;\">\n",
       "      <th></th>\n",
       "      <th>url</th>\n",
       "      <th>rawContent</th>\n",
       "      <th>id</th>\n",
       "      <th>replyCount</th>\n",
       "      <th>retweetCount</th>\n",
       "      <th>likeCount</th>\n",
       "      <th>quoteCount</th>\n",
       "      <th>conversationId</th>\n",
       "      <th>lang</th>\n",
       "      <th>source</th>\n",
       "      <th>...</th>\n",
       "      <th>date_day</th>\n",
       "      <th>date_month</th>\n",
       "      <th>date_WeekDay</th>\n",
       "      <th>date_Quarter</th>\n",
       "      <th>date_year</th>\n",
       "      <th>Tweet time</th>\n",
       "      <th>monthname</th>\n",
       "      <th>dayname</th>\n",
       "      <th>text</th>\n",
       "      <th>text_token</th>\n",
       "    </tr>\n",
       "  </thead>\n",
       "  <tbody>\n",
       "    <tr>\n",
       "      <th>0</th>\n",
       "      <td>https://twitter.com/prajasakshinews/status/161...</td>\n",
       "      <td>Covovax vaccine: మ‌రో 15 రోజుల్లో ఆమోదం.. బూస్...</td>\n",
       "      <td>1612410474062319616</td>\n",
       "      <td>0</td>\n",
       "      <td>0</td>\n",
       "      <td>0</td>\n",
       "      <td>0</td>\n",
       "      <td>1612410474062319616</td>\n",
       "      <td>te</td>\n",
       "      <td>&lt;a href=\"https://mobile.twitter.com\" rel=\"nofo...</td>\n",
       "      <td>...</td>\n",
       "      <td>9</td>\n",
       "      <td>1</td>\n",
       "      <td>0</td>\n",
       "      <td>1</td>\n",
       "      <td>2023</td>\n",
       "      <td>11:26:28</td>\n",
       "      <td>January</td>\n",
       "      <td>Monday</td>\n",
       "      <td>covovax vaccine: మ‌రో 15 రోజుల్లో ఆమోదం.. బూస్...</td>\n",
       "      <td>[covovax, vaccine, మ, ర, 15, ర, జ, ల, ల, ఆమ, ద...</td>\n",
       "    </tr>\n",
       "    <tr>\n",
       "      <th>1</th>\n",
       "      <td>https://twitter.com/cliffordribner/status/1612...</td>\n",
       "      <td>Nurse: Majority of Delta patients at hospital ...</td>\n",
       "      <td>1612410443640758272</td>\n",
       "      <td>0</td>\n",
       "      <td>0</td>\n",
       "      <td>0</td>\n",
       "      <td>0</td>\n",
       "      <td>1612410443640758272</td>\n",
       "      <td>en</td>\n",
       "      <td>&lt;a href=\"https://cliffordribner.com/\" rel=\"nof...</td>\n",
       "      <td>...</td>\n",
       "      <td>9</td>\n",
       "      <td>1</td>\n",
       "      <td>0</td>\n",
       "      <td>1</td>\n",
       "      <td>2023</td>\n",
       "      <td>11:26:21</td>\n",
       "      <td>January</td>\n",
       "      <td>Monday</td>\n",
       "      <td>nurse: majority of delta patients at hospital ...</td>\n",
       "      <td>[nurse, majority, delta, patients, hospital, v...</td>\n",
       "    </tr>\n",
       "    <tr>\n",
       "      <th>2</th>\n",
       "      <td>https://twitter.com/cliffordribner/status/1612...</td>\n",
       "      <td>Los Angeles Imposes COVID-19 Passport on Child...</td>\n",
       "      <td>1612410440310456321</td>\n",
       "      <td>0</td>\n",
       "      <td>0</td>\n",
       "      <td>0</td>\n",
       "      <td>0</td>\n",
       "      <td>1612410440310456321</td>\n",
       "      <td>en</td>\n",
       "      <td>&lt;a href=\"https://cliffordribner.com/\" rel=\"nof...</td>\n",
       "      <td>...</td>\n",
       "      <td>9</td>\n",
       "      <td>1</td>\n",
       "      <td>0</td>\n",
       "      <td>1</td>\n",
       "      <td>2023</td>\n",
       "      <td>11:26:20</td>\n",
       "      <td>January</td>\n",
       "      <td>Monday</td>\n",
       "      <td>los angeles imposes covid-19 passport on child...</td>\n",
       "      <td>[los, angeles, imposes, covid, 19, passport, c...</td>\n",
       "    </tr>\n",
       "  </tbody>\n",
       "</table>\n",
       "<p>3 rows × 31 columns</p>\n",
       "</div>"
      ],
      "text/plain": [
       "                                                 url  \\\n",
       "0  https://twitter.com/prajasakshinews/status/161...   \n",
       "1  https://twitter.com/cliffordribner/status/1612...   \n",
       "2  https://twitter.com/cliffordribner/status/1612...   \n",
       "\n",
       "                                          rawContent                   id  \\\n",
       "0  Covovax vaccine: మ‌రో 15 రోజుల్లో ఆమోదం.. బూస్...  1612410474062319616   \n",
       "1  Nurse: Majority of Delta patients at hospital ...  1612410443640758272   \n",
       "2  Los Angeles Imposes COVID-19 Passport on Child...  1612410440310456321   \n",
       "\n",
       "   replyCount  retweetCount  likeCount  quoteCount       conversationId lang  \\\n",
       "0           0             0          0           0  1612410474062319616   te   \n",
       "1           0             0          0           0  1612410443640758272   en   \n",
       "2           0             0          0           0  1612410440310456321   en   \n",
       "\n",
       "                                              source  ... date_day date_month  \\\n",
       "0  <a href=\"https://mobile.twitter.com\" rel=\"nofo...  ...        9          1   \n",
       "1  <a href=\"https://cliffordribner.com/\" rel=\"nof...  ...        9          1   \n",
       "2  <a href=\"https://cliffordribner.com/\" rel=\"nof...  ...        9          1   \n",
       "\n",
       "   date_WeekDay date_Quarter  date_year  Tweet time  monthname dayname  \\\n",
       "0             0            1       2023    11:26:28    January  Monday   \n",
       "1             0            1       2023    11:26:21    January  Monday   \n",
       "2             0            1       2023    11:26:20    January  Monday   \n",
       "\n",
       "                                                text  \\\n",
       "0  covovax vaccine: మ‌రో 15 రోజుల్లో ఆమోదం.. బూస్...   \n",
       "1  nurse: majority of delta patients at hospital ...   \n",
       "2  los angeles imposes covid-19 passport on child...   \n",
       "\n",
       "                                          text_token  \n",
       "0  [covovax, vaccine, మ, ర, 15, ర, జ, ల, ల, ఆమ, ద...  \n",
       "1  [nurse, majority, delta, patients, hospital, v...  \n",
       "2  [los, angeles, imposes, covid, 19, passport, c...  \n",
       "\n",
       "[3 rows x 31 columns]"
      ]
     },
     "execution_count": 10,
     "metadata": {},
     "output_type": "execute_result"
    }
   ],
   "source": [
    "df['text_token'] = df['text_token'].apply(lambda x: [item for item in x if item not in stopwords])\n",
    "df.head(3)"
   ]
  },
  {
   "attachments": {},
   "cell_type": "markdown",
   "metadata": {},
   "source": [
    "### Remove infrequent words\n",
    "* We first change the format of text_token to strings and keep only words which are longer than 2 letters"
   ]
  },
  {
   "cell_type": "code",
   "execution_count": 11,
   "metadata": {},
   "outputs": [],
   "source": [
    "df['text_string'] = df['text_token'].apply(lambda x: ' '.join([item for item in x if len(item)>2]))"
   ]
  },
  {
   "attachments": {},
   "cell_type": "markdown",
   "metadata": {},
   "source": [
    "### let's see if there any change between the stages"
   ]
  },
  {
   "cell_type": "code",
   "execution_count": 12,
   "metadata": {},
   "outputs": [
    {
     "data": {
      "text/html": [
       "<div>\n",
       "<style scoped>\n",
       "    .dataframe tbody tr th:only-of-type {\n",
       "        vertical-align: middle;\n",
       "    }\n",
       "\n",
       "    .dataframe tbody tr th {\n",
       "        vertical-align: top;\n",
       "    }\n",
       "\n",
       "    .dataframe thead th {\n",
       "        text-align: right;\n",
       "    }\n",
       "</style>\n",
       "<table border=\"1\" class=\"dataframe\">\n",
       "  <thead>\n",
       "    <tr style=\"text-align: right;\">\n",
       "      <th></th>\n",
       "      <th>text</th>\n",
       "      <th>text_token</th>\n",
       "      <th>text_string</th>\n",
       "    </tr>\n",
       "  </thead>\n",
       "  <tbody>\n",
       "    <tr>\n",
       "      <th>0</th>\n",
       "      <td>covovax vaccine: మ‌రో 15 రోజుల్లో ఆమోదం.. బూస్...</td>\n",
       "      <td>[covovax, vaccine, మ, ర, 15, ర, జ, ల, ల, ఆమ, ద...</td>\n",
       "      <td>covovax vaccine nentf6gj6g adarpoonawalla boos...</td>\n",
       "    </tr>\n",
       "    <tr>\n",
       "      <th>1</th>\n",
       "      <td>nurse: majority of delta patients at hospital ...</td>\n",
       "      <td>[nurse, majority, delta, patients, hospital, v...</td>\n",
       "      <td>nurse majority delta patients hospital vaccina...</td>\n",
       "    </tr>\n",
       "    <tr>\n",
       "      <th>2</th>\n",
       "      <td>los angeles imposes covid-19 passport on child...</td>\n",
       "      <td>[los, angeles, imposes, covid, 19, passport, c...</td>\n",
       "      <td>los angeles imposes covid passport children ag...</td>\n",
       "    </tr>\n",
       "    <tr>\n",
       "      <th>3</th>\n",
       "      <td>today @ https://t.co/h5o05ctuq3 o.a.:\\n\\nmajor...</td>\n",
       "      <td>[today, co, h5o05ctuq3, major, shift, jfk, ass...</td>\n",
       "      <td>today h5o05ctuq3 major shift jfk assassination...</td>\n",
       "    </tr>\n",
       "    <tr>\n",
       "      <th>4</th>\n",
       "      <td>#shorts  dr. ryan cole prat1  #vaccine  #covid...</td>\n",
       "      <td>[shorts, dr, ryan, cole, prat1, vaccine, covid...</td>\n",
       "      <td>shorts ryan cole prat1 vaccine covid gvllg90gy...</td>\n",
       "    </tr>\n",
       "  </tbody>\n",
       "</table>\n",
       "</div>"
      ],
      "text/plain": [
       "                                                text  \\\n",
       "0  covovax vaccine: మ‌రో 15 రోజుల్లో ఆమోదం.. బూస్...   \n",
       "1  nurse: majority of delta patients at hospital ...   \n",
       "2  los angeles imposes covid-19 passport on child...   \n",
       "3  today @ https://t.co/h5o05ctuq3 o.a.:\\n\\nmajor...   \n",
       "4  #shorts  dr. ryan cole prat1  #vaccine  #covid...   \n",
       "\n",
       "                                          text_token  \\\n",
       "0  [covovax, vaccine, మ, ర, 15, ర, జ, ల, ల, ఆమ, ద...   \n",
       "1  [nurse, majority, delta, patients, hospital, v...   \n",
       "2  [los, angeles, imposes, covid, 19, passport, c...   \n",
       "3  [today, co, h5o05ctuq3, major, shift, jfk, ass...   \n",
       "4  [shorts, dr, ryan, cole, prat1, vaccine, covid...   \n",
       "\n",
       "                                         text_string  \n",
       "0  covovax vaccine nentf6gj6g adarpoonawalla boos...  \n",
       "1  nurse majority delta patients hospital vaccina...  \n",
       "2  los angeles imposes covid passport children ag...  \n",
       "3  today h5o05ctuq3 major shift jfk assassination...  \n",
       "4  shorts ryan cole prat1 vaccine covid gvllg90gy...  "
      ]
     },
     "execution_count": 12,
     "metadata": {},
     "output_type": "execute_result"
    }
   ],
   "source": [
    "df[['text', 'text_token', 'text_string']].head()"
   ]
  },
  {
   "attachments": {},
   "cell_type": "markdown",
   "metadata": {},
   "source": [
    "* create a list of all words"
   ]
  },
  {
   "cell_type": "code",
   "execution_count": 13,
   "metadata": {},
   "outputs": [],
   "source": [
    "all_words = ' '.join([word for word in df['text_string']])"
   ]
  },
  {
   "attachments": {},
   "cell_type": "markdown",
   "metadata": {},
   "source": [
    "* tokenize it"
   ]
  },
  {
   "cell_type": "code",
   "execution_count": 14,
   "metadata": {},
   "outputs": [],
   "source": [
    "tokenized_words = nltk.tokenize.word_tokenize(all_words)"
   ]
  },
  {
   "attachments": {},
   "cell_type": "markdown",
   "metadata": {},
   "source": [
    "* by using `FreqDist` we can count every word to remove the least called one to ease with analysis portion"
   ]
  },
  {
   "cell_type": "code",
   "execution_count": 15,
   "metadata": {},
   "outputs": [
    {
     "data": {
      "text/plain": [
       "FreqDist({'vaccine': 3391, 'covid': 925, 'covid19': 500, 'vaccinedeath': 349, 'people': 303, 'amp': 299, 'vaccines': 286, 'mrna': 273, 'vaccineinjuries': 269, 'vaccinesideeffects': 251, ...})"
      ]
     },
     "execution_count": 15,
     "metadata": {},
     "output_type": "execute_result"
    }
   ],
   "source": [
    "\n",
    "from nltk.probability import FreqDist\n",
    "\n",
    "fdist = FreqDist(tokenized_words)\n",
    "fdist"
   ]
  },
  {
   "attachments": {},
   "cell_type": "markdown",
   "metadata": {},
   "source": [
    "* let's drop word that are used let's than `10` times why not! beacause we had little data set"
   ]
  },
  {
   "cell_type": "code",
   "execution_count": 16,
   "metadata": {},
   "outputs": [],
   "source": [
    "df['text_string_fdist'] = df['text_token'].apply(lambda x: ' '.join([item for item in x if fdist[item] >= 10 ]))"
   ]
  },
  {
   "attachments": {},
   "cell_type": "markdown",
   "metadata": {},
   "source": [
    "## one last time check in our data sets"
   ]
  },
  {
   "cell_type": "code",
   "execution_count": 17,
   "metadata": {},
   "outputs": [
    {
     "data": {
      "text/html": [
       "<div>\n",
       "<style scoped>\n",
       "    .dataframe tbody tr th:only-of-type {\n",
       "        vertical-align: middle;\n",
       "    }\n",
       "\n",
       "    .dataframe tbody tr th {\n",
       "        vertical-align: top;\n",
       "    }\n",
       "\n",
       "    .dataframe thead th {\n",
       "        text-align: right;\n",
       "    }\n",
       "</style>\n",
       "<table border=\"1\" class=\"dataframe\">\n",
       "  <thead>\n",
       "    <tr style=\"text-align: right;\">\n",
       "      <th></th>\n",
       "      <th>text</th>\n",
       "      <th>text_token</th>\n",
       "      <th>text_string</th>\n",
       "      <th>text_string_fdist</th>\n",
       "    </tr>\n",
       "  </thead>\n",
       "  <tbody>\n",
       "    <tr>\n",
       "      <th>0</th>\n",
       "      <td>covovax vaccine: మ‌రో 15 రోజుల్లో ఆమోదం.. బూస్...</td>\n",
       "      <td>[covovax, vaccine, మ, ర, 15, ర, జ, ల, ల, ఆమ, ద...</td>\n",
       "      <td>covovax vaccine nentf6gj6g adarpoonawalla boos...</td>\n",
       "      <td>covovax vaccine boosterdose covovax vaccine</td>\n",
       "    </tr>\n",
       "    <tr>\n",
       "      <th>1</th>\n",
       "      <td>nurse: majority of delta patients at hospital ...</td>\n",
       "      <td>[nurse, majority, delta, patients, hospital, v...</td>\n",
       "      <td>nurse majority delta patients hospital vaccina...</td>\n",
       "      <td>majority patients hospital vaccinated coronavi...</td>\n",
       "    </tr>\n",
       "    <tr>\n",
       "      <th>2</th>\n",
       "      <td>los angeles imposes covid-19 passport on child...</td>\n",
       "      <td>[los, angeles, imposes, covid, 19, passport, c...</td>\n",
       "      <td>los angeles imposes covid passport children ag...</td>\n",
       "      <td>covid children aged children covid mandate vac...</td>\n",
       "    </tr>\n",
       "    <tr>\n",
       "      <th>3</th>\n",
       "      <td>today @ https://t.co/h5o05ctuq3 o.a.:\\n\\nmajor...</td>\n",
       "      <td>[today, co, h5o05ctuq3, major, shift, jfk, ass...</td>\n",
       "      <td>today h5o05ctuq3 major shift jfk assassination...</td>\n",
       "      <td>today major new covid vaccine world genocide f...</td>\n",
       "    </tr>\n",
       "    <tr>\n",
       "      <th>4</th>\n",
       "      <td>#shorts  dr. ryan cole prat1  #vaccine  #covid...</td>\n",
       "      <td>[shorts, dr, ryan, cole, prat1, vaccine, covid...</td>\n",
       "      <td>shorts ryan cole prat1 vaccine covid gvllg90gy...</td>\n",
       "      <td>shorts ryan cole prat1 vaccine covid via youtube</td>\n",
       "    </tr>\n",
       "  </tbody>\n",
       "</table>\n",
       "</div>"
      ],
      "text/plain": [
       "                                                text  \\\n",
       "0  covovax vaccine: మ‌రో 15 రోజుల్లో ఆమోదం.. బూస్...   \n",
       "1  nurse: majority of delta patients at hospital ...   \n",
       "2  los angeles imposes covid-19 passport on child...   \n",
       "3  today @ https://t.co/h5o05ctuq3 o.a.:\\n\\nmajor...   \n",
       "4  #shorts  dr. ryan cole prat1  #vaccine  #covid...   \n",
       "\n",
       "                                          text_token  \\\n",
       "0  [covovax, vaccine, మ, ర, 15, ర, జ, ల, ల, ఆమ, ద...   \n",
       "1  [nurse, majority, delta, patients, hospital, v...   \n",
       "2  [los, angeles, imposes, covid, 19, passport, c...   \n",
       "3  [today, co, h5o05ctuq3, major, shift, jfk, ass...   \n",
       "4  [shorts, dr, ryan, cole, prat1, vaccine, covid...   \n",
       "\n",
       "                                         text_string  \\\n",
       "0  covovax vaccine nentf6gj6g adarpoonawalla boos...   \n",
       "1  nurse majority delta patients hospital vaccina...   \n",
       "2  los angeles imposes covid passport children ag...   \n",
       "3  today h5o05ctuq3 major shift jfk assassination...   \n",
       "4  shorts ryan cole prat1 vaccine covid gvllg90gy...   \n",
       "\n",
       "                                   text_string_fdist  \n",
       "0        covovax vaccine boosterdose covovax vaccine  \n",
       "1  majority patients hospital vaccinated coronavi...  \n",
       "2  covid children aged children covid mandate vac...  \n",
       "3  today major new covid vaccine world genocide f...  \n",
       "4   shorts ryan cole prat1 vaccine covid via youtube  "
      ]
     },
     "execution_count": 17,
     "metadata": {},
     "output_type": "execute_result"
    }
   ],
   "source": [
    "df[['text', 'text_token', 'text_string', 'text_string_fdist']].head()"
   ]
  },
  {
   "attachments": {},
   "cell_type": "markdown",
   "metadata": {},
   "source": [
    "# lemmatization "
   ]
  },
  {
   "cell_type": "code",
   "execution_count": 18,
   "metadata": {},
   "outputs": [
    {
     "name": "stderr",
     "output_type": "stream",
     "text": [
      "[nltk_data] Downloading package wordnet to\n",
      "[nltk_data]     C:\\Users\\USER\\AppData\\Roaming\\nltk_data...\n",
      "[nltk_data]   Package wordnet is already up-to-date!\n",
      "[nltk_data] Downloading package omw-1.4 to\n",
      "[nltk_data]     C:\\Users\\USER\\AppData\\Roaming\\nltk_data...\n",
      "[nltk_data]   Package omw-1.4 is already up-to-date!\n"
     ]
    },
    {
     "data": {
      "text/plain": [
       "True"
      ]
     },
     "execution_count": 18,
     "metadata": {},
     "output_type": "execute_result"
    }
   ],
   "source": [
    "nltk.download('wordnet')\n",
    "nltk.download('omw-1.4')"
   ]
  },
  {
   "cell_type": "code",
   "execution_count": 19,
   "metadata": {},
   "outputs": [],
   "source": [
    "from nltk.stem import WordNetLemmatizer\n",
    "wrdnet_lmt= WordNetLemmatizer()\n",
    "df['text_string_lem'] = df['text_string_fdist'].apply(wrdnet_lmt.lemmatize)"
   ]
  },
  {
   "attachments": {},
   "cell_type": "markdown",
   "metadata": {},
   "source": [
    "### come to find out that this steps by passes some rows cause there are no words to lematize so checking is good"
   ]
  },
  {
   "cell_type": "code",
   "execution_count": 20,
   "metadata": {},
   "outputs": [],
   "source": [
    "df['is_equal']= (df['text_string_fdist']==df['text_string_lem'])\n"
   ]
  },
  {
   "cell_type": "code",
   "execution_count": 21,
   "metadata": {},
   "outputs": [
    {
     "data": {
      "text/plain": [
       "True    3000\n",
       "Name: is_equal, dtype: int64"
      ]
     },
     "execution_count": 21,
     "metadata": {},
     "output_type": "execute_result"
    }
   ],
   "source": [
    "df.is_equal.value_counts()"
   ]
  },
  {
   "cell_type": "code",
   "execution_count": 22,
   "metadata": {},
   "outputs": [
    {
     "data": {
      "text/html": [
       "<div>\n",
       "<style scoped>\n",
       "    .dataframe tbody tr th:only-of-type {\n",
       "        vertical-align: middle;\n",
       "    }\n",
       "\n",
       "    .dataframe tbody tr th {\n",
       "        vertical-align: top;\n",
       "    }\n",
       "\n",
       "    .dataframe thead th {\n",
       "        text-align: right;\n",
       "    }\n",
       "</style>\n",
       "<table border=\"1\" class=\"dataframe\">\n",
       "  <thead>\n",
       "    <tr style=\"text-align: right;\">\n",
       "      <th></th>\n",
       "      <th>url</th>\n",
       "      <th>rawContent</th>\n",
       "      <th>id</th>\n",
       "      <th>replyCount</th>\n",
       "      <th>retweetCount</th>\n",
       "      <th>likeCount</th>\n",
       "      <th>quoteCount</th>\n",
       "      <th>conversationId</th>\n",
       "      <th>lang</th>\n",
       "      <th>source</th>\n",
       "      <th>...</th>\n",
       "      <th>date_year</th>\n",
       "      <th>Tweet time</th>\n",
       "      <th>monthname</th>\n",
       "      <th>dayname</th>\n",
       "      <th>text</th>\n",
       "      <th>text_token</th>\n",
       "      <th>text_string</th>\n",
       "      <th>text_string_fdist</th>\n",
       "      <th>text_string_lem</th>\n",
       "      <th>is_equal</th>\n",
       "    </tr>\n",
       "  </thead>\n",
       "  <tbody>\n",
       "    <tr>\n",
       "      <th>0</th>\n",
       "      <td>https://twitter.com/prajasakshinews/status/161...</td>\n",
       "      <td>Covovax vaccine: మ‌రో 15 రోజుల్లో ఆమోదం.. బూస్...</td>\n",
       "      <td>1612410474062319616</td>\n",
       "      <td>0</td>\n",
       "      <td>0</td>\n",
       "      <td>0</td>\n",
       "      <td>0</td>\n",
       "      <td>1612410474062319616</td>\n",
       "      <td>te</td>\n",
       "      <td>&lt;a href=\"https://mobile.twitter.com\" rel=\"nofo...</td>\n",
       "      <td>...</td>\n",
       "      <td>2023</td>\n",
       "      <td>11:26:28</td>\n",
       "      <td>January</td>\n",
       "      <td>Monday</td>\n",
       "      <td>covovax vaccine: మ‌రో 15 రోజుల్లో ఆమోదం.. బూస్...</td>\n",
       "      <td>[covovax, vaccine, మ, ర, 15, ర, జ, ల, ల, ఆమ, ద...</td>\n",
       "      <td>covovax vaccine nentf6gj6g adarpoonawalla boos...</td>\n",
       "      <td>covovax vaccine boosterdose covovax vaccine</td>\n",
       "      <td>covovax vaccine boosterdose covovax vaccine</td>\n",
       "      <td>True</td>\n",
       "    </tr>\n",
       "    <tr>\n",
       "      <th>1</th>\n",
       "      <td>https://twitter.com/cliffordribner/status/1612...</td>\n",
       "      <td>Nurse: Majority of Delta patients at hospital ...</td>\n",
       "      <td>1612410443640758272</td>\n",
       "      <td>0</td>\n",
       "      <td>0</td>\n",
       "      <td>0</td>\n",
       "      <td>0</td>\n",
       "      <td>1612410443640758272</td>\n",
       "      <td>en</td>\n",
       "      <td>&lt;a href=\"https://cliffordribner.com/\" rel=\"nof...</td>\n",
       "      <td>...</td>\n",
       "      <td>2023</td>\n",
       "      <td>11:26:21</td>\n",
       "      <td>January</td>\n",
       "      <td>Monday</td>\n",
       "      <td>nurse: majority of delta patients at hospital ...</td>\n",
       "      <td>[nurse, majority, delta, patients, hospital, v...</td>\n",
       "      <td>nurse majority delta patients hospital vaccina...</td>\n",
       "      <td>majority patients hospital vaccinated coronavi...</td>\n",
       "      <td>majority patients hospital vaccinated coronavi...</td>\n",
       "      <td>True</td>\n",
       "    </tr>\n",
       "    <tr>\n",
       "      <th>2</th>\n",
       "      <td>https://twitter.com/cliffordribner/status/1612...</td>\n",
       "      <td>Los Angeles Imposes COVID-19 Passport on Child...</td>\n",
       "      <td>1612410440310456321</td>\n",
       "      <td>0</td>\n",
       "      <td>0</td>\n",
       "      <td>0</td>\n",
       "      <td>0</td>\n",
       "      <td>1612410440310456321</td>\n",
       "      <td>en</td>\n",
       "      <td>&lt;a href=\"https://cliffordribner.com/\" rel=\"nof...</td>\n",
       "      <td>...</td>\n",
       "      <td>2023</td>\n",
       "      <td>11:26:20</td>\n",
       "      <td>January</td>\n",
       "      <td>Monday</td>\n",
       "      <td>los angeles imposes covid-19 passport on child...</td>\n",
       "      <td>[los, angeles, imposes, covid, 19, passport, c...</td>\n",
       "      <td>los angeles imposes covid passport children ag...</td>\n",
       "      <td>covid children aged children covid mandate vac...</td>\n",
       "      <td>covid children aged children covid mandate vac...</td>\n",
       "      <td>True</td>\n",
       "    </tr>\n",
       "    <tr>\n",
       "      <th>3</th>\n",
       "      <td>https://twitter.com/nicksback1953/status/16124...</td>\n",
       "      <td>Today @ https://t.co/H5o05CtuQ3 o.a.:\\n\\nMajor...</td>\n",
       "      <td>1612408656896606211</td>\n",
       "      <td>0</td>\n",
       "      <td>0</td>\n",
       "      <td>0</td>\n",
       "      <td>0</td>\n",
       "      <td>1612408656896606211</td>\n",
       "      <td>en</td>\n",
       "      <td>&lt;a href=\"https://mobile.twitter.com\" rel=\"nofo...</td>\n",
       "      <td>...</td>\n",
       "      <td>2023</td>\n",
       "      <td>11:19:15</td>\n",
       "      <td>January</td>\n",
       "      <td>Monday</td>\n",
       "      <td>today @ https://t.co/h5o05ctuq3 o.a.:\\n\\nmajor...</td>\n",
       "      <td>[today, co, h5o05ctuq3, major, shift, jfk, ass...</td>\n",
       "      <td>today h5o05ctuq3 major shift jfk assassination...</td>\n",
       "      <td>today major new covid vaccine world genocide f...</td>\n",
       "      <td>today major new covid vaccine world genocide f...</td>\n",
       "      <td>True</td>\n",
       "    </tr>\n",
       "    <tr>\n",
       "      <th>4</th>\n",
       "      <td>https://twitter.com/B_Foster02/status/16124086...</td>\n",
       "      <td>#shorts  Dr. Ryan Cole prat1  #vaccine  #covid...</td>\n",
       "      <td>1612408637997322240</td>\n",
       "      <td>0</td>\n",
       "      <td>0</td>\n",
       "      <td>0</td>\n",
       "      <td>0</td>\n",
       "      <td>1612408637997322240</td>\n",
       "      <td>in</td>\n",
       "      <td>&lt;a href=\"https://mobile.twitter.com\" rel=\"nofo...</td>\n",
       "      <td>...</td>\n",
       "      <td>2023</td>\n",
       "      <td>11:19:11</td>\n",
       "      <td>January</td>\n",
       "      <td>Monday</td>\n",
       "      <td>#shorts  dr. ryan cole prat1  #vaccine  #covid...</td>\n",
       "      <td>[shorts, dr, ryan, cole, prat1, vaccine, covid...</td>\n",
       "      <td>shorts ryan cole prat1 vaccine covid gvllg90gy...</td>\n",
       "      <td>shorts ryan cole prat1 vaccine covid via youtube</td>\n",
       "      <td>shorts ryan cole prat1 vaccine covid via youtube</td>\n",
       "      <td>True</td>\n",
       "    </tr>\n",
       "  </tbody>\n",
       "</table>\n",
       "<p>5 rows × 35 columns</p>\n",
       "</div>"
      ],
      "text/plain": [
       "                                                 url  \\\n",
       "0  https://twitter.com/prajasakshinews/status/161...   \n",
       "1  https://twitter.com/cliffordribner/status/1612...   \n",
       "2  https://twitter.com/cliffordribner/status/1612...   \n",
       "3  https://twitter.com/nicksback1953/status/16124...   \n",
       "4  https://twitter.com/B_Foster02/status/16124086...   \n",
       "\n",
       "                                          rawContent                   id  \\\n",
       "0  Covovax vaccine: మ‌రో 15 రోజుల్లో ఆమోదం.. బూస్...  1612410474062319616   \n",
       "1  Nurse: Majority of Delta patients at hospital ...  1612410443640758272   \n",
       "2  Los Angeles Imposes COVID-19 Passport on Child...  1612410440310456321   \n",
       "3  Today @ https://t.co/H5o05CtuQ3 o.a.:\\n\\nMajor...  1612408656896606211   \n",
       "4  #shorts  Dr. Ryan Cole prat1  #vaccine  #covid...  1612408637997322240   \n",
       "\n",
       "   replyCount  retweetCount  likeCount  quoteCount       conversationId lang  \\\n",
       "0           0             0          0           0  1612410474062319616   te   \n",
       "1           0             0          0           0  1612410443640758272   en   \n",
       "2           0             0          0           0  1612410440310456321   en   \n",
       "3           0             0          0           0  1612408656896606211   en   \n",
       "4           0             0          0           0  1612408637997322240   in   \n",
       "\n",
       "                                              source  ... date_year  \\\n",
       "0  <a href=\"https://mobile.twitter.com\" rel=\"nofo...  ...      2023   \n",
       "1  <a href=\"https://cliffordribner.com/\" rel=\"nof...  ...      2023   \n",
       "2  <a href=\"https://cliffordribner.com/\" rel=\"nof...  ...      2023   \n",
       "3  <a href=\"https://mobile.twitter.com\" rel=\"nofo...  ...      2023   \n",
       "4  <a href=\"https://mobile.twitter.com\" rel=\"nofo...  ...      2023   \n",
       "\n",
       "  Tweet time  monthname dayname  \\\n",
       "0   11:26:28    January  Monday   \n",
       "1   11:26:21    January  Monday   \n",
       "2   11:26:20    January  Monday   \n",
       "3   11:19:15    January  Monday   \n",
       "4   11:19:11    January  Monday   \n",
       "\n",
       "                                                text  \\\n",
       "0  covovax vaccine: మ‌రో 15 రోజుల్లో ఆమోదం.. బూస్...   \n",
       "1  nurse: majority of delta patients at hospital ...   \n",
       "2  los angeles imposes covid-19 passport on child...   \n",
       "3  today @ https://t.co/h5o05ctuq3 o.a.:\\n\\nmajor...   \n",
       "4  #shorts  dr. ryan cole prat1  #vaccine  #covid...   \n",
       "\n",
       "                                          text_token  \\\n",
       "0  [covovax, vaccine, మ, ర, 15, ర, జ, ల, ల, ఆమ, ద...   \n",
       "1  [nurse, majority, delta, patients, hospital, v...   \n",
       "2  [los, angeles, imposes, covid, 19, passport, c...   \n",
       "3  [today, co, h5o05ctuq3, major, shift, jfk, ass...   \n",
       "4  [shorts, dr, ryan, cole, prat1, vaccine, covid...   \n",
       "\n",
       "                                         text_string  \\\n",
       "0  covovax vaccine nentf6gj6g adarpoonawalla boos...   \n",
       "1  nurse majority delta patients hospital vaccina...   \n",
       "2  los angeles imposes covid passport children ag...   \n",
       "3  today h5o05ctuq3 major shift jfk assassination...   \n",
       "4  shorts ryan cole prat1 vaccine covid gvllg90gy...   \n",
       "\n",
       "                                   text_string_fdist  \\\n",
       "0        covovax vaccine boosterdose covovax vaccine   \n",
       "1  majority patients hospital vaccinated coronavi...   \n",
       "2  covid children aged children covid mandate vac...   \n",
       "3  today major new covid vaccine world genocide f...   \n",
       "4   shorts ryan cole prat1 vaccine covid via youtube   \n",
       "\n",
       "                                     text_string_lem is_equal  \n",
       "0        covovax vaccine boosterdose covovax vaccine     True  \n",
       "1  majority patients hospital vaccinated coronavi...     True  \n",
       "2  covid children aged children covid mandate vac...     True  \n",
       "3  today major new covid vaccine world genocide f...     True  \n",
       "4   shorts ryan cole prat1 vaccine covid via youtube     True  \n",
       "\n",
       "[5 rows x 35 columns]"
      ]
     },
     "execution_count": 22,
     "metadata": {},
     "output_type": "execute_result"
    }
   ],
   "source": [
    "df.head()"
   ]
  },
  {
   "attachments": {},
   "cell_type": "markdown",
   "metadata": {},
   "source": [
    "## let's check the Frequency Distribution!"
   ]
  },
  {
   "cell_type": "code",
   "execution_count": 23,
   "metadata": {},
   "outputs": [],
   "source": [
    "from nltk.tokenize import word_tokenize\n",
    "from nltk.probability import FreqDist\n",
    "all_words_lem = ' '.join([word for word in df['text_string_lem']])\n",
    "words = nltk.word_tokenize(all_words_lem)\n",
    "fd = FreqDist(words)"
   ]
  },
  {
   "attachments": {},
   "cell_type": "markdown",
   "metadata": {},
   "source": [
    "## most common words?"
   ]
  },
  {
   "cell_type": "code",
   "execution_count": 26,
   "metadata": {},
   "outputs": [
    {
     "name": "stdout",
     "output_type": "stream",
     "text": [
      "           vaccine              covid            covid19       vaccinedeath             people                amp           vaccines               mrna    vaccineinjuries vaccinesideeffects \n",
      "              3391                925                500                349                303                299                286                273                269                251 \n"
     ]
    }
   ],
   "source": [
    "fd.tabulate(10)"
   ]
  },
  {
   "attachments": {},
   "cell_type": "markdown",
   "metadata": {},
   "source": [
    "### let's get \"Fancy\""
   ]
  },
  {
   "cell_type": "code",
   "execution_count": 35,
   "metadata": {},
   "outputs": [],
   "source": [
    "top_10=fd.most_common(10)\n",
    "fancis = pd.Series(dict(top_10))"
   ]
  },
  {
   "cell_type": "code",
   "execution_count": 38,
   "metadata": {},
   "outputs": [
    {
     "data": {
      "application/vnd.plotly.v1+json": {
       "config": {
        "plotlyServerURL": "https://plot.ly"
       },
       "data": [
        {
         "alignmentgroup": "True",
         "bingroup": "y",
         "histfunc": "sum",
         "hovertemplate": "index=%{y}<br>sum of x=%{x}<extra></extra>",
         "legendgroup": "vaccine",
         "marker": {
          "color": "#636efa",
          "pattern": {
           "shape": ""
          }
         },
         "name": "vaccine",
         "offsetgroup": "vaccine",
         "orientation": "h",
         "showlegend": true,
         "type": "histogram",
         "x": [
          3391
         ],
         "xaxis": "x",
         "y": [
          "vaccine"
         ],
         "yaxis": "y"
        },
        {
         "alignmentgroup": "True",
         "bingroup": "y",
         "histfunc": "sum",
         "hovertemplate": "index=%{y}<br>sum of x=%{x}<extra></extra>",
         "legendgroup": "covid",
         "marker": {
          "color": "#EF553B",
          "pattern": {
           "shape": ""
          }
         },
         "name": "covid",
         "offsetgroup": "covid",
         "orientation": "h",
         "showlegend": true,
         "type": "histogram",
         "x": [
          925
         ],
         "xaxis": "x",
         "y": [
          "covid"
         ],
         "yaxis": "y"
        },
        {
         "alignmentgroup": "True",
         "bingroup": "y",
         "histfunc": "sum",
         "hovertemplate": "index=%{y}<br>sum of x=%{x}<extra></extra>",
         "legendgroup": "covid19",
         "marker": {
          "color": "#00cc96",
          "pattern": {
           "shape": ""
          }
         },
         "name": "covid19",
         "offsetgroup": "covid19",
         "orientation": "h",
         "showlegend": true,
         "type": "histogram",
         "x": [
          500
         ],
         "xaxis": "x",
         "y": [
          "covid19"
         ],
         "yaxis": "y"
        },
        {
         "alignmentgroup": "True",
         "bingroup": "y",
         "histfunc": "sum",
         "hovertemplate": "index=%{y}<br>sum of x=%{x}<extra></extra>",
         "legendgroup": "vaccinedeath",
         "marker": {
          "color": "#ab63fa",
          "pattern": {
           "shape": ""
          }
         },
         "name": "vaccinedeath",
         "offsetgroup": "vaccinedeath",
         "orientation": "h",
         "showlegend": true,
         "type": "histogram",
         "x": [
          349
         ],
         "xaxis": "x",
         "y": [
          "vaccinedeath"
         ],
         "yaxis": "y"
        },
        {
         "alignmentgroup": "True",
         "bingroup": "y",
         "histfunc": "sum",
         "hovertemplate": "index=%{y}<br>sum of x=%{x}<extra></extra>",
         "legendgroup": "people",
         "marker": {
          "color": "#FFA15A",
          "pattern": {
           "shape": ""
          }
         },
         "name": "people",
         "offsetgroup": "people",
         "orientation": "h",
         "showlegend": true,
         "type": "histogram",
         "x": [
          303
         ],
         "xaxis": "x",
         "y": [
          "people"
         ],
         "yaxis": "y"
        },
        {
         "alignmentgroup": "True",
         "bingroup": "y",
         "histfunc": "sum",
         "hovertemplate": "index=%{y}<br>sum of x=%{x}<extra></extra>",
         "legendgroup": "amp",
         "marker": {
          "color": "#19d3f3",
          "pattern": {
           "shape": ""
          }
         },
         "name": "amp",
         "offsetgroup": "amp",
         "orientation": "h",
         "showlegend": true,
         "type": "histogram",
         "x": [
          299
         ],
         "xaxis": "x",
         "y": [
          "amp"
         ],
         "yaxis": "y"
        },
        {
         "alignmentgroup": "True",
         "bingroup": "y",
         "histfunc": "sum",
         "hovertemplate": "index=%{y}<br>sum of x=%{x}<extra></extra>",
         "legendgroup": "vaccines",
         "marker": {
          "color": "#FF6692",
          "pattern": {
           "shape": ""
          }
         },
         "name": "vaccines",
         "offsetgroup": "vaccines",
         "orientation": "h",
         "showlegend": true,
         "type": "histogram",
         "x": [
          286
         ],
         "xaxis": "x",
         "y": [
          "vaccines"
         ],
         "yaxis": "y"
        },
        {
         "alignmentgroup": "True",
         "bingroup": "y",
         "histfunc": "sum",
         "hovertemplate": "index=%{y}<br>sum of x=%{x}<extra></extra>",
         "legendgroup": "mrna",
         "marker": {
          "color": "#B6E880",
          "pattern": {
           "shape": ""
          }
         },
         "name": "mrna",
         "offsetgroup": "mrna",
         "orientation": "h",
         "showlegend": true,
         "type": "histogram",
         "x": [
          273
         ],
         "xaxis": "x",
         "y": [
          "mrna"
         ],
         "yaxis": "y"
        },
        {
         "alignmentgroup": "True",
         "bingroup": "y",
         "histfunc": "sum",
         "hovertemplate": "index=%{y}<br>sum of x=%{x}<extra></extra>",
         "legendgroup": "vaccineinjuries",
         "marker": {
          "color": "#FF97FF",
          "pattern": {
           "shape": ""
          }
         },
         "name": "vaccineinjuries",
         "offsetgroup": "vaccineinjuries",
         "orientation": "h",
         "showlegend": true,
         "type": "histogram",
         "x": [
          269
         ],
         "xaxis": "x",
         "y": [
          "vaccineinjuries"
         ],
         "yaxis": "y"
        },
        {
         "alignmentgroup": "True",
         "bingroup": "y",
         "histfunc": "sum",
         "hovertemplate": "index=%{y}<br>sum of x=%{x}<extra></extra>",
         "legendgroup": "vaccinesideeffects",
         "marker": {
          "color": "#FECB52",
          "pattern": {
           "shape": ""
          }
         },
         "name": "vaccinesideeffects",
         "offsetgroup": "vaccinesideeffects",
         "orientation": "h",
         "showlegend": true,
         "type": "histogram",
         "x": [
          251
         ],
         "xaxis": "x",
         "y": [
          "vaccinesideeffects"
         ],
         "yaxis": "y"
        }
       ],
       "layout": {
        "barmode": "relative",
        "legend": {
         "title": {
          "text": "index"
         },
         "tracegroupgap": 0
        },
        "margin": {
         "t": 60
        },
        "template": {
         "data": {
          "bar": [
           {
            "error_x": {
             "color": "#2a3f5f"
            },
            "error_y": {
             "color": "#2a3f5f"
            },
            "marker": {
             "line": {
              "color": "#E5ECF6",
              "width": 0.5
             },
             "pattern": {
              "fillmode": "overlay",
              "size": 10,
              "solidity": 0.2
             }
            },
            "type": "bar"
           }
          ],
          "barpolar": [
           {
            "marker": {
             "line": {
              "color": "#E5ECF6",
              "width": 0.5
             },
             "pattern": {
              "fillmode": "overlay",
              "size": 10,
              "solidity": 0.2
             }
            },
            "type": "barpolar"
           }
          ],
          "carpet": [
           {
            "aaxis": {
             "endlinecolor": "#2a3f5f",
             "gridcolor": "white",
             "linecolor": "white",
             "minorgridcolor": "white",
             "startlinecolor": "#2a3f5f"
            },
            "baxis": {
             "endlinecolor": "#2a3f5f",
             "gridcolor": "white",
             "linecolor": "white",
             "minorgridcolor": "white",
             "startlinecolor": "#2a3f5f"
            },
            "type": "carpet"
           }
          ],
          "choropleth": [
           {
            "colorbar": {
             "outlinewidth": 0,
             "ticks": ""
            },
            "type": "choropleth"
           }
          ],
          "contour": [
           {
            "colorbar": {
             "outlinewidth": 0,
             "ticks": ""
            },
            "colorscale": [
             [
              0,
              "#0d0887"
             ],
             [
              0.1111111111111111,
              "#46039f"
             ],
             [
              0.2222222222222222,
              "#7201a8"
             ],
             [
              0.3333333333333333,
              "#9c179e"
             ],
             [
              0.4444444444444444,
              "#bd3786"
             ],
             [
              0.5555555555555556,
              "#d8576b"
             ],
             [
              0.6666666666666666,
              "#ed7953"
             ],
             [
              0.7777777777777778,
              "#fb9f3a"
             ],
             [
              0.8888888888888888,
              "#fdca26"
             ],
             [
              1,
              "#f0f921"
             ]
            ],
            "type": "contour"
           }
          ],
          "contourcarpet": [
           {
            "colorbar": {
             "outlinewidth": 0,
             "ticks": ""
            },
            "type": "contourcarpet"
           }
          ],
          "heatmap": [
           {
            "colorbar": {
             "outlinewidth": 0,
             "ticks": ""
            },
            "colorscale": [
             [
              0,
              "#0d0887"
             ],
             [
              0.1111111111111111,
              "#46039f"
             ],
             [
              0.2222222222222222,
              "#7201a8"
             ],
             [
              0.3333333333333333,
              "#9c179e"
             ],
             [
              0.4444444444444444,
              "#bd3786"
             ],
             [
              0.5555555555555556,
              "#d8576b"
             ],
             [
              0.6666666666666666,
              "#ed7953"
             ],
             [
              0.7777777777777778,
              "#fb9f3a"
             ],
             [
              0.8888888888888888,
              "#fdca26"
             ],
             [
              1,
              "#f0f921"
             ]
            ],
            "type": "heatmap"
           }
          ],
          "heatmapgl": [
           {
            "colorbar": {
             "outlinewidth": 0,
             "ticks": ""
            },
            "colorscale": [
             [
              0,
              "#0d0887"
             ],
             [
              0.1111111111111111,
              "#46039f"
             ],
             [
              0.2222222222222222,
              "#7201a8"
             ],
             [
              0.3333333333333333,
              "#9c179e"
             ],
             [
              0.4444444444444444,
              "#bd3786"
             ],
             [
              0.5555555555555556,
              "#d8576b"
             ],
             [
              0.6666666666666666,
              "#ed7953"
             ],
             [
              0.7777777777777778,
              "#fb9f3a"
             ],
             [
              0.8888888888888888,
              "#fdca26"
             ],
             [
              1,
              "#f0f921"
             ]
            ],
            "type": "heatmapgl"
           }
          ],
          "histogram": [
           {
            "marker": {
             "pattern": {
              "fillmode": "overlay",
              "size": 10,
              "solidity": 0.2
             }
            },
            "type": "histogram"
           }
          ],
          "histogram2d": [
           {
            "colorbar": {
             "outlinewidth": 0,
             "ticks": ""
            },
            "colorscale": [
             [
              0,
              "#0d0887"
             ],
             [
              0.1111111111111111,
              "#46039f"
             ],
             [
              0.2222222222222222,
              "#7201a8"
             ],
             [
              0.3333333333333333,
              "#9c179e"
             ],
             [
              0.4444444444444444,
              "#bd3786"
             ],
             [
              0.5555555555555556,
              "#d8576b"
             ],
             [
              0.6666666666666666,
              "#ed7953"
             ],
             [
              0.7777777777777778,
              "#fb9f3a"
             ],
             [
              0.8888888888888888,
              "#fdca26"
             ],
             [
              1,
              "#f0f921"
             ]
            ],
            "type": "histogram2d"
           }
          ],
          "histogram2dcontour": [
           {
            "colorbar": {
             "outlinewidth": 0,
             "ticks": ""
            },
            "colorscale": [
             [
              0,
              "#0d0887"
             ],
             [
              0.1111111111111111,
              "#46039f"
             ],
             [
              0.2222222222222222,
              "#7201a8"
             ],
             [
              0.3333333333333333,
              "#9c179e"
             ],
             [
              0.4444444444444444,
              "#bd3786"
             ],
             [
              0.5555555555555556,
              "#d8576b"
             ],
             [
              0.6666666666666666,
              "#ed7953"
             ],
             [
              0.7777777777777778,
              "#fb9f3a"
             ],
             [
              0.8888888888888888,
              "#fdca26"
             ],
             [
              1,
              "#f0f921"
             ]
            ],
            "type": "histogram2dcontour"
           }
          ],
          "mesh3d": [
           {
            "colorbar": {
             "outlinewidth": 0,
             "ticks": ""
            },
            "type": "mesh3d"
           }
          ],
          "parcoords": [
           {
            "line": {
             "colorbar": {
              "outlinewidth": 0,
              "ticks": ""
             }
            },
            "type": "parcoords"
           }
          ],
          "pie": [
           {
            "automargin": true,
            "type": "pie"
           }
          ],
          "scatter": [
           {
            "fillpattern": {
             "fillmode": "overlay",
             "size": 10,
             "solidity": 0.2
            },
            "type": "scatter"
           }
          ],
          "scatter3d": [
           {
            "line": {
             "colorbar": {
              "outlinewidth": 0,
              "ticks": ""
             }
            },
            "marker": {
             "colorbar": {
              "outlinewidth": 0,
              "ticks": ""
             }
            },
            "type": "scatter3d"
           }
          ],
          "scattercarpet": [
           {
            "marker": {
             "colorbar": {
              "outlinewidth": 0,
              "ticks": ""
             }
            },
            "type": "scattercarpet"
           }
          ],
          "scattergeo": [
           {
            "marker": {
             "colorbar": {
              "outlinewidth": 0,
              "ticks": ""
             }
            },
            "type": "scattergeo"
           }
          ],
          "scattergl": [
           {
            "marker": {
             "colorbar": {
              "outlinewidth": 0,
              "ticks": ""
             }
            },
            "type": "scattergl"
           }
          ],
          "scattermapbox": [
           {
            "marker": {
             "colorbar": {
              "outlinewidth": 0,
              "ticks": ""
             }
            },
            "type": "scattermapbox"
           }
          ],
          "scatterpolar": [
           {
            "marker": {
             "colorbar": {
              "outlinewidth": 0,
              "ticks": ""
             }
            },
            "type": "scatterpolar"
           }
          ],
          "scatterpolargl": [
           {
            "marker": {
             "colorbar": {
              "outlinewidth": 0,
              "ticks": ""
             }
            },
            "type": "scatterpolargl"
           }
          ],
          "scatterternary": [
           {
            "marker": {
             "colorbar": {
              "outlinewidth": 0,
              "ticks": ""
             }
            },
            "type": "scatterternary"
           }
          ],
          "surface": [
           {
            "colorbar": {
             "outlinewidth": 0,
             "ticks": ""
            },
            "colorscale": [
             [
              0,
              "#0d0887"
             ],
             [
              0.1111111111111111,
              "#46039f"
             ],
             [
              0.2222222222222222,
              "#7201a8"
             ],
             [
              0.3333333333333333,
              "#9c179e"
             ],
             [
              0.4444444444444444,
              "#bd3786"
             ],
             [
              0.5555555555555556,
              "#d8576b"
             ],
             [
              0.6666666666666666,
              "#ed7953"
             ],
             [
              0.7777777777777778,
              "#fb9f3a"
             ],
             [
              0.8888888888888888,
              "#fdca26"
             ],
             [
              1,
              "#f0f921"
             ]
            ],
            "type": "surface"
           }
          ],
          "table": [
           {
            "cells": {
             "fill": {
              "color": "#EBF0F8"
             },
             "line": {
              "color": "white"
             }
            },
            "header": {
             "fill": {
              "color": "#C8D4E3"
             },
             "line": {
              "color": "white"
             }
            },
            "type": "table"
           }
          ]
         },
         "layout": {
          "annotationdefaults": {
           "arrowcolor": "#2a3f5f",
           "arrowhead": 0,
           "arrowwidth": 1
          },
          "autotypenumbers": "strict",
          "coloraxis": {
           "colorbar": {
            "outlinewidth": 0,
            "ticks": ""
           }
          },
          "colorscale": {
           "diverging": [
            [
             0,
             "#8e0152"
            ],
            [
             0.1,
             "#c51b7d"
            ],
            [
             0.2,
             "#de77ae"
            ],
            [
             0.3,
             "#f1b6da"
            ],
            [
             0.4,
             "#fde0ef"
            ],
            [
             0.5,
             "#f7f7f7"
            ],
            [
             0.6,
             "#e6f5d0"
            ],
            [
             0.7,
             "#b8e186"
            ],
            [
             0.8,
             "#7fbc41"
            ],
            [
             0.9,
             "#4d9221"
            ],
            [
             1,
             "#276419"
            ]
           ],
           "sequential": [
            [
             0,
             "#0d0887"
            ],
            [
             0.1111111111111111,
             "#46039f"
            ],
            [
             0.2222222222222222,
             "#7201a8"
            ],
            [
             0.3333333333333333,
             "#9c179e"
            ],
            [
             0.4444444444444444,
             "#bd3786"
            ],
            [
             0.5555555555555556,
             "#d8576b"
            ],
            [
             0.6666666666666666,
             "#ed7953"
            ],
            [
             0.7777777777777778,
             "#fb9f3a"
            ],
            [
             0.8888888888888888,
             "#fdca26"
            ],
            [
             1,
             "#f0f921"
            ]
           ],
           "sequentialminus": [
            [
             0,
             "#0d0887"
            ],
            [
             0.1111111111111111,
             "#46039f"
            ],
            [
             0.2222222222222222,
             "#7201a8"
            ],
            [
             0.3333333333333333,
             "#9c179e"
            ],
            [
             0.4444444444444444,
             "#bd3786"
            ],
            [
             0.5555555555555556,
             "#d8576b"
            ],
            [
             0.6666666666666666,
             "#ed7953"
            ],
            [
             0.7777777777777778,
             "#fb9f3a"
            ],
            [
             0.8888888888888888,
             "#fdca26"
            ],
            [
             1,
             "#f0f921"
            ]
           ]
          },
          "colorway": [
           "#636efa",
           "#EF553B",
           "#00cc96",
           "#ab63fa",
           "#FFA15A",
           "#19d3f3",
           "#FF6692",
           "#B6E880",
           "#FF97FF",
           "#FECB52"
          ],
          "font": {
           "color": "#2a3f5f"
          },
          "geo": {
           "bgcolor": "white",
           "lakecolor": "white",
           "landcolor": "#E5ECF6",
           "showlakes": true,
           "showland": true,
           "subunitcolor": "white"
          },
          "hoverlabel": {
           "align": "left"
          },
          "hovermode": "closest",
          "mapbox": {
           "style": "light"
          },
          "paper_bgcolor": "white",
          "plot_bgcolor": "#E5ECF6",
          "polar": {
           "angularaxis": {
            "gridcolor": "white",
            "linecolor": "white",
            "ticks": ""
           },
           "bgcolor": "#E5ECF6",
           "radialaxis": {
            "gridcolor": "white",
            "linecolor": "white",
            "ticks": ""
           }
          },
          "scene": {
           "xaxis": {
            "backgroundcolor": "#E5ECF6",
            "gridcolor": "white",
            "gridwidth": 2,
            "linecolor": "white",
            "showbackground": true,
            "ticks": "",
            "zerolinecolor": "white"
           },
           "yaxis": {
            "backgroundcolor": "#E5ECF6",
            "gridcolor": "white",
            "gridwidth": 2,
            "linecolor": "white",
            "showbackground": true,
            "ticks": "",
            "zerolinecolor": "white"
           },
           "zaxis": {
            "backgroundcolor": "#E5ECF6",
            "gridcolor": "white",
            "gridwidth": 2,
            "linecolor": "white",
            "showbackground": true,
            "ticks": "",
            "zerolinecolor": "white"
           }
          },
          "shapedefaults": {
           "line": {
            "color": "#2a3f5f"
           }
          },
          "ternary": {
           "aaxis": {
            "gridcolor": "white",
            "linecolor": "white",
            "ticks": ""
           },
           "baxis": {
            "gridcolor": "white",
            "linecolor": "white",
            "ticks": ""
           },
           "bgcolor": "#E5ECF6",
           "caxis": {
            "gridcolor": "white",
            "linecolor": "white",
            "ticks": ""
           }
          },
          "title": {
           "x": 0.05
          },
          "xaxis": {
           "automargin": true,
           "gridcolor": "white",
           "linecolor": "white",
           "ticks": "",
           "title": {
            "standoff": 15
           },
           "zerolinecolor": "white",
           "zerolinewidth": 2
          },
          "yaxis": {
           "automargin": true,
           "gridcolor": "white",
           "linecolor": "white",
           "ticks": "",
           "title": {
            "standoff": 15
           },
           "zerolinecolor": "white",
           "zerolinewidth": 2
          }
         }
        },
        "xaxis": {
         "anchor": "y",
         "domain": [
          0,
          1
         ],
         "title": {
          "text": "sum of x"
         }
        },
        "yaxis": {
         "anchor": "x",
         "categoryarray": [
          "vaccinesideeffects",
          "vaccineinjuries",
          "mrna",
          "vaccines",
          "amp",
          "people",
          "vaccinedeath",
          "covid19",
          "covid",
          "vaccine"
         ],
         "categoryorder": "array",
         "domain": [
          0,
          1
         ],
         "title": {
          "text": "index"
         }
        }
       }
      }
     },
     "metadata": {},
     "output_type": "display_data"
    }
   ],
   "source": [
    "px.histogram(fancis, x=fancis.values, y=fancis.index ,color=fancis.index)"
   ]
  },
  {
   "attachments": {},
   "cell_type": "markdown",
   "metadata": {},
   "source": [
    "### Why not Word cloud!!"
   ]
  },
  {
   "cell_type": "code",
   "execution_count": 43,
   "metadata": {},
   "outputs": [
    {
     "data": {
      "text/plain": [
       "(-0.5, 599.5, 399.5, -0.5)"
      ]
     },
     "execution_count": 43,
     "metadata": {},
     "output_type": "execute_result"
    },
    {
     "data": {
      "image/png": "[encoded data removed]",
      "text/plain": [
       "<Figure size 720x504 with 1 Axes>"
      ]
     },
     "metadata": {},
     "output_type": "display_data"
    }
   ],
   "source": [
    "wordcloud = WordCloud(background_color=\"white\",width=600, \n",
    "                     height=400, \n",
    "                     random_state=2, \n",
    "                     max_font_size=100).generate(all_words_lem)\n",
    "\n",
    "plt.figure(figsize=(10, 7))\n",
    "plt.imshow(wordcloud, interpolation='bilinear')\n",
    "plt.axis('off')\n",
    "# you can make it any shape you want "
   ]
  },
  {
   "cell_type": "code",
   "execution_count": null,
   "metadata": {},
   "outputs": [],
   "source": []
  }
 ],
 "metadata": {
  "kernelspec": {
   "display_name": "Python 3",
   "language": "python",
   "name": "python3"
  },
  "language_info": {
   "codemirror_mode": {
    "name": "ipython",
    "version": 3
   },
   "file_extension": ".py",
   "mimetype": "text/x-python",
   "name": "python",
   "nbconvert_exporter": "python",
   "pygments_lexer": "ipython3",
   "version": "3.9.6"
  },
  "orig_nbformat": 4,
  "vscode": {
   "interpreter": {
    "hash": "1d5c1156327dacead463cc502c55ebae8ce9c8c01979cf154173ff808e75bf55"
   }
  }
 },
 "nbformat": 4,
 "nbformat_minor": 2
}
