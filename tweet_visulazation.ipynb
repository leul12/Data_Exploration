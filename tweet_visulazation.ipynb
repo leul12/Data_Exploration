{
 "cells": [
  {
   "attachments": {},
   "cell_type": "markdown",
   "metadata": {},
   "source": [
    "# **WElCOME TO PART TWO** 🖼️"
   ]
  },
  {
   "attachments": {},
   "cell_type": "markdown",
   "metadata": {},
   "source": [
    "## let's import all the make ups that we need to beautify our ugly bride 💄"
   ]
  },
  {
   "cell_type": "code",
   "execution_count": 1,
   "metadata": {},
   "outputs": [],
   "source": [
    "import pandas as pd\n",
    "import numpy as np\n",
    "from datetime import datetime\n",
    "import datetime\n",
    "import time\n",
    "import plotly.graph_objects as go\n",
    "import seaborn as sns\n",
    "import matplotlib.pyplot as plt"
   ]
  },
  {
   "attachments": {},
   "cell_type": "markdown",
   "metadata": {},
   "source": [
    "## now that we have that out of the way time to load the data and 🔬"
   ]
  },
  {
   "cell_type": "code",
   "execution_count": 3,
   "metadata": {},
   "outputs": [
    {
     "name": "stdout",
     "output_type": "stream",
     "text": [
      "<class 'pandas.core.frame.DataFrame'>\n",
      "RangeIndex: 3000 entries, 0 to 2999\n",
      "Data columns (total 29 columns):\n",
      " #   Column                 Non-Null Count  Dtype \n",
      "---  ------                 --------------  ----- \n",
      " 0   url                    3000 non-null   object\n",
      " 1   rawContent             3000 non-null   object\n",
      " 2   id                     3000 non-null   int64 \n",
      " 3   replyCount             3000 non-null   int64 \n",
      " 4   retweetCount           3000 non-null   int64 \n",
      " 5   likeCount              3000 non-null   int64 \n",
      " 6   quoteCount             3000 non-null   int64 \n",
      " 7   conversationId         3000 non-null   int64 \n",
      " 8   lang                   3000 non-null   object\n",
      " 9   source                 3000 non-null   object\n",
      " 10  sourceLabel            3000 non-null   object\n",
      " 11  username               3000 non-null   object\n",
      " 12  verified               3000 non-null   bool  \n",
      " 13  created                3000 non-null   object\n",
      " 14  followersCount         3000 non-null   int64 \n",
      " 15  friendsCount           3000 non-null   int64 \n",
      " 16  protected              3000 non-null   bool  \n",
      " 17  label.description      9 non-null      object\n",
      " 18  label.url              4 non-null      object\n",
      " 19  label.badgeUrl         9 non-null      object\n",
      " 20  label.longDescription  5 non-null      object\n",
      " 21  date_day               3000 non-null   int64 \n",
      " 22  date_month             3000 non-null   int64 \n",
      " 23  date_WeekDay           3000 non-null   int64 \n",
      " 24  date_Quarter           3000 non-null   int64 \n",
      " 25  date_year              3000 non-null   int64 \n",
      " 26  Tweet time             3000 non-null   object\n",
      " 27  monthname              3000 non-null   object\n",
      " 28  dayname                3000 non-null   object\n",
      "dtypes: bool(2), int64(13), object(14)\n",
      "memory usage: 638.8+ KB\n"
     ]
    }
   ],
   "source": [
    "df = pd.read_csv('vaccine.csv')\n",
    "df.info()"
   ]
  },
  {
   "attachments": {},
   "cell_type": "markdown",
   "metadata": {},
   "source": [
    "## might it have some null values 🤔"
   ]
  },
  {
   "cell_type": "code",
   "execution_count": 4,
   "metadata": {},
   "outputs": [
    {
     "data": {
      "text/plain": [
       "url                         0\n",
       "rawContent                  0\n",
       "id                          0\n",
       "replyCount                  0\n",
       "retweetCount                0\n",
       "likeCount                   0\n",
       "quoteCount                  0\n",
       "conversationId              0\n",
       "lang                        0\n",
       "source                      0\n",
       "sourceLabel                 0\n",
       "username                    0\n",
       "verified                    0\n",
       "created                     0\n",
       "followersCount              0\n",
       "friendsCount                0\n",
       "protected                   0\n",
       "label.description        2991\n",
       "label.url                2996\n",
       "label.badgeUrl           2991\n",
       "label.longDescription    2995\n",
       "date_day                    0\n",
       "date_month                  0\n",
       "date_WeekDay                0\n",
       "date_Quarter                0\n",
       "date_year                   0\n",
       "Tweet time                  0\n",
       "monthname                   0\n",
       "dayname                     0\n",
       "dtype: int64"
      ]
     },
     "execution_count": 4,
     "metadata": {},
     "output_type": "execute_result"
    }
   ],
   "source": [
    "df.isna().sum()"
   ]
  },
  {
   "attachments": {},
   "cell_type": "markdown",
   "metadata": {},
   "source": [
    "#### as suspected `label.description label.url label.badgeUrl label.longDescription` caught but I am not going to do nothing to them since they don't mean sheet "
   ]
  }
 ],
 "metadata": {
  "kernelspec": {
   "display_name": "Python 3",
   "language": "python",
   "name": "python3"
  },
  "language_info": {
   "codemirror_mode": {
    "name": "ipython",
    "version": 3
   },
   "file_extension": ".py",
   "mimetype": "text/x-python",
   "name": "python",
   "nbconvert_exporter": "python",
   "pygments_lexer": "ipython3",
   "version": "3.9.6"
  },
  "orig_nbformat": 4,
  "vscode": {
   "interpreter": {
    "hash": "1d5c1156327dacead463cc502c55ebae8ce9c8c01979cf154173ff808e75bf55"
   }
  }
 },
 "nbformat": 4,
 "nbformat_minor": 2
}
